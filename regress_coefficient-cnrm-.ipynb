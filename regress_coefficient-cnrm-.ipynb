{
 "cells": [
  {
   "cell_type": "code",
   "execution_count": 1,
   "id": "delayed-insight",
   "metadata": {
    "tags": []
   },
   "outputs": [],
   "source": [
    "#..modified by CHUYAN at Sep10-2021; calculate binned P-E/SST /subsidence and LTS and LWP array in Models: IPSL_CM6A_LR\n",
    "#..(annual-mean, binned 5X5degree, area-mean data,)\n",
    "\n",
    "import netCDF4\n",
    "import numpy as np\n",
    "import matplotlib.pyplot as plt\n",
    "import xarray as xr\n",
    "import PyNIO as Nio\n",
    "import pandas as pd\n",
    "\n",
    "\n",
    "from scipy import stats\n",
    "from sklearn.linear_model import LinearRegression"
   ]
  },
  {
   "cell_type": "code",
   "execution_count": 16,
   "id": "093b6104-a906-47e8-9c32-2126bae6cf86",
   "metadata": {},
   "outputs": [],
   "source": [
    "#..retrieve variables in pi-control\n",
    "#..SST\n",
    "fpath_ts    = '/glade/collections/cmip/CMIP6/CMIP/CNRM-CERFACS/CNRM-ESM2-1/piControl/r1i1p1f2/Amon/ts/gr/v20181115/ts/ts_Amon_CNRM-ESM2-1_piControl_r1i1p1f2_gr_185001-234912.nc' \n",
    "#..surface Temperature & Pressure\n",
    "fpath_ps    = '/glade/collections/cmip/CMIP6/CMIP/CNRM-CERFACS/CNRM-ESM2-1/piControl/r1i1p1f2/Amon/ps/gr/v20181115/ps/ps_Amon_CNRM-ESM2-1_piControl_r1i1p1f2_gr_185001-234912.nc'\n",
    "fpath_tas   = '/glade/collections/cmip/CMIP6/CMIP/CNRM-CERFACS/CNRM-ESM2-1/piControl/r1i1p1f2/Amon/tas/gr/v20181115/tas/tas_Amon_CNRM-ESM2-1_piControl_r1i1p1f2_gr_185001-234912.nc'\n",
    "#..temperature at levels\n",
    "fpath_ta    = '/glade/collections/cmip/CMIP6/CMIP/CNRM-CERFACS/CNRM-ESM2-1/piControl/r1i1p1f2/Amon/ta/gr/v20181115/ta/ta_Amon_CNRM-ESM2-1_piControl_r1i1p1f2_gr_185001-234912.nc'\n",
    "#..liquid water path\n",
    "fpath_clivi = '/glade/collections/cmip/CMIP6/CMIP/CNRM-CERFACS/CNRM-ESM2-1/piControl/r1i1p1f2/Amon/clivi/gr/v20181115/clivi/clivi_Amon_CNRM-ESM2-1_piControl_r1i1p1f2_gr_185001-234912.nc'\n",
    "fpath_clwvi = '/glade/collections/cmip/CMIP6/CMIP/CNRM-CERFACS/CNRM-ESM2-1/piControl/r1i1p1f2/Amon/clwvi/gr/v20181115/clwvi/clwvi_Amon_CNRM-ESM2-1_piControl_r1i1p1f2_gr_185001-234912.nc'\n",
    "#..subsidence\n",
    "fpath_wap   = '/glade/collections/cmip/CMIP6/CMIP/CNRM-CERFACS/CNRM-ESM2-1/piControl/r1i1p1f2/Amon/wap/gr/v20181115/wap/wap_Amon_CNRM-ESM2-1_piControl_r1i1p1f2_gr_185001-209912.nc'\n",
    "#..precipitation flux and water evaporation flux\n",
    "fpath_p     = '/glade/collections/cmip/CMIP6/CMIP/CNRM-CERFACS/CNRM-ESM2-1/piControl/r1i1p1f2/Amon/pr/gr/v20181115/pr/pr_Amon_CNRM-ESM2-1_piControl_r1i1p1f2_gr_185001-234912.nc'\n",
    "fpath_e     = '/glade/collections/cmip/CMIP6/CMIP/CNRM-CERFACS/CNRM-ESM2-1/piControl/r1i1p1f2/Amon/evspsbl/gr/v20181115/evspsbl/evspsbl_Amon_CNRM-ESM2-1_piControl_r1i1p1f2_gr_185001-209912.nc'\n",
    "\n",
    "f_ts        = netCDF4.Dataset(fpath_ts,'r')\n",
    "f_ta        = netCDF4.Dataset(fpath_ta,'r')\n",
    "f_tas       = netCDF4.Dataset(fpath_tas,'r')\n",
    "f_ps        = netCDF4.Dataset(fpath_ps,'r')\n",
    "f_wap       = netCDF4.Dataset(fpath_wap,'r')\n",
    "f_clivi     = netCDF4.Dataset(fpath_clivi,'r')\n",
    "f_clwvi     = netCDF4.Dataset(fpath_clwvi,'r')\n",
    "\n",
    "f_pr        = netCDF4.Dataset(fpath_p, 'r')\n",
    "f_ev        = netCDF4.Dataset(fpath_e, 'r')\n",
    "\n",
    "lons        = f_ts.variables['lon'][:]\n",
    "lats        = f_ts.variables['lat'][:]\n",
    "times       = f_wap.variables['time']   #..6000 months -> 500 years\n",
    "\n",
    "\n",
    "levels      = f_ta.variables['plev']\n",
    "#print(levels)"
   ]
  },
  {
   "cell_type": "code",
   "execution_count": 17,
   "id": "901f971b-e6d4-4da9-b384-f92c60f3f598",
   "metadata": {
    "tags": []
   },
   "outputs": [
    {
     "name": "stdout",
     "output_type": "stream",
     "text": [
      "(6000,)\n"
     ]
    }
   ],
   "source": [
    "lonsipsl        = f_ts.variables['lon'][:]\n",
    "latsipsl        = f_ts.variables['lat'][:]\n",
    "timesipsl      = f_ts.variables['time']\n",
    "\n",
    "levelsipsl      = f_ta.variables['plev']\n",
    "\n",
    "print(timesipsl.shape)"
   ]
  },
  {
   "cell_type": "code",
   "execution_count": 20,
   "id": "db6efa55-485d-4fba-a464-7a27c34140e3",
   "metadata": {},
   "outputs": [
    {
     "name": "stdout",
     "output_type": "stream",
     "text": [
      "(3000, 128, 256)\n"
     ]
    }
   ],
   "source": [
    "\n",
    "#..choose lat 40-85S as the southern Ocean region\n",
    "lati0 = -40.\n",
    "latsi0= min(range(len(lats)), key = lambda i: abs(lats[i] - lati0))\n",
    "lati1 = -85.\n",
    "latsi1= min(range(len(lats)), key = lambda i: abs(lats[i] - lati1))\n",
    "\n",
    "\n",
    "sfc_T       = f_ts.variables['ts'][:3000, :, :]   #..T_skin, also as SST, shape in (6000, 128, 256), units in K\n",
    "T_700        = f_ta.variables['ta'][:3000, 3,:,:]\n",
    "sfc_P       = f_ps.variables['ps'][:3000, :, :]   #..Units in Pa\n",
    "sub         = f_wap.variables['wap'][:, 5,:,:]    #..500mb downward motions\n",
    "clivi       = f_clivi.variables['clivi'][:3000, :, :]   #..Units in kg m^-2\n",
    "clwvi       = f_clwvi.variables['clwvi'][:3000, :, :]\n",
    "tas         = f_tas.variables['tas'][:3000, :, :]   #..2-m air Temperature, for 'gmt'\n",
    "\n",
    "P           = f_pr.variables['pr'][:3000, :, :]   #..Units in kg m^-2 s^-1 = mm *s^-1\n",
    "E           = f_ev.variables['evspsbl']\n",
    "print(sfc_T.shape)"
   ]
  },
  {
   "cell_type": "code",
   "execution_count": 21,
   "id": "4e74202c-eb22-42cc-b87e-0bcf0475a799",
   "metadata": {},
   "outputs": [
    {
     "name": "stdout",
     "output_type": "stream",
     "text": [
      "(3000, 128, 256)\n",
      "3 35\n"
     ]
    }
   ],
   "source": [
    "print(sub.shape)\n",
    "print(latsi1, latsi0)"
   ]
  },
  {
   "cell_type": "code",
   "execution_count": 23,
   "id": "consecutive-convertible",
   "metadata": {},
   "outputs": [
    {
     "name": "stdout",
     "output_type": "stream",
     "text": [
      "2.407819\n",
      "2.2076936\n",
      "(3000, 128, 256)\n"
     ]
    }
   ],
   "source": [
    "Precip =  np.array(P) * (24.*60.*60.)   #..Precipitation. Convert the units from kg m^-2 s^-1 -> mm*day^-1\n",
    "print(np.nanmean(Precip))   #..CESM2..2.388/ IPSL..2.43/ CNRM..2.41\n",
    "Eva    =  np.array(E) * (24.*60.*60.)   #..evaporation, mm day^-1\n",
    "print(np.nanmean(Eva))         #..CESM2..2.169/ IPSL..2.21/  CNRM..2.21\n",
    "print(Eva.shape)"
   ]
  },
  {
   "cell_type": "code",
   "execution_count": 24,
   "id": "67213d66-ddc8-443d-8db2-264ac59d7b30",
   "metadata": {},
   "outputs": [],
   "source": [
    "#..Variables: LWP, tas(gmt), SST, p-e, LTS, subsidence\n",
    "LWP  = np.array(clwvi) - np.array(clivi)   #..units in kg m^-2\n",
    "\n",
    "gmt  = np.array(tas)\n",
    "\n",
    "SST  = np.array(sfc_T)\n",
    "\n",
    "MC  = Precip-Eva   #..Moisture Convergence calculated from P - E, Units in mm day^-1\n",
    "\n",
    "Twp  = np.array(clwvi)\n",
    "Iwp  = np.array(clivi)"
   ]
  },
  {
   "cell_type": "code",
   "execution_count": 25,
   "id": "5286b4ce-c0e0-403a-9860-761086c80c00",
   "metadata": {},
   "outputs": [],
   "source": [
    "#..Lower Troposphere Stability\n",
    "k  = 0.286\n",
    "theta_700  = np.array(T_700)* (100000./70000.)**k\n",
    "\n",
    "#print(theta_700)\n",
    "\n",
    "theta_skin = np.array(sfc_T)* (100000./np.array(sfc_P))**k\n",
    "LTS_m  = theta_700 - theta_skin\n",
    "\n",
    "#..Subtract the outliers in T_700 and LTS_m\n",
    "LTS_e  = np.ma.masked_where(theta_700 >= 500, LTS_m)\n",
    "#print(LTS_e, LTS_m)\n",
    "\n",
    "#..Subsidence, units in Pa s^-1 at 500 hPa\n",
    "Subsidence =  np.array(sub)\n"
   ]
  },
  {
   "cell_type": "code",
   "execution_count": 26,
   "id": "8a6ecdde-b493-45a1-9093-658561d8d1a2",
   "metadata": {},
   "outputs": [
    {
     "name": "stdout",
     "output_type": "stream",
     "text": [
      "(250, 32, 256)\n"
     ]
    }
   ],
   "source": [
    "#..Convert variables becoming Annual-mean, Southern-Ocean region arrays\n",
    "\n",
    "Tg  = np.zeros((250,128,256))   #..Surface air Temperature, GMT; need to be attention for the dimensions!!\n",
    "LWP_yr  = np.zeros((250,32,256))\n",
    "\n",
    "p_e_yr  = np.zeros((250,32,256))\n",
    "SST_yr  = np.zeros((250,32,256))\n",
    "SUB_yr  = np.zeros((250,32,256))\n",
    "LTS_yr  = np.zeros((250,32,256))\n",
    "TWP_yr  = np.zeros((250,32,256))\n",
    "IWP_yr  = np.zeros((250,32,256))\n",
    "#..annual mean data 250L32, Tg and CCFs\n",
    "\n",
    "for i in range(0, 250):     #..pay attention to the shape\n",
    "    Tg[i,:,:]     = np.nanmean(gmt[i*12:(i+1)*12,:,:], axis=0)\n",
    "    LWP_yr[i,:,:]  = np.nanmean(LWP[i*12:(i+1)*12, latsi1:latsi0,:], axis=0)\n",
    "    p_e_yr[i,:,:] = np.nanmean(MC[i*12:(i+1)*12, latsi1:latsi0,:], axis=0)\n",
    "    SST_yr[i,:,:]    = np.nanmean(SST[i*12:(i+1)*12, latsi1:latsi0,:], axis=0)\n",
    "    \n",
    "    LTS_yr[i,:,:]    = np.nanmean(LTS_e[i*12:(i+1)*12, latsi1:latsi0,:], axis=0)\n",
    "    SUB_yr[i,:,:]    = np.nanmean(Subsidence[i*12:(i+1)*12, latsi1:latsi0,:], axis=0)\n",
    "\n",
    "    TWP_yr[i,:,:]  = np.nanmean(Twp[i*12:(i+1)*12, latsi1:latsi0, :], axis=0)\n",
    "    IWP_yr[i,:,:]  = np.nanmean(Iwp[i*12:(i+1)*12, latsi1:latsi0, :], axis=0)\n",
    "\n",
    "print(LWP_yr.shape)\n",
    "#print(lat_array.shape,lon_array)"
   ]
  },
  {
   "cell_type": "code",
   "execution_count": 27,
   "id": "06aaaad0-7056-4449-86e0-645b65616337",
   "metadata": {},
   "outputs": [
    {
     "name": "stdout",
     "output_type": "stream",
     "text": [
      "(10,) 73 10\n"
     ]
    }
   ],
   "source": [
    "#..set bin boxes's lat/lon range\n",
    "\n",
    "x_range  = np.arange(0., 364, 5.)   #..number:73\n",
    "y_range  = np.arange(-85., -35, 5.)   #..number 40 S - 85 S(10)\n",
    "xbins, ybins = len(x_range), len(y_range)\n",
    "\n",
    "print(y_range.shape, xbins, ybins)\n"
   ]
  },
  {
   "cell_type": "code",
   "execution_count": 28,
   "id": "fdd85e35-e03c-4a3b-92a3-2611b0714941",
   "metadata": {
    "tags": []
   },
   "outputs": [],
   "source": [
    "def binned_cySouthOcean5(S, lat, lon):\n",
    "    '''\n",
    "    Calculate the binned array for the mean value within 5X5 degree Bin Boxes\n",
    "    '''\n",
    "\n",
    "    XX, YY  = np.meshgrid(lon, lat, indexing='xy')\n",
    "    #..Southern Ocean region from 85S 40S\n",
    "    x_range  = np.arange(0., 364, 5.)   #..number:73\n",
    "    y_range  = np.arange(-85., -35, 5.)   #.. (10)\n",
    "    \n",
    "    xbins, ybins = len(x_range), len(y_range)\n",
    "    \n",
    "    S_binned_array  = np.zeros((S.shape[0],ybins,xbins))\n",
    "    \n",
    "    for i in np.arange(S.shape[0]):\n",
    "        S_time_step  = S[i,:,:]\n",
    "        \n",
    "        #..find and subtract the missing points\n",
    "        ind =  np.isnan(S[i,:,:])==False\n",
    "        S_binned_time , xedge, yedge, binnumber  = stats.binned_statistic_2d(XX[ind].ravel(),YY[ind].ravel(), values = S_time_step[ind].ravel(),\n",
    "                                                                            statistic ='mean', bins=[xbins, ybins], expand_binnumbers =True)\n",
    "        \n",
    "        S_binned_array[i,:,:] = S_binned_time.T\n",
    "    \n",
    "    return S_binned_array\n",
    "\n",
    "\n"
   ]
  },
  {
   "cell_type": "code",
   "execution_count": 29,
   "id": "9aeb812a-e3fe-4be0-a95c-5b06b818c36c",
   "metadata": {
    "tags": []
   },
   "outputs": [
    {
     "name": "stdout",
     "output_type": "stream",
     "text": [
      "(250, 10, 73)\n"
     ]
    }
   ],
   "source": [
    "#..Calculate 5*5 binned array for variables(LWP, ccfs) in Sounthern Ocean region\n",
    "\n",
    "lat_array  = lats[latsi1:latsi0]\n",
    "lon_array  = lons\n",
    "\n",
    "SST_yr_bin  = binned_cySouthOcean5(SST_yr, lat_array, lon_array)\n",
    "\n",
    "p_e_yr_bin  = binned_cySouthOcean5(p_e_yr, lat_array, lon_array)\n",
    "LWP_yr_bin  = binned_cySouthOcean5(LWP_yr, lat_array, lon_array)   #..shape in (250,10,73)\n",
    "\n",
    "LTS_yr_bin  = binned_cySouthOcean5(LTS_yr, lat_array, lon_array)\n",
    "SUB_yr_bin  = binned_cySouthOcean5(SUB_yr, lat_array, lon_array)\n",
    "TWP_yr_bin  = binned_cySouthOcean5(TWP_yr, lat_array, lon_array)\n",
    "IWP_yr_bin  = binned_cySouthOcean5(IWP_yr, lat_array, lon_array)\n",
    "print(SUB_yr_bin.shape)   #..(250,10,73)\n",
    "\n"
   ]
  },
  {
   "cell_type": "code",
   "execution_count": 31,
   "id": "ac203271-0f27-48bc-8333-5f31c3f22639",
   "metadata": {
    "tags": []
   },
   "outputs": [
    {
     "name": "stdout",
     "output_type": "stream",
     "text": [
      "nan 0.09838222629494137\n",
      "(182500,)\n",
      "(172324,)\n"
     ]
    }
   ],
   "source": [
    "#..Ravel binned array / Standardized data ARRAY:\n",
    "\n",
    "LWP_predi  = LWP_yr_bin.flatten() \n",
    "#LWP_predi =  (LWP_predi - np.mean(LWP_predi) )/np.std(LWP_predi)\n",
    "\n",
    "SST_predi  = SST_yr_bin.flatten()  \n",
    "#SST_predi =  (SST_predi - np.mean(SST_predi)) /np.std(SST_predi)\n",
    "\n",
    "p_e_predi =  p_e_yr_bin.flatten()\n",
    "#p_e_predi =  (p_e_predi - np.mean(p_e_predi)) /np.std(p_e_predi)\n",
    "\n",
    "LTS_predi  = LTS_yr_bin.flatten()\n",
    "#LTS_predi =  (LTS_predi - np.nanmean(LTS_predi)) /np.nanstd(LTS_predi)\n",
    "\n",
    "SUB_predi  = SUB_yr_bin.flatten()\n",
    "#SUB_predi  = (SUB_predi - np.mean(SUB_predi)) /np.std(SUB_predi)\n",
    "\n",
    "print(np.max(LTS_predi), np.max(SUB_predi))\n",
    "\n",
    "#..Subtract 'nan' in data, 182500 -> 172324points\n",
    "ind2 =  np.isnan(LTS_predi)==False   \n",
    "print(ind2.shape)\n",
    "\n",
    "print(LTS_predi[ind2].shape)"
   ]
  },
  {
   "cell_type": "code",
   "execution_count": 32,
   "id": "2b61e5f3-b391-4848-9c0b-3e50541822ac",
   "metadata": {},
   "outputs": [
    {
     "name": "stdout",
     "output_type": "stream",
     "text": [
      "[[ 2.27299127e+02  2.25875827e+02  2.24547025e+02 ...  2.81989733e+02\n",
      "   2.83161079e+02  2.83046036e+02]\n",
      " [ 1.88861680e-01  1.96244704e-01  1.64618037e-01 ...  1.39505855e+00\n",
      "   9.16039966e-01  1.36115506e+00]\n",
      " [ 1.64249300e+01  1.32596234e+01  1.05239451e+01 ...  1.20657334e+01\n",
      "   1.11327767e+01  1.15025149e+01]\n",
      " [ 1.81724136e-02  1.64427246e-02  1.29272905e-02 ... -5.76080809e-03\n",
      "  -1.05389579e-02 -1.15317639e-02]]\n",
      "(4, 172324)\n"
     ]
    }
   ],
   "source": [
    "#..Remove abnormal and missing_values:\n",
    "\n",
    "X  = np.array([SST_predi[ind2], p_e_predi[ind2] ,LTS_predi[ind2], SUB_predi[ind2]])\n",
    "\n",
    "print(X)\n",
    "print(X.shape)\n",
    "\n",
    "X2  = np.array([SST_predi[ind2], p_e_predi[ind2]])"
   ]
  },
  {
   "cell_type": "code",
   "execution_count": 33,
   "id": "7c3adaa7-ddc4-4273-ad20-46e05120a026",
   "metadata": {},
   "outputs": [
    {
     "name": "stdout",
     "output_type": "stream",
     "text": [
      "[ 0.00110599  0.01115317 -0.00063865  0.28875541]\n",
      "-0.2621665010984304\n"
     ]
    }
   ],
   "source": [
    "#..Multiple linear regreesion of Liquid water path(lwp) to (CCF)Cloud Controlling Factors:\n",
    "\n",
    "result1 = LinearRegression().fit(X.T, LWP_predi[ind2])\n",
    "\n",
    "print(result1.coef_)\n",
    "print(result1.intercept_)\n",
    "\n",
    "#result1.score(X.T, LWP_predi[ind2])\n",
    "\n",
    "\n",
    "#result1.predict()"
   ]
  },
  {
   "cell_type": "code",
   "execution_count": 34,
   "id": "472d27fe-843a-4e78-bf32-5be876042ba5",
   "metadata": {},
   "outputs": [],
   "source": [
    "coef1  = result1.coef_\n",
    "np.save('sensitivity_4ccfs_cnrm.npy', coef1)\n",
    "\n",
    "intercept1  = result1.intercept_\n",
    "np.save('intercept1_cnrm.npy', intercept1)\n"
   ]
  },
  {
   "cell_type": "code",
   "execution_count": 36,
   "id": "9d158e67-1212-4047-9ec4-a016b6ea3911",
   "metadata": {},
   "outputs": [
    {
     "name": "stdout",
     "output_type": "stream",
     "text": [
      "[ 0.0022244   0.01740707 -0.00166793  0.02882105]   [ 0.00110599  0.01115317 -0.00063865  0.28875541]\n"
     ]
    }
   ],
   "source": [
    "aeffi  = np.load('sensitivity_4ccfs.npy')\n",
    "beffi  = np.load('sensitivity_4ccfs_cnrm.npy')\n",
    "print(aeffi, ' ',beffi)"
   ]
  },
  {
   "cell_type": "code",
   "execution_count": 37,
   "id": "a6b1d4d1-0a3f-48a2-a10f-4fa96b09821a",
   "metadata": {},
   "outputs": [
    {
     "name": "stdout",
     "output_type": "stream",
     "text": [
      "[0.00107793 0.00784117]\n",
      "-0.26046431715098445\n"
     ]
    },
    {
     "data": {
      "text/plain": [
       "0.7907803152397225"
      ]
     },
     "execution_count": 37,
     "metadata": {},
     "output_type": "execute_result"
    }
   ],
   "source": [
    "#..Multiple linear regreesion of Liquid water path to CCF Cloud Controlling Factors:\n",
    "\n",
    "result2 = LinearRegression().fit(X2.T, LWP_predi[ind2])\n",
    "print(result2.coef_)\n",
    "print(result2.intercept_)\n",
    "\n",
    "result2.score(X2.T, LWP_predi[ind2])"
   ]
  },
  {
   "cell_type": "code",
   "execution_count": 39,
   "id": "a3d25a89-4dc3-46a4-bbd6-86a6fa0616d1",
   "metadata": {},
   "outputs": [],
   "source": [
    "coef2  = result2.coef_\n",
    "np.save('sensitivity_2ccfs_cnrm.npy', coef2)"
   ]
  },
  {
   "cell_type": "code",
   "execution_count": 22,
   "id": "59023065-fa8e-4834-9e86-60a9d4af63f9",
   "metadata": {},
   "outputs": [],
   "source": []
  },
  {
   "cell_type": "code",
   "execution_count": 41,
   "id": "57cbf675-a81f-4e80-9def-3c3579f1d300",
   "metadata": {},
   "outputs": [
    {
     "name": "stdout",
     "output_type": "stream",
     "text": [
      "(1, 172324)\n",
      "(182500,)\n"
     ]
    },
    {
     "data": {
      "image/png": "[encoded data removed]",
      "text/plain": [
       "<Figure size 748.8x525.6 with 1 Axes>"
      ]
     },
     "metadata": {
      "needs_background": "light"
     },
     "output_type": "display_data"
    }
   ],
   "source": [
    "#..draw the plot for 'pi-Cont' experiment's LWP and the predicted LWP from linear Regression Model trained in 'pi-control'\n",
    "\n",
    "fig2  = plt.figure(figsize = (10.4, 7.3))\n",
    "ax2  = plt.axes()\n",
    "\n",
    "\n",
    "apt  = np.dot(beffi.reshape(1, -1), X)\n",
    "cpt  = apt + intercept1\n",
    "plt.scatter(cpt.flatten(), LWP_predi[ind2], c  = 'b')\n",
    "\n",
    "print(cpt.shape)\n",
    "print(LWP_predi.shape)\n",
    "\n",
    "#..Add reference LINE\n",
    "x  = np.linspace(-0.09, 0.37, 50)\n",
    "y  = x\n",
    "plt.plot(x, y, color='k', linewidth =2, linestyle =  'dashed')\n",
    "\n",
    "#plt.ylim((0.105, 0.121))\n",
    "\n",
    "\n",
    "plt.xlabel('LWP_Regressed$|_{pi-Control}$')\n",
    "plt.ylabel('True LWP$|_{pi-Control}$')\n",
    "plt.title(\"LWP in pi-Control experiement of CNRM-ESM-2\")\n",
    "\n",
    "\n",
    "plt.savefig(\"LWP_distribution_CNRM.png\")\n",
    "\n"
   ]
  },
  {
   "cell_type": "code",
   "execution_count": null,
   "id": "512aed44-20ec-4d12-92f7-7a90bb64bc99",
   "metadata": {},
   "outputs": [],
   "source": []
  },
  {
   "cell_type": "code",
   "execution_count": null,
   "id": "db21a2a3-6ba5-4413-85f9-0c9a83e4d11b",
   "metadata": {},
   "outputs": [],
   "source": []
  },
  {
   "cell_type": "code",
   "execution_count": 23,
   "id": "attended-parish",
   "metadata": {},
   "outputs": [],
   "source": [
    "#..Test..\n",
    "X = np.array([[1, 1], [1, 2], [2, 2], [2, 3]])\n",
    "\n",
    "x1 = np.random.normal(0.,1.,size=100,)\n",
    "\n",
    "a =  0.8\n",
    "b =  np.sqrt(1. - a**2)\n",
    "x2 =  []"
   ]
  },
  {
   "cell_type": "code",
   "execution_count": 24,
   "id": "instant-democracy",
   "metadata": {},
   "outputs": [
    {
     "name": "stdout",
     "output_type": "stream",
     "text": [
      "[[3. 1.]\n",
      " [2. 1.]]\n"
     ]
    },
    {
     "data": {
      "text/plain": [
       "array([[1, 2, 1, 2, 1, 1, 2],\n",
       "       [1, 2, 1, 1, 2, 1, 1]])"
      ]
     },
     "execution_count": 24,
     "metadata": {},
     "output_type": "execute_result"
    }
   ],
   "source": [
    "x = [0.1, 0.55, 0.1, 0.6, 0.1,0.3, 0.6]\n",
    "y = [2.1, 2.6, 2.1, 2.1,  2.6,2.3 , 2.3]\n",
    "binx = [0.0, 0.5, 1.0]\n",
    "biny = [2.0, 2.5, 3.0]\n",
    "ret = stats.binned_statistic_2d(x, y, None, 'count', bins=[binx, biny], expand_binnumbers = True)\n",
    "\n",
    "print(ret.statistic)\n",
    "ret.binnumber"
   ]
  }
 ],
 "metadata": {
  "kernelspec": {
   "display_name": "NPL-3.7.9",
   "language": "python",
   "name": "npl-3.7.9"
  },
  "language_info": {
   "codemirror_mode": {
    "name": "ipython",
    "version": 3
   },
   "file_extension": ".py",
   "mimetype": "text/x-python",
   "name": "python",
   "nbconvert_exporter": "python",
   "pygments_lexer": "ipython3",
   "version": "3.7.9"
  }
 },
 "nbformat": 4,
 "nbformat_minor": 5
}
