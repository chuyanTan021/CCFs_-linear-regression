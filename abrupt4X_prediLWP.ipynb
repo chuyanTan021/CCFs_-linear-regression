{
 "cells": [
  {
   "cell_type": "code",
   "execution_count": 1,
   "id": "delayed-insight",
   "metadata": {},
   "outputs": [],
   "source": [
    "#..modified by CHUYAN at August/25/2021; calculate binned P-E/SST/subsidence/ LTS and LWP array; (annual-mean, binned 5X5degree, area-mean \n",
    "#..data, standardized data) for abrupt4XCO2 experiment, then use the sensitivity of LWP to CCFs to get a Linear regression model to predict\n",
    "#..d(LWP)/dGMT..\n",
    "\n",
    "import netCDF4\n",
    "import numpy as np\n",
    "import matplotlib.pyplot as plt\n",
    "import xarray as xr\n",
    "import PyNIO as Nio\n",
    "import pandas as pd\n",
    "\n",
    "from scipy import stats\n",
    "from sklearn import linear_model"
   ]
  },
  {
   "cell_type": "code",
   "execution_count": 2,
   "id": "093b6104-a906-47e8-9c32-2126bae6cf86",
   "metadata": {},
   "outputs": [],
   "source": [
    "#..retrieve variables in abrupt-4xCO2 experiment\n",
    "\n",
    "fpath_abr_ts    = '/glade/collections/cmip/CMIP6/CMIP/NCAR/CESM2/abrupt-4xCO2/r1i1p1f1/Amon/ts/gn/latest/ts_Amon_CESM2_abrupt-4xCO2_r1i1p1f1_gn_000101-015012.nc'\n",
    "fpath_abr_ta    = '/glade/collections/cmip/CMIP6/CMIP/NCAR/CESM2/abrupt-4xCO2/r1i1p1f1/Amon/ta/gn/latest/ta_Amon_CESM2_abrupt-4xCO2_r1i1p1f1_gn_000101-015012.nc'\n",
    "fpath_abr_ps    = '/glade/collections/cmip/CMIP6/CMIP/NCAR/CESM2/abrupt-4xCO2/r1i1p1f1/Amon/ps/gn/latest/ps_Amon_CESM2_abrupt-4xCO2_r1i1p1f1_gn_000101-015012.nc'\n",
    "fpath_abr_wap   = '/glade/collections/cmip/CMIP6/CMIP/NCAR/CESM2/abrupt-4xCO2/r1i1p1f1/Amon/wap/gn/latest/wap_Amon_CESM2_abrupt-4xCO2_r1i1p1f1_gn_000101-015012.nc'\n",
    "fpath_abr_clivi = '/glade/collections/cmip/CMIP6/CMIP/NCAR/CESM2/abrupt-4xCO2/r1i1p1f1/Amon/clivi/gn/latest/clivi_Amon_CESM2_abrupt-4xCO2_r1i1p1f1_gn_000101-015012.nc'\n",
    "fpath_abr_clwvi = '/glade/collections/cmip/CMIP6/CMIP/NCAR/CESM2/abrupt-4xCO2/r1i1p1f1/Amon/clwvi/gn/latest/clwvi_Amon_CESM2_abrupt-4xCO2_r1i1p1f1_gn_000101-015012.nc'\n",
    "fpath_abr_tas   = '/glade/collections/cmip/CMIP6/CMIP/NCAR/CESM2/abrupt-4xCO2/r1i1p1f1/Amon/tas/gn/latest/tas_Amon_CESM2_abrupt-4xCO2_r1i1p1f1_gn_000101-015012.nc'\n",
    "\n",
    "fpath_p     = '/glade/collections/cdg/data/CMIP6/CMIP/NCAR/CESM2/abrupt-4xCO2/r1i1p1f1/Amon/pr/gn/v20190927/pr_Amon_CESM2_abrupt-4xCO2_r1i1p1f1_gn_000101-015012.nc'\n",
    "fpath_e     = '/glade/collections/cdg/data/CMIP6/CMIP/NCAR/CESM2/abrupt-4xCO2/r1i1p1f1/Amon/evspsbl/gn/v20190927/evspsbl_Amon_CESM2_abrupt-4xCO2_r1i1p1f1_gn_000101-015012.nc'\n",
    "\n",
    "\n",
    "f_ts        = netCDF4.Dataset(fpath_abr_ts,'r')\n",
    "f_ta        = netCDF4.Dataset(fpath_abr_ta,'r')\n",
    "f_tas       = netCDF4.Dataset(fpath_abr_tas,'r')\n",
    "f_ps        = netCDF4.Dataset(fpath_abr_ps,'r')\n",
    "f_wap       = netCDF4.Dataset(fpath_abr_wap,'r')\n",
    "f_clivi     = netCDF4.Dataset(fpath_abr_clivi,'r')\n",
    "f_clwvi     = netCDF4.Dataset(fpath_abr_clwvi,'r')\n",
    "\n",
    "f_pr        = netCDF4.Dataset(fpath_p, 'r')\n",
    "f_ev        = netCDF4.Dataset(fpath_e, 'r')\n",
    "\n",
    "lons        = f_ts.variables['lon'][:]\n",
    "lats        = f_ts.variables['lat']\n",
    "times       = f_ts.variables['time']\n",
    "\n",
    "\n",
    "levels      = f_ta.variables['plev']\n",
    "#print(levels)"
   ]
  },
  {
   "cell_type": "code",
   "execution_count": 3,
   "id": "db6efa55-485d-4fba-a464-7a27c34140e3",
   "metadata": {},
   "outputs": [
    {
     "name": "stderr",
     "output_type": "stream",
     "text": [
      "/glade/u/ssg/ch/usr/jupyterhub/envs/npl-3.7.9/cheyenne/lib/python3.7/site-packages/ipykernel_launcher.py:9: UserWarning: WARNING: missing_value not used since it\n",
      "cannot be safely cast to variable data type\n",
      "  if __name__ == '__main__':\n"
     ]
    },
    {
     "name": "stdout",
     "output_type": "stream",
     "text": [
      "(1800, 192, 288)\n"
     ]
    },
    {
     "name": "stderr",
     "output_type": "stream",
     "text": [
      "/glade/u/ssg/ch/usr/jupyterhub/envs/npl-3.7.9/cheyenne/lib/python3.7/site-packages/ipykernel_launcher.py:12: UserWarning: WARNING: missing_value not used since it\n",
      "cannot be safely cast to variable data type\n",
      "  if sys.path[0] == '':\n"
     ]
    }
   ],
   "source": [
    "#..choose lat 40-85S as the Southern Ocean region\n",
    "lati0 = -40.\n",
    "latsi0= min(range(len(lats)), key = lambda i: abs(lats[i] - lati0))\n",
    "lati1 = -85.\n",
    "latsi1= min(range(len(lats)), key = lambda i: abs(lats[i] - lati1))\n",
    "\n",
    "\n",
    "sfc_T       = f_ts.variables['ts']   #..T_skin, also as SST, shape in (1800, 192, 288), units in K\n",
    "T_700       = f_ta.variables['ta'][:, 3,:,:]\n",
    "sfc_P       = f_ps.variables['ps']   #..Units in Pa, surface Pressure\n",
    "\n",
    "sub         = f_wap.variables['wap'][:, 5,:,:]    #..500mb downward motions\n",
    "clivi       = f_clivi.variables['clivi']   #..Units in kg m^-2\n",
    "clwvi       = f_clwvi.variables['clwvi']\n",
    "tas         = f_tas.variables['tas']   #..2-m air Temperature, for 'gmt'\n",
    "\n",
    "P           = f_pr.variables['pr']   #..Units in kg m^-2 s^-1 = mm *s^-1\n",
    "E           = f_ev.variables['evspsbl']\n",
    "print(sfc_T.shape)"
   ]
  },
  {
   "cell_type": "code",
   "execution_count": 4,
   "id": "cfd14042-c919-4604-b39a-14f89f818bba",
   "metadata": {},
   "outputs": [
    {
     "name": "stdout",
     "output_type": "stream",
     "text": [
      "(1800, 192, 288) (1800, 192, 288)\n",
      "(1800, 192, 288) (1800, 192, 288) (1800, 192, 288)\n"
     ]
    }
   ],
   "source": [
    "print(sfc_P.shape, T_700.shape)\n",
    "print(tas.shape, P.shape, E.shape)"
   ]
  },
  {
   "cell_type": "code",
   "execution_count": 5,
   "id": "consecutive-convertible",
   "metadata": {},
   "outputs": [
    {
     "name": "stderr",
     "output_type": "stream",
     "text": [
      "/glade/u/ssg/ch/usr/jupyterhub/envs/npl-3.7.9/cheyenne/lib/python3.7/site-packages/ipykernel_launcher.py:1: UserWarning: WARNING: missing_value not used since it\n",
      "cannot be safely cast to variable data type\n",
      "  \"\"\"Entry point for launching an IPython kernel.\n"
     ]
    },
    {
     "name": "stdout",
     "output_type": "stream",
     "text": [
      "2.737364\n"
     ]
    },
    {
     "name": "stderr",
     "output_type": "stream",
     "text": [
      "/glade/u/ssg/ch/usr/jupyterhub/envs/npl-3.7.9/cheyenne/lib/python3.7/site-packages/ipykernel_launcher.py:3: UserWarning: WARNING: missing_value not used since it\n",
      "cannot be safely cast to variable data type\n",
      "  This is separate from the ipykernel package so we can avoid doing imports until\n"
     ]
    },
    {
     "name": "stdout",
     "output_type": "stream",
     "text": [
      "2.4275806\n",
      "(1800, 192, 288)\n"
     ]
    }
   ],
   "source": [
    "Precip =  np.array(P) * (24.*60.*60.)   #..Precipitation. Convert the units from kg m^-2 s^-1 -> mm*day^-1\n",
    "print(np.nanmean(Precip))   #..2.74\n",
    "Eva    =  np.array(E) * (24.*60.*60.)   #..evaporation, mm day^-1\n",
    "print(np.nanmean(Eva))         #..2.43\n",
    "print(Eva.shape)   #..variable shape in (1800, 192, 288)\n"
   ]
  },
  {
   "cell_type": "code",
   "execution_count": 6,
   "id": "67213d66-ddc8-443d-8db2-264ac59d7b30",
   "metadata": {},
   "outputs": [
    {
     "name": "stderr",
     "output_type": "stream",
     "text": [
      "/glade/u/ssg/ch/usr/jupyterhub/envs/npl-3.7.9/cheyenne/lib/python3.7/site-packages/ipykernel_launcher.py:2: UserWarning: WARNING: missing_value not used since it\n",
      "cannot be safely cast to variable data type\n",
      "  \n",
      "/glade/u/ssg/ch/usr/jupyterhub/envs/npl-3.7.9/cheyenne/lib/python3.7/site-packages/ipykernel_launcher.py:3: UserWarning: WARNING: missing_value not used since it\n",
      "cannot be safely cast to variable data type\n",
      "  This is separate from the ipykernel package so we can avoid doing imports until\n",
      "/glade/u/ssg/ch/usr/jupyterhub/envs/npl-3.7.9/cheyenne/lib/python3.7/site-packages/ipykernel_launcher.py:4: UserWarning: WARNING: missing_value not used since it\n",
      "cannot be safely cast to variable data type\n",
      "  after removing the cwd from sys.path.\n",
      "/glade/u/ssg/ch/usr/jupyterhub/envs/npl-3.7.9/cheyenne/lib/python3.7/site-packages/ipykernel_launcher.py:7: UserWarning: WARNING: missing_value not used since it\n",
      "cannot be safely cast to variable data type\n",
      "  import sys\n",
      "/glade/u/ssg/ch/usr/jupyterhub/envs/npl-3.7.9/cheyenne/lib/python3.7/site-packages/ipykernel_launcher.py:8: UserWarning: WARNING: missing_value not used since it\n",
      "cannot be safely cast to variable data type\n",
      "  \n"
     ]
    }
   ],
   "source": [
    "\n",
    "#..Variables: LWP, tas(gmt), SST, p-e, LTS, subsidence\n",
    "LWP  = np.array(clwvi) - np.array(clivi)   #..units in kg m^-2\n",
    "gmt  = np.array(tas)\n",
    "SST  = np.array(sfc_T)\n",
    "MC  = Precip-Eva   #..Moisture Convergence calculated from P - E, Units in mm day^-1\n",
    "\n",
    "Twp  = np.array(clwvi)\n",
    "Iwp  = np.array(clivi)"
   ]
  },
  {
   "cell_type": "code",
   "execution_count": 7,
   "id": "5286b4ce-c0e0-403a-9860-761086c80c00",
   "metadata": {},
   "outputs": [
    {
     "name": "stderr",
     "output_type": "stream",
     "text": [
      "/glade/u/ssg/ch/usr/jupyterhub/envs/npl-3.7.9/cheyenne/lib/python3.7/site-packages/ipykernel_launcher.py:7: UserWarning: WARNING: missing_value not used since it\n",
      "cannot be safely cast to variable data type\n",
      "  import sys\n"
     ]
    }
   ],
   "source": [
    "#..Lower Troposphere Stability\n",
    "k  = 0.286\n",
    "theta_700  = np.array(T_700)* (100000./70000.)**k\n",
    "\n",
    "#print(theta_700)\n",
    "\n",
    "theta_skin = np.array(sfc_T)* (100000./np.array(sfc_P))**k\n",
    "LTS_m  = theta_700 - theta_skin\n",
    "\n",
    "#..Subtract the outliers in T_700 and LTS_m\n",
    "LTS_e  = np.ma.masked_where(theta_700 >= 500, LTS_m)\n",
    "#print(LTS_e, LTS_m)\n",
    "\n",
    "#..Subsidence, units in Pa s^-1 at 500 hPa\n",
    "Subsidence =  np.array(sub)"
   ]
  },
  {
   "cell_type": "code",
   "execution_count": 8,
   "id": "8a6ecdde-b493-45a1-9093-658561d8d1a2",
   "metadata": {},
   "outputs": [
    {
     "name": "stdout",
     "output_type": "stream",
     "text": [
      "(150, 192, 288) (150, 48, 288)\n"
     ]
    }
   ],
   "source": [
    "#..Convert variables becoming Annual-mean, Southern-Ocean region arrays\n",
    "\n",
    "Tg  = np.zeros((150,192,288))   #..Surface air Temperature, GMT\n",
    "LWP_yr  = np.zeros((150,48,288))\n",
    "\n",
    "p_e_yr  = np.zeros((150,48,288))\n",
    "SST_yr  = np.zeros((150,48,288))\n",
    "SUB_yr  = np.zeros((150,48,288))\n",
    "LTS_yr  = np.zeros((150,48,288))\n",
    "\n",
    "\n",
    "TWP_yr  = np.zeros((150,48,288))\n",
    "IWP_yr  = np.zeros((150,48,288))\n",
    "#..annual mean data of LWP, Tg and CCFs\n",
    "\n",
    "for i in range(0, 150):\n",
    "    Tg[i,:,:]     = np.nanmean(gmt[i*12:(i+1)*12,:,:], axis=0)\n",
    "    LWP_yr[i,:,:]  = np.nanmean(LWP[i*12:(i+1)*12, latsi1:latsi0,:], axis=0)\n",
    "    p_e_yr[i,:,:] = np.nanmean(MC[i*12:(i+1)*12, latsi1:latsi0,:], axis=0)\n",
    "    SST_yr[i,:,:]    = np.nanmean(SST[i*12:(i+1)*12, latsi1:latsi0,:], axis=0)\n",
    "    \n",
    "    LTS_yr[i,:,:]    = np.nanmean(LTS_e[i*12:(i+1)*12, latsi1:latsi0,:], axis=0)\n",
    "    SUB_yr[i,:,:]    = np.nanmean(Subsidence[i*12:(i+1)*12, latsi1:latsi0,:], axis=0)\n",
    "\n",
    "    TWP_yr[i,:,:]  = np.nanmean(Twp[i*12:(i+1)*12, latsi1:latsi0, :], axis=0)\n",
    "    IWP_yr[i,:,:]  = np.nanmean(Iwp[i*12:(i+1)*12, latsi1:latsi0, :], axis=0)\n",
    "print(Tg.shape, LTS_yr.shape)   #..shape in (150,48,288) or (150,192,288)\n",
    "\n"
   ]
  },
  {
   "cell_type": "code",
   "execution_count": 9,
   "id": "fdd85e35-e03c-4a3b-92a3-2611b0714941",
   "metadata": {
    "jupyter": {
     "source_hidden": true
    },
    "tags": []
   },
   "outputs": [],
   "source": [
    "def binned_cySouthOcean5(S, lat, lon):\n",
    "    '''\n",
    "    Calculate the binned array for the mean value within 5X5 degree Bin Boxes in SouthOcean REGION\n",
    "    '''\n",
    "\n",
    "    XX, YY  = np.meshgrid(lon, lat, indexing='xy')\n",
    "    #..Southern Ocean region from 85S 40S\n",
    "    x_range  = np.arange(0., 364, 5.)   #..number:73\n",
    "    y_range  = np.arange(-85., -35, 5.)   #.. (10)\n",
    "    \n",
    "    xbins, ybins = len(x_range), len(y_range)\n",
    "    \n",
    "    S_binned_array  = np.zeros((S.shape[0],ybins,xbins))\n",
    "    \n",
    "    for i in np.arange(S.shape[0]):\n",
    "        S_time_step  = S[i,:,:]\n",
    "        \n",
    "        #..find and subtract the missing points\n",
    "        ind =  np.isnan(S[i,:,:])==False\n",
    "        S_binned_time , xedge, yedge, binnumber  = stats.binned_statistic_2d(XX[ind].ravel(),YY[ind].ravel(), values = S_time_step[ind].ravel(),\n",
    "                                                                            statistic ='mean', bins=[xbins, ybins], expand_binnumbers =True)\n",
    "        \n",
    "        S_binned_array[i,:,:] = S_binned_time.T\n",
    "    \n",
    "    return S_binned_array\n"
   ]
  },
  {
   "cell_type": "code",
   "execution_count": 10,
   "id": "92c43874-7984-44c7-969e-da9e76dfb20a",
   "metadata": {
    "jupyter": {
     "source_hidden": true
    },
    "tags": []
   },
   "outputs": [],
   "source": [
    "def binned_cyGlobal5(S, lat, lon):\n",
    "    '''\n",
    "    Calculate the binned array for the mean value within 5X5 degree Bin Boxes in global REGION\n",
    "    '''\n",
    "\n",
    "    XX, YY  = np.meshgrid(lon, lat, indexing='xy')\n",
    "    #..Global region from 90S 90N\n",
    "    x_range  = np.arange(0., 364, 5.)   #..number:73\n",
    "    y_range  = np.arange(-90., 90, 5.)   #..(37)\n",
    "    \n",
    "    xbins, ybins = len(x_range), len(y_range)\n",
    "    \n",
    "    S_binned_array  = np.zeros((S.shape[0],ybins,xbins))\n",
    "    \n",
    "    for i in np.arange(S.shape[0]):\n",
    "        S_time_step  = S[i,:,:]\n",
    "        \n",
    "        #..find and subtract the missing points\n",
    "        ind =  np.isnan(S[i,:,:])==False\n",
    "        S_binned_time , xedge, yedge, binnumber  = stats.binned_statistic_2d(XX[ind].ravel(),YY[ind].ravel(), values = S_time_step[ind].ravel(),\n",
    "                                                                            statistic ='mean', bins=[xbins, ybins], expand_binnumbers =True)\n",
    "        \n",
    "        S_binned_array[i,:,:] = S_binned_time.T\n",
    "    \n",
    "    return S_binned_array\n"
   ]
  },
  {
   "cell_type": "code",
   "execution_count": 17,
   "id": "01fed898-5802-49a8-abb1-a7df0a812e81",
   "metadata": {
    "tags": []
   },
   "outputs": [
    {
     "name": "stdout",
     "output_type": "stream",
     "text": [
      "[[[ 1.29427356e-02  1.34720668e-02  1.16293029e-02 ...  1.32037839e-02\n",
      "    1.29687957e-02  1.22913778e-02]\n",
      "  [ 1.66702117e-02  1.50675938e-02  1.31096088e-02 ...  1.13521681e-02\n",
      "    1.28178937e-02  1.55272158e-02]\n",
      "  [ 2.36764646e-02  3.42053328e-02  3.91050209e-02 ... -7.60833176e-03\n",
      "    3.76202228e-03  3.01974142e-02]\n",
      "  ...\n",
      "  [ 8.23934679e-06 -2.27029822e-03 -2.90525072e-03 ...  2.22464061e-03\n",
      "   -9.38728344e-04  6.02749706e-04]\n",
      "  [ 2.47284410e-03  9.28375686e-04  3.94504795e-03 ...  6.04383130e-03\n",
      "    3.11819970e-03  5.63863994e-03]\n",
      "  [ 1.95088050e-02  2.11258632e-02  2.58643258e-02 ...  1.55841986e-03\n",
      "    1.02836202e-02  1.68673381e-02]]\n",
      "\n",
      " [[ 1.77744879e-02  1.64046774e-02  1.34290708e-02 ...  2.28190979e-02\n",
      "    2.07932844e-02  1.87230284e-02]\n",
      "  [ 8.26820857e-03  1.00395791e-02  1.04325399e-02 ...  1.40252579e-02\n",
      "    1.03075992e-02  6.26288584e-03]\n",
      "  [ 6.73480231e-03  2.06187147e-02  3.04742010e-02 ... -1.07589134e-02\n",
      "   -4.76737568e-03  1.47799978e-02]\n",
      "  ...\n",
      "  [-7.98857429e-03 -9.32751019e-03 -8.97077941e-03 ...  2.25046245e-03\n",
      "   -3.07944651e-03 -5.11682835e-03]\n",
      "  [ 5.76033744e-03  6.76210272e-03  7.54135340e-03 ...  1.64155971e-04\n",
      "    2.27969505e-03  7.33352556e-03]\n",
      "  [ 1.97783036e-02  2.23182595e-02  2.25545123e-02 ...  6.81391604e-03\n",
      "    9.98184208e-03  1.53600041e-02]]\n",
      "\n",
      " [[ 1.66011300e-02  1.53876368e-02  1.24390970e-02 ...  2.19080677e-02\n",
      "    2.04692401e-02  1.80145185e-02]\n",
      "  [ 1.52279374e-02  1.36957822e-02  1.27294957e-02 ...  1.51902452e-02\n",
      "    1.44167117e-02  1.39689024e-02]\n",
      "  [ 3.57896659e-03  2.08232540e-02  2.94089893e-02 ... -6.55583112e-03\n",
      "    2.05707803e-03  1.84625863e-02]\n",
      "  ...\n",
      "  [-1.55316528e-03 -4.06959750e-03 -5.90657580e-03 ...  2.05866020e-03\n",
      "   -1.10392968e-05  2.98639837e-04]\n",
      "  [ 5.33991744e-03  6.63675109e-03  8.75769627e-03 ... -1.21417455e-03\n",
      "    1.51229207e-03  5.06061784e-03]\n",
      "  [ 1.72030823e-02  1.98361103e-02  2.12191036e-02 ...  7.62406589e-03\n",
      "    8.63452586e-03  1.23724861e-02]]\n",
      "\n",
      " ...\n",
      "\n",
      " [[ 2.12671654e-02  2.01886360e-02  1.68732782e-02 ...  2.32295954e-02\n",
      "    2.30721036e-02  2.18806201e-02]\n",
      "  [ 2.27400504e-02  2.15120515e-02  2.13690698e-02 ...  2.14832409e-02\n",
      "    2.11739941e-02  2.13573651e-02]\n",
      "  [-5.84084090e-03  9.39417484e-03  1.45601926e-02 ... -1.67672935e-02\n",
      "   -7.20318269e-03  1.42562585e-02]\n",
      "  ...\n",
      "  [ 2.56555578e-03  2.85324569e-03  1.74640732e-03 ...  8.29847532e-03\n",
      "    1.94738760e-03  2.35004178e-03]\n",
      "  [ 1.03654842e-02  1.19233112e-02  8.57082398e-03 ...  1.31366208e-03\n",
      "    4.24042082e-03  9.15466571e-03]\n",
      "  [ 1.67348950e-02  1.63993850e-02  2.29634908e-02 ...  8.81152546e-03\n",
      "    1.19123192e-02  1.33081162e-02]]\n",
      "\n",
      " [[ 1.79561589e-02  1.80247724e-02  1.57653979e-02 ...  1.69993470e-02\n",
      "    1.72509108e-02  1.70917248e-02]\n",
      "  [ 2.96854874e-02  3.02241940e-02  2.90420828e-02 ...  2.76736714e-02\n",
      "    2.61020238e-02  2.71660953e-02]\n",
      "  [ 3.52757725e-02  4.39562851e-02  4.20556180e-02 ...  5.91503274e-03\n",
      "    1.80344667e-02  4.27292475e-02]\n",
      "  ...\n",
      "  [ 5.45899226e-03  3.20600982e-03  1.25733064e-03 ...  7.19086226e-03\n",
      "    3.23161366e-03  2.79472668e-03]\n",
      "  [ 8.60124598e-03  3.30937410e-03  1.97906586e-04 ...  1.05609916e-02\n",
      "    1.13531816e-02  1.17111522e-02]\n",
      "  [ 7.86303263e-03  1.09176439e-02  1.44153299e-02 ...  8.38210885e-03\n",
      "    9.54388366e-03  8.19775830e-03]]\n",
      "\n",
      " [[ 4.51233767e-03  3.22144841e-03  7.17549806e-04 ...  8.90947137e-03\n",
      "    7.42638962e-03  5.68362168e-03]\n",
      "  [ 2.22658870e-03  6.63485839e-03  1.09048772e-02 ... -4.61590251e-03\n",
      "   -3.57397818e-03 -1.84049304e-03]\n",
      "  [ 1.13216357e-02  2.57844622e-02  3.97927688e-02 ... -3.17414453e-02\n",
      "   -1.61391888e-02  8.96836912e-03]\n",
      "  ...\n",
      "  [ 4.53244079e-03 -2.80593556e-03 -5.94912167e-03 ...  9.06176487e-03\n",
      "    7.68404241e-03  7.16955246e-03]\n",
      "  [ 6.19537891e-03  6.66933263e-03  6.54965512e-03 ...  9.50792680e-03\n",
      "    9.34496908e-03  8.28081919e-03]\n",
      "  [ 1.40065111e-02  1.90058589e-02  2.15658652e-02 ...  4.01935059e-03\n",
      "    4.14693172e-03  8.81181720e-03]]]\n"
     ]
    }
   ],
   "source": [
    "#..Calculate 5X5 degree binned array for P-E, SST, LTS, SUB, 2-m air Temperature(Tg) and the LWP:\n",
    "lat_array0  = lats   #..192 values\n",
    "lon_array0  = lons\n",
    "lat_array1  = lats[latsi1:latsi0]   #..48 values\n",
    "\n",
    "#x_range  = np.arange(0., 364, 5.)   #..number:73\n",
    "#y_range  = np.arange(-85., -35, 5.)   #.. 40 S - 85 S(10)\n",
    "\n",
    "#xbins, ybins = len(x_range), len(y_range)\n",
    "\n",
    "Tg_yr_bin  = binned_cyGlobal5(Tg, lat_array0, lon_array0)   #..shape in (150,36,73)\n",
    "LWP_yr_bin  = binned_cySouthOcean5(LWP_yr, lat_array1, lon_array0)   #..shape in (150,10,73)\n",
    "\n",
    "SST_yr_bin  = binned_cySouthOcean5(SST_yr, lat_array1, lon_array0)\n",
    "\n",
    "p_e_yr_bin  = binned_cySouthOcean5(p_e_yr, lat_array1, lon_array0)\n",
    "\n",
    "\n",
    "LTS_yr_bin  = binned_cySouthOcean5(LTS_yr, lat_array1, lon_array0)\n",
    "SUB_yr_bin  = binned_cySouthOcean5(SUB_yr, lat_array1, lon_array0)\n",
    "\n",
    "TWP_yr_bin  = binned_cySouthOcean5(TWP_yr, lat_array1, lon_array0)\n",
    "IWP_yr_bin  = binned_cySouthOcean5(IWP_yr, lat_array1, lon_array0)\n",
    "\n",
    "\n",
    "print(SUB_yr_bin)   #..Tg:(150,36,73); LWP&CCFs:(150,10,73)"
   ]
  },
  {
   "cell_type": "code",
   "execution_count": 13,
   "id": "f10f5724-35f4-47c4-b83d-2dcde0772cd4",
   "metadata": {
    "tags": []
   },
   "outputs": [],
   "source": [
    "def area_mean(S, lats, lons):\n",
    "    \n",
    "    '''..Only for 1 final value..\n",
    "    '''\n",
    "    GMT  = np.zeros(S.shape[0])\n",
    "    for i in np.arange(S.shape[0]):\n",
    "        \n",
    "        S_time_step  = S[i,:,:]\n",
    "        #..weighted by cos(lat):\n",
    "        xlon, ylat  = np.meshgrid(lons, lats)\n",
    "\n",
    "        weighted_metrix1 =  np.cos(np.deg2rad(ylat))   #..metrix has the same shape as tas/lwp, its value = cos(lat)\n",
    "        toc1  = np.sum(weighted_metrix1)   #..total of cos(lat metrix) for global region\n",
    "\n",
    "        S_weighted =  S_time_step * weighted_metrix1 / toc1\n",
    "        \n",
    "        GMT[i]  = np.nansum(S_weighted, axis=(0,1))\n",
    "    \n",
    "    return GMT\n"
   ]
  },
  {
   "cell_type": "code",
   "execution_count": 14,
   "id": "83e96f02-afea-4e8d-a5ba-fc81058b537e",
   "metadata": {
    "tags": []
   },
   "outputs": [
    {
     "data": {
      "text/plain": [
       "array([-90., -85., -80., -75., -70., -65., -60., -55., -50., -45., -40.,\n",
       "       -35., -30., -25., -20., -15., -10.,  -5.,   0.,   5.,  10.,  15.,\n",
       "        20.,  25.,  30.,  35.,  40.,  45.,  50.,  55.,  60.,  65.,  70.,\n",
       "        75.,  80.,  85.])"
      ]
     },
     "execution_count": 14,
     "metadata": {},
     "output_type": "execute_result"
    }
   ],
   "source": [
    "s_range  = np.arange(-90., 90, 5.)\n",
    "\n",
    "s_range"
   ]
  },
  {
   "cell_type": "code",
   "execution_count": 15,
   "id": "607c6752-ed13-4ade-a30c-ce90bbd1f7ce",
   "metadata": {
    "tags": []
   },
   "outputs": [
    {
     "name": "stdout",
     "output_type": "stream",
     "text": [
      "(150,)\n"
     ]
    }
   ],
   "source": [
    "#..do the area-mean for Tg and CCFs and LWP:\n",
    "x_range  = np.arange(0., 364, 5.)   #..number:73\n",
    "y_range  = np.arange(-85., -35, 5.) + 2.5   #.. 40 S - 85 S(10)\n",
    "\n",
    "s_range  = np.arange(-90., 90, 5.) + 2.5 #..(36)\n",
    "\n",
    "GMT  = area_mean(Tg_yr_bin, s_range, x_range)            #..ALL in shape : (150,)\n",
    "\n",
    "LWP_area_yr  = area_mean(LWP_yr_bin, y_range, x_range)\n",
    "SST_area_yr  = area_mean(SST_yr_bin, y_range, x_range)\n",
    "p_e_area_yr  = area_mean(p_e_yr_bin, y_range, x_range)\n",
    "LTS_area_yr  = area_mean(LTS_yr_bin, y_range, x_range)\n",
    "SUB_area_yr  = area_mean(SUB_yr_bin, y_range, x_range)\n",
    "\n",
    "IWP_area_yr  = area_mean(IWP_yr_bin, y_range, x_range)\n",
    "TWP_area_yr  = area_mean(TWP_yr_bin, y_range, x_range)\n",
    "\n",
    "\n",
    "print(SST_area_yr.shape)"
   ]
  },
  {
   "cell_type": "code",
   "execution_count": 27,
   "id": "0e5792c4-01a0-437d-ab3b-57546a46324f",
   "metadata": {
    "jupyter": {
     "source_hidden": true
    },
    "tags": []
   },
   "outputs": [
    {
     "name": "stdout",
     "output_type": "stream",
     "text": [
      "(109500,)\n",
      "(109500,)\n",
      "(101428,)\n"
     ]
    }
   ],
   "source": [
    "#..Calculate the 150* 10* 73 points metric for 'p-e' and LWP and GMT:\n",
    "#..ravel binned arrays\n",
    "\n",
    "LWP_bin_pred  = LWP_yr_bin.flatten()     #..shape in 150* 10* 73 =  109500 values\n",
    "p_e_bin_pred  = p_e_yr_bin.flatten() \n",
    "SST_bin_pred  = SST_yr_bin.flatten() \n",
    "\n",
    "LTS_bin_pred  = LTS_yr_bin.flatten()\n",
    "SUB_bin_pred  = SUB_yr_bin.flatten()\n",
    "\n",
    "TWP_bin_pred  = TWP_yr_bin.flatten()\n",
    "IWP_bin_pred  = IWP_yr_bin.flatten()\n",
    "print(p_e_bin_pred.shape)   #..Tg:(150,36,73); LWP&CCFs:(150,10,73)=109500 points\n",
    "\n",
    "#..Use 'np.repeat' and 'np.tile' to reproduce the GMT Array:\n",
    "\n",
    "gmt_bin_pred  = GMT.repeat(730)\n",
    "print(gmt_bin_pred.shape)\n",
    "\n",
    "#..Subtract 'nan' in data, 109500 -> 101428points\n",
    "#print(np.max(LTS_bin_pred), np.max(SUB_bin_pred ))\n",
    "\n",
    "ind1 =  np.isnan(LTS_yr_bin)==False\n",
    "\n",
    "ind3 =  np.isnan(LTS_bin_pred)==False\n",
    "print(LTS_bin_pred[ind3].shape)\n"
   ]
  },
  {
   "cell_type": "code",
   "execution_count": 22,
   "id": "cb53a271-09a3-470b-9ff4-896dbc72e558",
   "metadata": {
    "collapsed": true,
    "jupyter": {
     "outputs_hidden": true,
     "source_hidden": true
    },
    "tags": []
   },
   "outputs": [
    {
     "data": {
      "text/plain": [
       "Text(0, 0.5, '$LWP_{abrupt4XCO2}$')"
      ]
     },
     "execution_count": 22,
     "metadata": {},
     "output_type": "execute_result"
    },
    {
     "data": {
      "image/png": "[encoded data removed]",
      "text/plain": [
       "<Figure size 741.6x489.6 with 1 Axes>"
      ]
     },
     "metadata": {
      "needs_background": "light"
     },
     "output_type": "display_data"
    }
   ],
   "source": [
    "#..plot the Cloud Controlling Factors' and LWP(Twp/Iwp) trends with GMT trend in the 150yr abrupt4XCO2 experiment:\n",
    "\n",
    "fig  = plt.figure(figsize = (10.3, 6.8))\n",
    "ax1  = plt.axes()\n",
    "\n",
    "yy  = np.arange(150)\n",
    "\n",
    "plt.scatter(gmt_bin_pred , LWP_bin_pred)   #..p_e_area_yr\n",
    "\n",
    "plt.xlabel('GMT(2-m air Temperature)')#..GMT(2-m air Temperature)\n",
    "plt.ylabel('$LWP_{abrupt4XCO2}$')\n",
    "#plt.ylim((0.08, 0.16))\n",
    "\n",
    "#parameter  = np.polyfit(SUB_area_yr, LWP_area_yr, 3)\n",
    "#y  = parameter[0]*p_e_area_yr + parameter[1]\n",
    "#y  = parameter[0]*SUB_area_yr**3 + parameter[1]*SUB_area_yr**2 + parameter[2]*SUB_area_yr + parameter[3]\n",
    "#y  = parameter[0]*p_e_area_yr**4  + parameter[1]*p_e_area_yr**3 + parameter[2]*p_e_area_yr**2 + parameter[3]*p_e_area_yr  + parameter[4]\n",
    "#plt.plot(SUB_area_yr, y, 'r')\n",
    "\n",
    "#plt.savefig('LWP_abrupt_vs_GMT_binnedgrid.png')\n",
    "\n",
    "\n",
    "\n",
    "\n"
   ]
  },
  {
   "cell_type": "code",
   "execution_count": 19,
   "id": "1c25f47c-b97d-4707-8a5b-95fc8277c297",
   "metadata": {
    "collapsed": true,
    "jupyter": {
     "outputs_hidden": true
    },
    "tags": []
   },
   "outputs": [
    {
     "data": {
      "image/png": "[encoded data removed]",
      "text/plain": [
       "<Figure size 741.6x489.6 with 1 Axes>"
      ]
     },
     "metadata": {
      "needs_background": "light"
     },
     "output_type": "display_data"
    }
   ],
   "source": [
    "#..plot the p-e / LWP trends in the 150yr abrupt4XCO2 experiment:\n",
    "fig  = plt.figure(figsize = (10.3, 6.8))\n",
    "ax1  = plt.axes()\n",
    "\n",
    "yy  = np.arange(150)\n",
    "\n",
    "plt.scatter(yy, p_e_area_yr)   #..p_e_area_yr\n",
    "\n",
    "plt.xlabel('year(s)')#..GMT(2-m air Temperature)\n",
    "plt.ylabel('p-e (moisture convergence)')\n",
    "#plt.ylim((0.08, 0.16))\n",
    "\n",
    "parameter  = np.polyfit(yy, p_e_area_yr, 3)\n",
    "#y  = parameter[0]*p_e_area_yr + parameter[1]\n",
    "y  = parameter[0]*yy**3 + parameter[1]*yy**2 + parameter[2]*yy  + parameter[3]\n",
    "\n",
    "plt.plot(yy , y, 'r')\n",
    "\n",
    "plt.savefig('p_e_abrupt_vs_year.png')\n",
    "\n",
    "\n"
   ]
  },
  {
   "cell_type": "code",
   "execution_count": 16,
   "id": "ac203271-0f27-48bc-8333-5f31c3f22639",
   "metadata": {
    "collapsed": true,
    "jupyter": {
     "outputs_hidden": true,
     "source_hidden": true
    },
    "tags": []
   },
   "outputs": [
    {
     "name": "stdout",
     "output_type": "stream",
     "text": [
      "[ True  True  True  True  True  True  True  True  True  True  True  True\n",
      "  True  True  True  True  True  True  True  True  True  True  True  True\n",
      "  True  True  True  True  True  True  True  True  True  True  True  True\n",
      "  True  True  True  True  True  True  True  True  True  True  True  True\n",
      "  True  True  True  True  True  True  True  True  True  True  True  True\n",
      "  True  True  True  True  True  True  True  True  True  True  True  True\n",
      "  True  True  True  True  True  True  True  True  True  True  True  True\n",
      "  True  True  True  True  True  True  True  True  True  True  True  True\n",
      "  True  True  True  True  True  True  True  True  True  True  True  True\n",
      "  True  True  True  True  True  True  True  True  True  True  True  True\n",
      "  True  True  True  True  True  True  True  True  True  True  True  True\n",
      "  True  True  True  True  True  True  True  True  True  True  True  True\n",
      "  True  True  True  True  True  True]\n"
     ]
    }
   ],
   "source": [
    "#..Standardized data:\n",
    "\n",
    "GMT_afpre  = GMT\n",
    "GMT_afpre  = (GMT - np.mean(GMT))  / np.std(GMT)\n",
    "\n",
    "LWP_afpre  = LWP_area_yr\n",
    "LWP_afpre =  (LWP_area_yr - np.mean(LWP_area_yr) )/np.std(LWP_area_yr)\n",
    "\n",
    "\n",
    "SST_afpre  = SST_area_yr\n",
    "SST_afpre =  (SST_area_yr - np.mean(SST_area_yr)) /np.std(SST_area_yr)\n",
    "\n",
    "p_e_afpre =  p_e_area_yr\n",
    "p_e_afpre =  (p_e_area_yr - np.mean(p_e_area_yr)) /np.std(p_e_area_yr)\n",
    "\n",
    "LTS_afpre  = LTS_area_yr\n",
    "LTS_afpre =  (LTS_area_yr - np.nanmean(LTS_area_yr)) /np.nanstd(LTS_area_yr)\n",
    "\n",
    "SUB_afpre  = SUB_area_yr\n",
    "SUB_afpre  = (SUB_area_yr - np.mean(SUB_area_yr)) /np.std(SUB_area_yr)\n",
    "\n",
    "#..Subtract 'nan' in data, 72270 -> 66598points\n",
    "ind2 =  np.isnan(LTS_area_yr)==False  \n",
    "print(ind2)"
   ]
  },
  {
   "cell_type": "code",
   "execution_count": 17,
   "id": "2f004173-2f8a-408d-9da7-0372594f1013",
   "metadata": {
    "collapsed": true,
    "jupyter": {
     "outputs_hidden": true
    },
    "tags": []
   },
   "outputs": [
    {
     "name": "stdout",
     "output_type": "stream",
     "text": [
      "[[287.98450144 288.84127353 289.39978971 289.79727796 290.07546541\n",
      "  290.40387476 290.60601608 290.92211662 290.92250645 291.08699636\n",
      "  291.13732379 291.25918554 291.27440439 291.40411975 291.54002528\n",
      "  291.60588236 291.71690058 291.79623979 291.94191079 291.99826489\n",
      "  292.00196471 291.80573794 291.9795851  292.05781345 291.96317747\n",
      "  291.96849138 292.12250773 292.29156882 292.24515199 292.17543299\n",
      "  292.32958307 292.24094867 292.33878104 292.24775949 292.32256873\n",
      "  292.3799163  292.50293577 292.46593901 292.43096295 292.45049558\n",
      "  292.60991742 292.52955887 292.56990281 292.67073989 292.77556263\n",
      "  292.82838225 292.67707219 292.89060685 292.76974062 292.74312549\n",
      "  292.80957885 292.69302757 292.83127755 292.74595109 292.73577145\n",
      "  292.84279769 292.92241187 292.96820488 293.00228676 292.84954743\n",
      "  292.91286045 293.04645425 293.00039919 293.10275151 293.12400304\n",
      "  293.24808943 293.19198053 292.98674681 293.03354265 293.13554609\n",
      "  293.18385632 293.12716202 293.18535001 293.26824752 293.27471822\n",
      "  293.33070531 293.23428051 293.31364485 293.36370488 293.32546693\n",
      "  293.41664844 293.42325159 293.26809739 293.37216542 293.54088614\n",
      "  293.47167225 293.48581376 293.52750283 293.4821537  293.4986768\n",
      "  293.54528436 293.45161562 293.58293684 293.56788373 293.64398308\n",
      "  293.66349415 293.63407092 293.75787441 293.73332755 293.76497103\n",
      "  293.54995645 293.79595891 293.7590136  293.79892364 293.93792927\n",
      "  293.90060693 293.90022741 293.88241096 293.82344702 293.82366381\n",
      "  293.88606286 293.90159309 294.06029655 293.975841   293.99967793\n",
      "  294.11163489 294.06253255 294.27093588 294.12153836 294.19068341\n",
      "  294.20760912 294.14776742 294.05378118 294.09552794 294.1800249\n",
      "  294.18117406 294.09068845 294.1342681  294.31437285 294.31470583\n",
      "  294.24178125 294.39314328 294.35111913 294.34041648 294.57807943\n",
      "  294.47262662 294.36899535 294.36862996 294.53141118 294.4897234\n",
      "  294.56842547 294.4893493  294.5603156  294.61387092 294.57673663\n",
      "  294.51580061 294.53611939 294.58868205 294.66276592 294.68078967]]\n",
      "(1, 150)\n"
     ]
    }
   ],
   "source": [
    "print(GMT.reshape(1,-1))\n",
    "print(GMT.reshape(1,-1).shape)"
   ]
  },
  {
   "cell_type": "code",
   "execution_count": 29,
   "id": "6d7d169b-5032-4e6e-8ad4-4acb6491e3d2",
   "metadata": {},
   "outputs": [
    {
     "name": "stdout",
     "output_type": "stream",
     "text": [
      "[0.00182187]\n",
      "-0.42777840179932847\n",
      "[1.46286075] [0.06640843] [0.02302676] [0.00010079]\n"
     ]
    }
   ],
   "source": [
    "#..linear regreesion of Cloud Controlling Factors (CCF) to GMT:\n",
    "\n",
    "regr = linear_model.LinearRegression()\n",
    "re_LWP = regr.fit(gmt_bin_pred[ind3].reshape(-1,1), LWP_bin_pred[ind3])\n",
    "\n",
    "print(re_LWP.coef_)\n",
    "print(re_LWP.intercept_)\n",
    "\n",
    "regr1 = linear_model.LinearRegression()\n",
    "regr2 = linear_model.LinearRegression()\n",
    "regr3 = linear_model.LinearRegression()\n",
    "regr4 = linear_model.LinearRegression()\n",
    "re_SST = regr1.fit(gmt_bin_pred[ind3].reshape(-1,1), SST_bin_pred[ind3])\n",
    "re_p_e = regr2.fit(gmt_bin_pred[ind3].reshape(-1,1), p_e_bin_pred[ind3])\n",
    "re_LTS = regr3.fit(gmt_bin_pred[ind3].reshape(-1,1), LTS_bin_pred[ind3])\n",
    "\n",
    "re_SUB = regr4.fit(gmt_bin_pred[ind3].reshape(-1,1), SUB_bin_pred[ind3])\n",
    "print(re_SST.coef_, re_p_e.coef_, re_LTS.coef_, re_SUB.coef_ )\n",
    "\n",
    "dX_dTg  = [re_SST.coef_, re_p_e.coef_, re_LTS.coef_, re_SUB.coef_]\n"
   ]
  },
  {
   "cell_type": "code",
   "execution_count": 31,
   "id": "934fea1d-63be-4a6f-bb93-4a5f8e7fc81f",
   "metadata": {},
   "outputs": [],
   "source": [
    "coef1  = np.load('sensitivity_4ccfs.npy')\n",
    "intercept1  = np.load('intercept1.npy')\n",
    "\n",
    "predict_aLWP2aGMT  = np.dot(coef1.reshape(1,-1), dX_dTg)"
   ]
  },
  {
   "cell_type": "code",
   "execution_count": 32,
   "id": "4e1424a4-1de0-40fd-8d4f-214e7a8ac959",
   "metadata": {},
   "outputs": [
    {
     "name": "stdout",
     "output_type": "stream",
     "text": [
      "[[0.00437447]]\n"
     ]
    }
   ],
   "source": [
    "print(predict_aLWP2aGMT)"
   ]
  },
  {
   "cell_type": "code",
   "execution_count": 19,
   "id": "7582a64c-185e-47ce-aa04-1e7cc60fe9c7",
   "metadata": {
    "tags": []
   },
   "outputs": [
    {
     "name": "stdout",
     "output_type": "stream",
     "text": [
      "nan 0.15457522993286452\n",
      "[ True  True  True ...  True  True  True]\n"
     ]
    }
   ],
   "source": [
    "#..Ravel binned array / Standardized data ARRAY\n",
    "\n",
    "LWP_predi  = LWP_yr_bin.flatten() \n",
    "#LWP_predi =  (LWP_predi - np.mean(LWP_predi) )/np.std(LWP_predi)\n",
    "\n",
    "SST_predi  = SST_yr_bin.flatten()  \n",
    "#SST_predi =  (SST_predi - np.mean(SST_predi)) /np.std(SST_predi)\n",
    "\n",
    "p_e_predi =  p_e_yr_bin.flatten()\n",
    "#p_e_predi =  (p_e_predi - np.mean(p_e_predi)) /np.std(p_e_predi)\n",
    "\n",
    "LTS_predi  = LTS_yr_bin.flatten()\n",
    "#LTS_predi =  (LTS_predi - np.nanmean(LTS_predi)) /np.nanstd(LTS_predi)\n",
    "\n",
    "SUB_predi  = SUB_yr_bin.flatten()\n",
    "#SUB_predi  = (SUB_predi - np.mean(SUB_predi)) /np.std(SUB_predi)\n",
    "\n",
    "print(np.max(LTS_predi), np.max(SUB_predi))\n",
    "\n",
    "#..Subtract 'nan' in data, 72270 -> 66598points\n",
    "ind1 =  np.isnan(LTS_yr_bin)==False\n",
    "\n",
    "ind3 =  np.isnan(LTS_predi)==False\n",
    "print(ind3)"
   ]
  },
  {
   "cell_type": "code",
   "execution_count": 20,
   "id": "2b61e5f3-b391-4848-9c0b-3e50541822ac",
   "metadata": {
    "tags": []
   },
   "outputs": [
    {
     "name": "stdout",
     "output_type": "stream",
     "text": [
      "(4, 101428)\n",
      "[ 0.00247279  0.02195972 -0.00185029  0.03064677]\n",
      "-0.5703846160444894\n"
     ]
    },
    {
     "data": {
      "text/plain": [
       "0.7960323118311011"
      ]
     },
     "execution_count": 20,
     "metadata": {},
     "output_type": "execute_result"
    }
   ],
   "source": [
    "#..Multiple linear regreesion of Liquid water path to CCF Cloud Controlling Factors:\n",
    "\n",
    "X  = np.array([SST_predi[ind3] ,p_e_predi[ind3] ,LTS_predi[ind3], SUB_predi[ind3]])\n",
    "#print(X)\n",
    "print(X.shape)\n",
    "\n",
    "result1 =  linear_model.LinearRegression()\n",
    "result1 =  result1.fit(X.T, LWP_predi[ind3])\n",
    "print(result1.coef_)\n",
    "print(result1.intercept_)\n",
    "\n",
    "result1.score(X.T, LWP_predi[ind3])"
   ]
  },
  {
   "cell_type": "code",
   "execution_count": 21,
   "id": "a6b1d4d1-0a3f-48a2-a10f-4fa96b09821a",
   "metadata": {
    "tags": []
   },
   "outputs": [
    {
     "name": "stdout",
     "output_type": "stream",
     "text": [
      "[0.002371   0.02301657]\n",
      "-0.5702744742003424\n"
     ]
    },
    {
     "data": {
      "text/plain": [
       "0.7803327029145396"
      ]
     },
     "execution_count": 21,
     "metadata": {},
     "output_type": "execute_result"
    }
   ],
   "source": [
    "#..Multiple linear regreesion of Liquid water path to CCF Cloud Controlling Factors:\n",
    "\n",
    "X2  = np.array([SST_predi[ind3], p_e_predi[ind3]])\n",
    "\n",
    "result2 =  linear_model.LinearRegression()\n",
    "result2 =  result2.fit(X2.T, LWP_predi[ind3])\n",
    "print(result2.coef_)\n",
    "print(result2.intercept_)\n",
    "\n",
    "result2.score(X2.T, LWP_predi[ind3])"
   ]
  },
  {
   "cell_type": "code",
   "execution_count": 22,
   "id": "631538dd-d09c-404e-80b5-04d8b1cf155a",
   "metadata": {},
   "outputs": [
    {
     "data": {
      "text/plain": [
       "array([ 0.00247279,  0.02195972, -0.00185029,  0.03064677])"
      ]
     },
     "execution_count": 22,
     "metadata": {},
     "output_type": "execute_result"
    }
   ],
   "source": [
    "coef_abrupt1 = result1.coef_\n",
    "\n",
    "coef1  = np.load('sensitivity_4ccfs.npy')\n",
    "intercept1  = np.load('intercept1.npy')\n",
    "\n",
    "coef_abrupt1"
   ]
  },
  {
   "cell_type": "code",
   "execution_count": 23,
   "id": "92e7a890-c584-4ca5-b214-77e5e151262a",
   "metadata": {},
   "outputs": [
    {
     "name": "stdout",
     "output_type": "stream",
     "text": [
      "[ 0.0022244   0.01740707 -0.00166793  0.02882105]\n"
     ]
    }
   ],
   "source": [
    "print(coef1)"
   ]
  },
  {
   "cell_type": "code",
   "execution_count": 34,
   "id": "dc4c5dcf-c09f-4ef5-b140-490d4e35f029",
   "metadata": {},
   "outputs": [
    {
     "name": "stdout",
     "output_type": "stream",
     "text": [
      "(150,)\n",
      "(1, 150)\n"
     ]
    },
    {
     "data": {
      "image/png": "[encoded data removed]",
      "text/plain": [
       "<Figure size 741.6x489.6 with 1 Axes>"
      ]
     },
     "metadata": {
      "needs_background": "light"
     },
     "output_type": "display_data"
    }
   ],
   "source": [
    "#..draw the plot for 'abrupt4' experiment's LWP and the predicted LWP from linear Regression Model trained in 'pi-control'\n",
    "\n",
    "fig2  = plt.figure(figsize = (10.3, 6.8))\n",
    "ax2  = plt.axes()\n",
    "\n",
    "plt.scatter(GMT, LWP_area_yr, label='$LWP_{abrupt4XCO2}$')\n",
    "\n",
    "XX  = np.array([SST_area_yr, p_e_area_yr, LTS_area_yr, SUB_area_yr])\n",
    "#print(XX.shape)\n",
    "\n",
    "yr =  np.dot(coef1.reshape(1,-1), XX)\n",
    "predicted_LWP  = yr + intercept1\n",
    "#print(yr)\n",
    "\n",
    "print(np.array(GMT).shape)\n",
    "print(np.array(predicted_LWP).shape)\n",
    "\n",
    "plt.plot(GMT,predicted_LWP.flatten(), \"g\", label='$aLWP/aX_{picontrol}*{dX_{abrupt4XCO2}/dGMT}$')\n",
    "#plt.ylim((0.105, 0.120))\n",
    "\n",
    "\n",
    "plt.xlabel('GMT')\n",
    "plt.ylabel('LWP')\n",
    "plt.title(\"Liquid Water Path in abrupt4XCO2 experiemend and the predicted value with the pi-control sensitivity\")\n",
    "\n",
    "plt.legend()\n",
    "plt.savefig(\"Linear_regression_abrupt.png\")"
   ]
  },
  {
   "cell_type": "code",
   "execution_count": null,
   "id": "b8c5f36c-9bc7-4ed0-8c10-b62125c6a9d7",
   "metadata": {},
   "outputs": [],
   "source": []
  },
  {
   "cell_type": "code",
   "execution_count": 37,
   "id": "4d8440c2-7f69-4083-a816-8322124e4f68",
   "metadata": {},
   "outputs": [
    {
     "name": "stdout",
     "output_type": "stream",
     "text": [
      "[[0.00437447]]\n"
     ]
    }
   ],
   "source": [
    "np.array(dX_dTg).reshape(-1,1)\n",
    "\n",
    "dLWP_DTg  = np.dot(coef1.reshape(1,-1), np.array(dX_dTg).reshape(-1,1))\n",
    "print(dLWP_DTg)"
   ]
  },
  {
   "cell_type": "code",
   "execution_count": null,
   "id": "3573bb78-d3b8-418f-bd41-095338338704",
   "metadata": {},
   "outputs": [],
   "source": []
  }
 ],
 "metadata": {
  "kernelspec": {
   "display_name": "NPL-3.7.9",
   "language": "python",
   "name": "npl-3.7.9"
  },
  "language_info": {
   "codemirror_mode": {
    "name": "ipython",
    "version": 3
   },
   "file_extension": ".py",
   "mimetype": "text/x-python",
   "name": "python",
   "nbconvert_exporter": "python",
   "pygments_lexer": "ipython3",
   "version": "3.7.9"
  }
 },
 "nbformat": 4,
 "nbformat_minor": 5
}
