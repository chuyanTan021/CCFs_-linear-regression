{
 "cells": [
  {
   "cell_type": "code",
   "execution_count": 1,
   "id": "delayed-insight",
   "metadata": {},
   "outputs": [],
   "source": [
    "#..modified by CHUYAN at September/10/2021; calculate binned P-E/SST/subsidence/ LTS and LWP array for Model: IPSL; (annual-mean, binned 5X5degree,\n",
    "#.. area-mean data, standardized data) for abrupt4XCO2 experiment, then use the sensitivity of LWP to CCFs to get a Linear regression model to predict\n",
    "#..d(LWP)/dGMT..\n",
    "\n",
    "import netCDF4\n",
    "import numpy as np\n",
    "import matplotlib.pyplot as plt\n",
    "import xarray as xr\n",
    "import PyNIO as Nio\n",
    "import pandas as pd\n",
    "\n",
    "from scipy import stats\n",
    "from sklearn import linear_model"
   ]
  },
  {
   "cell_type": "code",
   "execution_count": 2,
   "id": "093b6104-a906-47e8-9c32-2126bae6cf86",
   "metadata": {},
   "outputs": [],
   "source": [
    "#..retrieve variables in abrupt-4xCO2 experiment\n",
    "\n",
    "fpath_abr_ts    = '/glade/collections/cmip/CMIP6/CMIP/IPSL/IPSL-CM6A-LR/abrupt-4xCO2/r1i1p1f1/Amon/ts/gr/v20190118/ts/ts_Amon_IPSL-CM6A-LR_abrupt-4xCO2_r1i1p1f1_gr_185001-214912.nc'\n",
    "fpath_abr_ta    = '/glade/collections/cmip/CMIP6/CMIP/IPSL/IPSL-CM6A-LR/abrupt-4xCO2/r1i1p1f1/Amon/ta/gr/v20190118/ta/ta_Amon_IPSL-CM6A-LR_abrupt-4xCO2_r1i1p1f1_gr_185001-214912.nc'\n",
    "fpath_abr_ps    = '/glade/collections/cmip/CMIP6/CMIP/IPSL/IPSL-CM6A-LR/abrupt-4xCO2/r1i1p1f1/Amon/ps/gr/v20190118/ps/ps_Amon_IPSL-CM6A-LR_abrupt-4xCO2_r1i1p1f1_gr_185001-214912.nc'\n",
    "fpath_abr_wap   = '/glade/collections/cmip/CMIP6/CMIP/IPSL/IPSL-CM6A-LR/abrupt-4xCO2/r1i1p1f1/Amon/wap/gr/v20190118/wap/wap_Amon_IPSL-CM6A-LR_abrupt-4xCO2_r1i1p1f1_gr_185001-214912.nc'\n",
    "fpath_abr_clivi = '/glade/collections/cmip/CMIP6/CMIP/IPSL/IPSL-CM6A-LR/abrupt-4xCO2/r1i1p1f1/Amon/clivi/gr/v20190118/clivi/clivi_Amon_IPSL-CM6A-LR_abrupt-4xCO2_r1i1p1f1_gr_185001-214912.nc'\n",
    "fpath_abr_clwvi = '/glade/collections/cmip/CMIP6/CMIP/IPSL/IPSL-CM6A-LR/abrupt-4xCO2/r1i1p1f1/Amon/clwvi/gr/v20190118/clwvi/clwvi_Amon_IPSL-CM6A-LR_abrupt-4xCO2_r1i1p1f1_gr_185001-214912.nc'\n",
    "fpath_abr_tas   = '/glade/collections/cmip/CMIP6/CMIP/IPSL/IPSL-CM6A-LR/abrupt-4xCO2/r1i1p1f1/Amon/tas/gr/v20190118/tas/tas_Amon_IPSL-CM6A-LR_abrupt-4xCO2_r1i1p1f1_gr_185001-214912.nc'\n",
    "\n",
    "fpath_p     = '/glade/collections/cmip/CMIP6/CMIP/IPSL/IPSL-CM6A-LR/abrupt-4xCO2/r1i1p1f1/Amon/pr/gr/v20190118/pr/pr_Amon_IPSL-CM6A-LR_abrupt-4xCO2_r1i1p1f1_gr_185001-214912.nc'\n",
    "fpath_e     = '/glade/collections/cmip/CMIP6/CMIP/IPSL/IPSL-CM6A-LR/abrupt-4xCO2/r1i1p1f1/Amon/evspsbl/gr/v20190118/evspsbl/evspsbl_Amon_IPSL-CM6A-LR_abrupt-4xCO2_r1i1p1f1_gr_185001-214912.nc'\n",
    "\n",
    "\n",
    "f_ts        = netCDF4.Dataset(fpath_abr_ts,'r')\n",
    "f_ta        = netCDF4.Dataset(fpath_abr_ta,'r')\n",
    "f_tas       = netCDF4.Dataset(fpath_abr_tas,'r')\n",
    "f_ps        = netCDF4.Dataset(fpath_abr_ps,'r')\n",
    "f_wap       = netCDF4.Dataset(fpath_abr_wap,'r')\n",
    "f_clivi     = netCDF4.Dataset(fpath_abr_clivi,'r')\n",
    "f_clwvi     = netCDF4.Dataset(fpath_abr_clwvi,'r')\n",
    "\n",
    "f_pr        = netCDF4.Dataset(fpath_p, 'r')\n",
    "f_ev        = netCDF4.Dataset(fpath_e, 'r')\n",
    "\n",
    "lons        = f_ts.variables['lon'][:]\n",
    "lats        = f_ts.variables['lat']\n",
    "times       = f_ts.variables['time']\n",
    "\n",
    "\n",
    "levels      = f_ta.variables['plev']\n",
    "#print(levels)"
   ]
  },
  {
   "cell_type": "code",
   "execution_count": 3,
   "id": "db6efa55-485d-4fba-a464-7a27c34140e3",
   "metadata": {},
   "outputs": [
    {
     "name": "stdout",
     "output_type": "stream",
     "text": [
      "(3600, 143, 144)\n"
     ]
    }
   ],
   "source": [
    "#..choose lat 40 -85 °S as the Southern Ocean region\n",
    "lati0 = -40.\n",
    "latsi0= min(range(len(lats)), key = lambda i: abs(lats[i] - lati0))\n",
    "lati1 = -85.\n",
    "latsi1= min(range(len(lats)), key = lambda i: abs(lats[i] - lati1))\n",
    "\n",
    "\n",
    "sfc_T       = f_ts.variables['ts']   #..T_skin, also as SST, shape in (3600, 143, 144)!!, units in K\n",
    "T_700       = f_ta.variables['ta'][:, 3,:,:]\n",
    "sfc_P       = f_ps.variables['ps']   #..Units in Pa, surface Pressure\n",
    "\n",
    "sub         = f_wap.variables['wap'][:, 5,:,:]    #..500mb downward motions\n",
    "clivi       = f_clivi.variables['clivi']   #..Units in kg m^-2\n",
    "clwvi       = f_clwvi.variables['clwvi']\n",
    "tas         = f_tas.variables['tas']   #..2-m air Temperature, for 'gmt'\n",
    "\n",
    "P           = f_pr.variables['pr']   #..Units in kg m^-2 s^-1 = mm *s^-1\n",
    "E           = f_ev.variables['evspsbl']\n",
    "print(sfc_T.shape)"
   ]
  },
  {
   "cell_type": "code",
   "execution_count": 4,
   "id": "cfd14042-c919-4604-b39a-14f89f818bba",
   "metadata": {},
   "outputs": [
    {
     "name": "stdout",
     "output_type": "stream",
     "text": [
      "(3600, 143, 144) (3600, 143, 144)\n",
      "(3600, 143, 144) (3600, 143, 144) (3600, 143, 144)\n"
     ]
    }
   ],
   "source": [
    "print(sfc_P.shape, T_700.shape)\n",
    "print(tas.shape, P.shape, E.shape)"
   ]
  },
  {
   "cell_type": "code",
   "execution_count": 5,
   "id": "consecutive-convertible",
   "metadata": {},
   "outputs": [
    {
     "name": "stdout",
     "output_type": "stream",
     "text": [
      "2.8014145\n",
      "2.5021765\n",
      "(3600, 143, 144)\n"
     ]
    }
   ],
   "source": [
    "Precip =  np.array(P) * (24.*60.*60.)   #..Precipitation. Convert the units from kg m^-2 s^-1 -> mm*day^-1\n",
    "print(np.nanmean(Precip))   #..2.74 /IPSL..2.80\n",
    "Eva    =  np.array(E) * (24.*60.*60.)   #..evaporation, mm day^-1\n",
    "print(np.nanmean(Eva))         #..2.43 /IPSL..2.50\n",
    "print(Eva.shape)   #..variable shape in (3600, 143, 144)\n"
   ]
  },
  {
   "cell_type": "code",
   "execution_count": 6,
   "id": "67213d66-ddc8-443d-8db2-264ac59d7b30",
   "metadata": {},
   "outputs": [],
   "source": [
    "#..Variables: LWP, tas(gmt), SST, p-e, LTS, subsidence\n",
    "\n",
    "LWP  = np.array(clwvi) - np.array(clivi)   #..units in kg m^-2\n",
    "gmt  = np.array(tas)\n",
    "SST  = np.array(sfc_T)\n",
    "MC  = Precip-Eva   #..Moisture Convergence calculated from P - E, Units in mm day^-1\n",
    "\n",
    "Twp  = np.array(clwvi)\n",
    "Iwp  = np.array(clivi)\n"
   ]
  },
  {
   "cell_type": "code",
   "execution_count": 7,
   "id": "5286b4ce-c0e0-403a-9860-761086c80c00",
   "metadata": {
    "tags": []
   },
   "outputs": [
    {
     "name": "stdout",
     "output_type": "stream",
     "text": [
      "[[[1.47882080078125 1.47882080078125 1.47882080078125 ...\n",
      "   1.47882080078125 1.47882080078125 1.47882080078125]\n",
      "  [3.895782470703125 3.70989990234375 3.505462646484375 ...\n",
      "   4.364654541015625 4.25885009765625 4.05926513671875]\n",
      "  [5.834075927734375 5.5068359375 5.241912841796875 ...\n",
      "   6.496063232421875 6.3214111328125 6.06365966796875]\n",
      "  ...\n",
      "  [29.580093383789062 29.61004638671875 29.618148803710938 ...\n",
      "   29.559494018554688 29.599563598632812 29.5911865234375]\n",
      "  [29.551498413085938 29.58892822265625 29.603225708007812 ...\n",
      "   29.568817138671875 29.539154052734375 29.515274047851562]\n",
      "  [30.319808959960938 30.319808959960938 30.319808959960938 ...\n",
      "   30.319808959960938 30.319808959960938 30.319808959960938]]\n",
      "\n",
      " [[1.15814208984375 1.15814208984375 1.15814208984375 ...\n",
      "   1.15814208984375 1.15814208984375 1.15814208984375]\n",
      "  [5.599853515625 5.10284423828125 4.68316650390625 ...\n",
      "   6.901702880859375 6.49249267578125 5.9781494140625]\n",
      "  [8.213043212890625 7.52447509765625 6.614593505859375 ...\n",
      "   10.669830322265625 9.837890625 8.974395751953125]\n",
      "  ...\n",
      "  [31.509429931640625 31.60955810546875 31.652435302734375 ...\n",
      "   31.268478393554688 31.35772705078125 31.449264526367188]\n",
      "  [31.524429321289062 31.56097412109375 31.582351684570312 ...\n",
      "   31.42559814453125 31.430587768554688 31.449691772460938]\n",
      "  [33.79637145996094 33.79637145996094 33.79637145996094 ...\n",
      "   33.79637145996094 33.79637145996094 33.79637145996094]]\n",
      "\n",
      " [[0.653961181640625 0.653961181640625 0.653961181640625 ...\n",
      "   0.653961181640625 0.653961181640625 0.653961181640625]\n",
      "  [3.8505859375 3.297515869140625 3.46820068359375 ...\n",
      "   4.9922027587890625 4.56707763671875 3.8230133056640625]\n",
      "  [8.064208984375 6.64337158203125 5.395843505859375 ...\n",
      "   12.194732666015625 10.709930419921875 9.425949096679688]\n",
      "  ...\n",
      "  [29.26373291015625 29.112518310546875 28.974456787109375 ...\n",
      "   29.82891845703125 29.463470458984375 29.33160400390625]\n",
      "  [29.052444458007812 29.03521728515625 29.029617309570312 ...\n",
      "   29.092147827148438 29.096939086914062 29.107421875]\n",
      "  [32.261962890625 32.261962890625 32.261962890625 ... 32.261962890625\n",
      "   32.261962890625 32.261962890625]]\n",
      "\n",
      " ...\n",
      "\n",
      " [[0.475616455078125 0.475616455078125 0.475616455078125 ...\n",
      "   0.475616455078125 0.475616455078125 0.475616455078125]\n",
      "  [4.149627685546875 3.682952880859375 3.18255615234375 ...\n",
      "   4.711761474609375 4.0743408203125 4.26385498046875]\n",
      "  [6.164215087890625 5.61376953125 4.70025634765625 ... 9.0811767578125\n",
      "   8.0684814453125 7.1414794921875]\n",
      "  ...\n",
      "  [13.085693359375 13.01751708984375 12.987060546875 ...\n",
      "   13.159149169921875 13.140533447265625 13.12762451171875]\n",
      "  [12.22607421875 12.1953125 12.19525146484375 ... 12.22198486328125\n",
      "   12.23638916015625 12.25347900390625]\n",
      "  [11.372772216796875 11.372772216796875 11.372772216796875 ...\n",
      "   11.372772216796875 11.372772216796875 11.372772216796875]]\n",
      "\n",
      " [[-1.44183349609375 -1.44183349609375 -1.44183349609375 ...\n",
      "   -1.44183349609375 -1.44183349609375 -1.44183349609375]\n",
      "  [0.573211669921875 0.3846435546875 0.101409912109375 ...\n",
      "   0.569122314453125 0.44232177734375 0.24395751953125]\n",
      "  [1.24945068359375 0.878875732421875 0.63787841796875 ...\n",
      "   2.879791259765625 2.14556884765625 1.677490234375]\n",
      "  ...\n",
      "  [9.540008544921875 9.53570556640625 9.60919189453125 ...\n",
      "   9.5858154296875 9.521728515625 9.51708984375]\n",
      "  [9.015777587890625 9.0115966796875 9.006866455078125 ...\n",
      "   9.103057861328125 9.13616943359375 9.127593994140625]\n",
      "  [8.827911376953125 8.827911376953125 8.827911376953125 ...\n",
      "   8.827911376953125 8.827911376953125 8.827911376953125]]\n",
      "\n",
      " [[0.35675048828125 0.35675048828125 0.35675048828125 ...\n",
      "   0.35675048828125 0.35675048828125 0.35675048828125]\n",
      "  [2.703887939453125 2.614593505859375 2.4752197265625 ...\n",
      "   3.168304443359375 3.0716552734375 2.888031005859375]\n",
      "  [4.490447998046875 4.214630126953125 3.95330810546875 ...\n",
      "   5.076507568359375 4.90087890625 4.69622802734375]\n",
      "  ...\n",
      "  [4.764739990234375 4.700714111328125 4.622161865234375 ...\n",
      "   5.053955078125 4.97021484375 4.844512939453125]\n",
      "  [4.679443359375 4.618621826171875 4.592010498046875 ...\n",
      "   4.757049560546875 4.74560546875 4.769561767578125]\n",
      "  [4.380889892578125 4.380889892578125 4.380889892578125 ...\n",
      "   4.380889892578125 4.380889892578125 4.380889892578125]]] [[[ 1.4788208   1.4788208   1.4788208  ...  1.4788208   1.4788208\n",
      "    1.4788208 ]\n",
      "  [ 3.8957825   3.7099      3.5054626  ...  4.3646545   4.25885\n",
      "    4.059265  ]\n",
      "  [ 5.834076    5.506836    5.241913   ...  6.496063    6.321411\n",
      "    6.0636597 ]\n",
      "  ...\n",
      "  [29.580093   29.610046   29.618149   ... 29.559494   29.599564\n",
      "   29.591187  ]\n",
      "  [29.551498   29.588928   29.603226   ... 29.568817   29.539154\n",
      "   29.515274  ]\n",
      "  [30.319809   30.319809   30.319809   ... 30.319809   30.319809\n",
      "   30.319809  ]]\n",
      "\n",
      " [[ 1.1581421   1.1581421   1.1581421  ...  1.1581421   1.1581421\n",
      "    1.1581421 ]\n",
      "  [ 5.5998535   5.102844    4.6831665  ...  6.901703    6.4924927\n",
      "    5.9781494 ]\n",
      "  [ 8.213043    7.524475    6.6145935  ... 10.66983     9.837891\n",
      "    8.974396  ]\n",
      "  ...\n",
      "  [31.50943    31.609558   31.652435   ... 31.268478   31.357727\n",
      "   31.449265  ]\n",
      "  [31.52443    31.560974   31.582352   ... 31.425598   31.430588\n",
      "   31.449692  ]\n",
      "  [33.79637    33.79637    33.79637    ... 33.79637    33.79637\n",
      "   33.79637   ]]\n",
      "\n",
      " [[ 0.6539612   0.6539612   0.6539612  ...  0.6539612   0.6539612\n",
      "    0.6539612 ]\n",
      "  [ 3.850586    3.2975159   3.4682007  ...  4.9922028   4.5670776\n",
      "    3.8230133 ]\n",
      "  [ 8.064209    6.6433716   5.3958435  ... 12.194733   10.70993\n",
      "    9.425949  ]\n",
      "  ...\n",
      "  [29.263733   29.112518   28.974457   ... 29.828918   29.46347\n",
      "   29.331604  ]\n",
      "  [29.052444   29.035217   29.029617   ... 29.092148   29.09694\n",
      "   29.107422  ]\n",
      "  [32.261963   32.261963   32.261963   ... 32.261963   32.261963\n",
      "   32.261963  ]]\n",
      "\n",
      " ...\n",
      "\n",
      " [[ 0.47561646  0.47561646  0.47561646 ...  0.47561646  0.47561646\n",
      "    0.47561646]\n",
      "  [ 4.1496277   3.682953    3.1825562  ...  4.7117615   4.074341\n",
      "    4.263855  ]\n",
      "  [ 6.164215    5.6137695   4.7002563  ...  9.081177    8.068481\n",
      "    7.1414795 ]\n",
      "  ...\n",
      "  [13.085693   13.017517   12.987061   ... 13.159149   13.140533\n",
      "   13.1276245 ]\n",
      "  [12.226074   12.1953125  12.195251   ... 12.221985   12.236389\n",
      "   12.253479  ]\n",
      "  [11.372772   11.372772   11.372772   ... 11.372772   11.372772\n",
      "   11.372772  ]]\n",
      "\n",
      " [[-1.4418335  -1.4418335  -1.4418335  ... -1.4418335  -1.4418335\n",
      "   -1.4418335 ]\n",
      "  [ 0.57321167  0.38464355  0.10140991 ...  0.5691223   0.44232178\n",
      "    0.24395752]\n",
      "  [ 1.2494507   0.87887573  0.6378784  ...  2.8797913   2.1455688\n",
      "    1.6774902 ]\n",
      "  ...\n",
      "  [ 9.540009    9.535706    9.609192   ...  9.585815    9.5217285\n",
      "    9.51709   ]\n",
      "  [ 9.015778    9.011597    9.006866   ...  9.103058    9.136169\n",
      "    9.127594  ]\n",
      "  [ 8.827911    8.827911    8.827911   ...  8.827911    8.827911\n",
      "    8.827911  ]]\n",
      "\n",
      " [[ 0.3567505   0.3567505   0.3567505  ...  0.3567505   0.3567505\n",
      "    0.3567505 ]\n",
      "  [ 2.703888    2.6145935   2.4752197  ...  3.1683044   3.0716553\n",
      "    2.888031  ]\n",
      "  [ 4.490448    4.21463     3.953308   ...  5.0765076   4.900879\n",
      "    4.696228  ]\n",
      "  ...\n",
      "  [ 4.76474     4.700714    4.622162   ...  5.053955    4.970215\n",
      "    4.844513  ]\n",
      "  [ 4.6794434   4.618622    4.5920105  ...  4.7570496   4.7456055\n",
      "    4.769562  ]\n",
      "  [ 4.38089     4.38089     4.38089    ...  4.38089     4.38089\n",
      "    4.38089   ]]]\n"
     ]
    }
   ],
   "source": [
    "#..Lower Troposphere Stability\n",
    "k  = 0.286\n",
    "theta_700  = np.array(T_700)* (100000./70000.)**k\n",
    "\n",
    "#print(theta_700)\n",
    "\n",
    "theta_skin = np.array(sfc_T)* (100000./np.array(sfc_P))**k\n",
    "LTS_m  = theta_700 - theta_skin\n",
    "\n",
    "#..Subtract the outliers in T_700 and LTS_m\n",
    "LTS_e  = np.ma.masked_where(theta_700 >= 500, LTS_m)\n",
    "print(LTS_e, LTS_m)\n",
    "\n",
    "#..Subsidence, units in Pa s^-1 at 500 hPa\n",
    "Subsidence =  np.array(sub)"
   ]
  },
  {
   "cell_type": "code",
   "execution_count": 8,
   "id": "8a6ecdde-b493-45a1-9093-658561d8d1a2",
   "metadata": {},
   "outputs": [
    {
     "name": "stdout",
     "output_type": "stream",
     "text": [
      "(300, 143, 144) (300, 35, 144)\n"
     ]
    }
   ],
   "source": [
    "#..Convert variables becoming Annual-mean, Southern-Ocean region arrays\n",
    "\n",
    "Tg  = np.zeros((300,143,144))   #..Surface air Temperature, GMT, shapein (300,143,144)!!\n",
    "LWP_yr  = np.zeros((300,35,144))\n",
    "\n",
    "p_e_yr  = np.zeros((300,35,144))\n",
    "SST_yr  = np.zeros((300,35,144))\n",
    "SUB_yr  = np.zeros((300,35,144))\n",
    "LTS_yr  = np.zeros((300,35,144))\n",
    "\n",
    "TWP_yr  = np.zeros((300,35,144))\n",
    "IWP_yr  = np.zeros((300,35,144))\n",
    "#..annual mean data of LWP, Tg and CCFs\n",
    "\n",
    "for i in range(0, 300):     #..shape in 3yr !!\n",
    "    Tg[i,:,:]     = np.nanmean(gmt[i*12:(i+1)*12,:,:], axis=0)\n",
    "    LWP_yr[i,:,:]  = np.nanmean(LWP[i*12:(i+1)*12, latsi1:latsi0,:], axis=0)\n",
    "    p_e_yr[i,:,:] = np.nanmean(MC[i*12:(i+1)*12, latsi1:latsi0,:], axis=0)\n",
    "    SST_yr[i,:,:]    = np.nanmean(SST[i*12:(i+1)*12, latsi1:latsi0,:], axis=0)\n",
    "    \n",
    "    LTS_yr[i,:,:]    = np.nanmean(LTS_e[i*12:(i+1)*12, latsi1:latsi0,:], axis=0)\n",
    "    SUB_yr[i,:,:]    = np.nanmean(Subsidence[i*12:(i+1)*12, latsi1:latsi0,:], axis=0)\n",
    "\n",
    "    TWP_yr[i,:,:]  = np.nanmean(Twp[i*12:(i+1)*12, latsi1:latsi0, :], axis=0)\n",
    "    IWP_yr[i,:,:]  = np.nanmean(Iwp[i*12:(i+1)*12, latsi1:latsi0, :], axis=0)\n",
    "print(Tg.shape, LTS_yr.shape)   #..shape in (300, 143, 144) or (300, 35, 144)\n",
    "\n"
   ]
  },
  {
   "cell_type": "code",
   "execution_count": 9,
   "id": "fdd85e35-e03c-4a3b-92a3-2611b0714941",
   "metadata": {
    "tags": []
   },
   "outputs": [],
   "source": [
    "def binned_cySouthOcean5(S, lat, lon):\n",
    "    '''\n",
    "    Calculate the binned array for the mean value within 5X5 degree Bin Boxes in SouthOcean REGION\n",
    "    '''\n",
    "\n",
    "    XX, YY  = np.meshgrid(lon, lat, indexing='xy')\n",
    "    #..Southern Ocean region from 85S 40S\n",
    "    x_range  = np.arange(0., 364, 5.)   #..number:73\n",
    "    y_range  = np.arange(-85., -35, 5.)   #.. (10)\n",
    "    \n",
    "    xbins, ybins = len(x_range), len(y_range)\n",
    "    \n",
    "    S_binned_array  = np.zeros((S.shape[0],ybins,xbins))\n",
    "    \n",
    "    for i in np.arange(S.shape[0]):\n",
    "        S_time_step  = S[i,:,:]\n",
    "        \n",
    "        #..find and subtract the missing points\n",
    "        ind =  np.isnan(S[i,:,:])==False\n",
    "        S_binned_time , xedge, yedge, binnumber  = stats.binned_statistic_2d(XX[ind].ravel(),YY[ind].ravel(), values = S_time_step[ind].ravel(),\n",
    "                                                                            statistic ='mean', bins=[xbins, ybins], expand_binnumbers =True)\n",
    "        \n",
    "        S_binned_array[i,:,:] = S_binned_time.T\n",
    "    \n",
    "    return S_binned_array\n"
   ]
  },
  {
   "cell_type": "code",
   "execution_count": 10,
   "id": "92c43874-7984-44c7-969e-da9e76dfb20a",
   "metadata": {
    "tags": []
   },
   "outputs": [],
   "source": [
    "def binned_cyGlobal5(S, lat, lon):\n",
    "    '''\n",
    "    Calculate the binned array for the mean value within 5X5 degree Bin Boxes in global REGION\n",
    "    '''\n",
    "\n",
    "    XX, YY  = np.meshgrid(lon, lat, indexing='xy')\n",
    "    #..Global region from 90S 90N\n",
    "    x_range  = np.arange(0., 364, 5.)   #..number:73\n",
    "    y_range  = np.arange(-90., 90, 5.)   #..(37)\n",
    "    \n",
    "    xbins, ybins = len(x_range), len(y_range)\n",
    "    \n",
    "    S_binned_array  = np.zeros((S.shape[0],ybins,xbins))\n",
    "    \n",
    "    for i in np.arange(S.shape[0]):\n",
    "        S_time_step  = S[i,:,:]\n",
    "        \n",
    "        #..find and subtract the missing points\n",
    "        ind =  np.isnan(S[i,:,:])==False\n",
    "        S_binned_time , xedge, yedge, binnumber  = stats.binned_statistic_2d(XX[ind].ravel(),YY[ind].ravel(), values = S_time_step[ind].ravel(),\n",
    "                                                                            statistic ='mean', bins=[xbins, ybins], expand_binnumbers =True)\n",
    "        \n",
    "        S_binned_array[i,:,:] = S_binned_time.T\n",
    "    \n",
    "    return S_binned_array\n"
   ]
  },
  {
   "cell_type": "code",
   "execution_count": 11,
   "id": "01fed898-5802-49a8-abb1-a7df0a812e81",
   "metadata": {
    "tags": []
   },
   "outputs": [
    {
     "name": "stdout",
     "output_type": "stream",
     "text": [
      "(300, 36, 73)\n"
     ]
    }
   ],
   "source": [
    "\n",
    "#..Calculate 5X5 degree binned array for P-E, SST, LTS, SUB, 2-m air Temperature(Tg) and the LWP:\n",
    "\n",
    "lat_array0  = lats   #..143 values\n",
    "lon_array0  = lons\n",
    "lat_array1  = lats[latsi1:latsi0]   #..35 values\n",
    "\n",
    "#x_range  = np.arange(0., 364, 5.)   #..number:73\n",
    "#y_range  = np.arange(-85., -35, 5.)   #.. 40 S - 85 S(10)\n",
    "\n",
    "#xbins, ybins = len(x_range), len(y_range)\n",
    "\n",
    "Tg_yr_bin  = binned_cyGlobal5(Tg, lat_array0, lon_array0)   #..shape in (300, 36, 73)\n",
    "LWP_yr_bin  = binned_cySouthOcean5(LWP_yr, lat_array1, lon_array0)   #..shape in (300, 10, 73)\n",
    "\n",
    "SST_yr_bin  = binned_cySouthOcean5(SST_yr, lat_array1, lon_array0)\n",
    "\n",
    "p_e_yr_bin  = binned_cySouthOcean5(p_e_yr, lat_array1, lon_array0)\n",
    "\n",
    "\n",
    "LTS_yr_bin  = binned_cySouthOcean5(LTS_yr, lat_array1, lon_array0)\n",
    "SUB_yr_bin  = binned_cySouthOcean5(SUB_yr, lat_array1, lon_array0)\n",
    "\n",
    "TWP_yr_bin  = binned_cySouthOcean5(TWP_yr, lat_array1, lon_array0)\n",
    "IWP_yr_bin  = binned_cySouthOcean5(IWP_yr, lat_array1, lon_array0)\n",
    "\n",
    "\n",
    "print(Tg_yr_bin.shape)   #..Tg:(300, 36, 73); LWP&CCFs:(300, 10, 73)"
   ]
  },
  {
   "cell_type": "code",
   "execution_count": 12,
   "id": "f10f5724-35f4-47c4-b83d-2dcde0772cd4",
   "metadata": {
    "tags": []
   },
   "outputs": [],
   "source": [
    "def area_mean(S, lats, lons):\n",
    "    \n",
    "    '''..Only for 1 final value..\n",
    "    '''\n",
    "    GMT  = np.zeros(S.shape[0])\n",
    "    for i in np.arange(S.shape[0]):\n",
    "        \n",
    "        S_time_step  = S[i,:,:]\n",
    "        #..weighted by cos(lat):\n",
    "        xlon, ylat  = np.meshgrid(lons, lats)\n",
    "\n",
    "        weighted_metrix1 =  np.cos(np.deg2rad(ylat))   #..metrix has the same shape as tas/lwp, its value = cos(lat)\n",
    "        toc1  = np.sum(weighted_metrix1)   #..total of cos(lat metrix) for global region\n",
    "\n",
    "        S_weighted =  S_time_step * weighted_metrix1 / toc1\n",
    "        \n",
    "        GMT[i]  = np.nansum(S_weighted, axis=(0,1))\n",
    "    \n",
    "    return GMT\n"
   ]
  },
  {
   "cell_type": "code",
   "execution_count": 14,
   "id": "83e96f02-afea-4e8d-a5ba-fc81058b537e",
   "metadata": {
    "tags": []
   },
   "outputs": [
    {
     "data": {
      "text/plain": [
       "array([-90., -85., -80., -75., -70., -65., -60., -55., -50., -45., -40.,\n",
       "       -35., -30., -25., -20., -15., -10.,  -5.,   0.,   5.,  10.,  15.,\n",
       "        20.,  25.,  30.,  35.,  40.,  45.,  50.,  55.,  60.,  65.,  70.,\n",
       "        75.,  80.,  85.])"
      ]
     },
     "execution_count": 14,
     "metadata": {},
     "output_type": "execute_result"
    }
   ],
   "source": [
    "s_range  = np.arange(-90., 90, 5.)\n",
    "\n",
    "s_range"
   ]
  },
  {
   "cell_type": "code",
   "execution_count": 15,
   "id": "607c6752-ed13-4ade-a30c-ce90bbd1f7ce",
   "metadata": {
    "tags": []
   },
   "outputs": [
    {
     "name": "stdout",
     "output_type": "stream",
     "text": [
      "(300,)\n"
     ]
    }
   ],
   "source": [
    "#..do the area-mean for Tg and CCFs and LWP:\n",
    "x_range  = np.arange(0., 364, 5.)   #..number:73\n",
    "y_range  = np.arange(-85., -35, 5.) + 2.5   #.. 40 S - 85 S(10)\n",
    "\n",
    "s_range  = np.arange(-90., 90, 5.) + 2.5 #..(36)\n",
    "\n",
    "GMT  = area_mean(Tg_yr_bin, s_range, x_range)            #..ALL in shape : (300 )\n",
    "\n",
    "LWP_area_yr  = area_mean(LWP_yr_bin, y_range, x_range)\n",
    "SST_area_yr  = area_mean(SST_yr_bin, y_range, x_range)\n",
    "p_e_area_yr  = area_mean(p_e_yr_bin, y_range, x_range)\n",
    "LTS_area_yr  = area_mean(LTS_yr_bin, y_range, x_range)\n",
    "SUB_area_yr  = area_mean(SUB_yr_bin, y_range, x_range)\n",
    "\n",
    "IWP_area_yr  = area_mean(IWP_yr_bin, y_range, x_range)\n",
    "TWP_area_yr  = area_mean(TWP_yr_bin, y_range, x_range)\n",
    "\n",
    "\n",
    "print(SST_area_yr.shape)"
   ]
  },
  {
   "cell_type": "code",
   "execution_count": 21,
   "id": "0e5792c4-01a0-437d-ab3b-57546a46324f",
   "metadata": {
    "tags": []
   },
   "outputs": [
    {
     "name": "stdout",
     "output_type": "stream",
     "text": [
      "(219000,)\n",
      "nan 0.16323813050985336\n",
      "(206114,)\n"
     ]
    }
   ],
   "source": [
    "#..Calculate the 300* 10* 73 points metric for 'p-e'/other CCFs and LWP and GMT:\n",
    "#..ravel binned arrays\n",
    "\n",
    "LWP_bin_pred  = LWP_yr_bin.flatten()     #..shape in 300* 10* 73 =  ... values\n",
    "p_e_bin_pred  = p_e_yr_bin.flatten() \n",
    "SST_bin_pred  = SST_yr_bin.flatten() \n",
    "\n",
    "LTS_bin_pred  = LTS_yr_bin.flatten()\n",
    "SUB_bin_pred  = SUB_yr_bin.flatten()\n",
    "\n",
    "TWP_bin_pred  = TWP_yr_bin.flatten()\n",
    "IWP_bin_pred  = IWP_yr_bin.flatten()\n",
    "print(p_e_bin_pred.shape)   #..Tg:(300, 36, 73 ); LWP&CCFs:(300, 10, 73)=219000 points\n",
    "\n",
    "#..Use 'np.repeat' and 'np.tile' to reproduce the GMT Array:\n",
    "\n",
    "gmt_bin_pred  = GMT.repeat(730)\n",
    "#print(gmt_bin_pred.shape)\n",
    "\n",
    "#..Subtract 'nan' in data, 219000 -> 206114points\n",
    "print(np.max(LTS_bin_pred), np.max(SUB_bin_pred))\n",
    "\n",
    "ind1 =  np.isnan(LTS_yr_bin)==False\n",
    "ind2 =  np.isnan(LTS_area_yr)==False\n",
    "ind3 =  np.isnan(LTS_bin_pred)==False\n",
    "print(SUB_bin_pred[ind3].shape)"
   ]
  },
  {
   "cell_type": "code",
   "execution_count": 30,
   "id": "cb53a271-09a3-470b-9ff4-896dbc72e558",
   "metadata": {
    "tags": []
   },
   "outputs": [
    {
     "data": {
      "image/png": "[encoded data removed]",
      "text/plain": [
       "<Figure size 741.6x489.6 with 1 Axes>"
      ]
     },
     "metadata": {
      "needs_background": "light"
     },
     "output_type": "display_data"
    }
   ],
   "source": [
    "#..plot the LWP(TWP/IWP) trends with (moisture convergence) trendin the 150yr abrupt4XCO2 experiment:\n",
    "fig  = plt.figure(figsize = (10.3, 6.8))\n",
    "ax1  = plt.axes()\n",
    "\n",
    "yy  = np.arange(300)\n",
    "\n",
    "plt.scatter(p_e_area_yr, TWP_area_yr)   #..p_e_area_yr\n",
    "\n",
    "plt.xlabel('p-e(Moisture convergence)')#..GMT(2-m air Temperature)\n",
    "plt.ylabel('$Total  Water Path_{abrupt4XCO2}$')\n",
    "#plt.ylim((0.08, 0.16))\n",
    "\n",
    "parameter  = np.polyfit(p_e_area_yr, TWP_area_yr, 3)\n",
    "#y  = parameter[0]*p_e_area_yr + parameter[1]\n",
    "y  = parameter[0]*p_e_area_yr**3 + parameter[1]*p_e_area_yr**2 + parameter[2]*p_e_area_yr  + parameter[3]\n",
    "\n",
    "plt.plot(p_e_area_yr, y, 'r')\n",
    "plt.savefig('twp_abrupt_vs_moisture_convergence_IPSL.png')\n",
    "\n"
   ]
  },
  {
   "cell_type": "code",
   "execution_count": 37,
   "id": "1c25f47c-b97d-4707-8a5b-95fc8277c297",
   "metadata": {
    "tags": []
   },
   "outputs": [
    {
     "data": {
      "image/png": "[encoded data removed]",
      "text/plain": [
       "<Figure size 741.6x489.6 with 1 Axes>"
      ]
     },
     "metadata": {
      "needs_background": "light"
     },
     "output_type": "display_data"
    }
   ],
   "source": [
    "#..plot the p-e / LWP trends in the 150yr abrupt4XCO2 experiment:\n",
    "fig  = plt.figure(figsize = (10.3, 6.8))\n",
    "ax1  = plt.axes()\n",
    "\n",
    "yy  = np.arange(300)\n",
    "\n",
    "plt.scatter(GMT, LWP_area_yr)   #..p_e_area_yr\n",
    "\n",
    "plt.xlabel('GMT(2-m air Temperature)')#..GMT(2-m air Temperature)\n",
    "plt.ylabel('$Liquid Water Path_{abrupt4XCO2}$')\n",
    "#plt.ylim((0.08, 0.16))\n",
    "\n",
    "parameter  = np.polyfit(GMT, LWP_area_yr, 3)\n",
    "#y  = parameter[0]*p_e_area_yr + parameter[1]\n",
    "y  = parameter[0]*GMT**3 + parameter[1]*GMT**2 + parameter[2]*GMT  + parameter[3]\n",
    "\n",
    "plt.plot(GMT , y, 'r')###..\n",
    "\n",
    "plt.savefig('lwp_abrupt_vs_GMT_IPSL.png')\n"
   ]
  },
  {
   "cell_type": "code",
   "execution_count": 25,
   "id": "ac203271-0f27-48bc-8333-5f31c3f22639",
   "metadata": {
    "collapsed": true,
    "jupyter": {
     "outputs_hidden": true,
     "source_hidden": true
    },
    "tags": []
   },
   "outputs": [
    {
     "name": "stdout",
     "output_type": "stream",
     "text": [
      "(300,)\n"
     ]
    }
   ],
   "source": [
    "#..Standardized data:\n",
    "\n",
    "GMT_afpre  = GMT\n",
    "GMT_afpre  = (GMT - np.mean(GMT))  / np.std(GMT)\n",
    "\n",
    "LWP_afpre  = LWP_area_yr\n",
    "LWP_afpre =  (LWP_area_yr - np.mean(LWP_area_yr) )/np.std(LWP_area_yr)\n",
    "\n",
    "\n",
    "SST_afpre  = SST_area_yr\n",
    "SST_afpre =  (SST_area_yr - np.mean(SST_area_yr)) /np.std(SST_area_yr)\n",
    "\n",
    "p_e_afpre =  p_e_area_yr\n",
    "p_e_afpre =  (p_e_area_yr - np.mean(p_e_area_yr)) /np.std(p_e_area_yr)\n",
    "\n",
    "LTS_afpre  = LTS_area_yr\n",
    "LTS_afpre =  (LTS_area_yr - np.nanmean(LTS_area_yr)) /np.nanstd(LTS_area_yr)\n",
    "\n",
    "SUB_afpre  = SUB_area_yr\n",
    "SUB_afpre  = (SUB_area_yr - np.mean(SUB_area_yr)) /np.std(SUB_area_yr)\n",
    "\n",
    "#..Subtract 'nan' in data, remains 300 points\n",
    "ind5 =  np.isnan(LTS_area_yr)==False  \n",
    "print(ind5.shape)"
   ]
  },
  {
   "cell_type": "code",
   "execution_count": 31,
   "id": "6d7d169b-5032-4e6e-8ad4-4acb6491e3d2",
   "metadata": {},
   "outputs": [
    {
     "name": "stdout",
     "output_type": "stream",
     "text": [
      "[0.00722776]\n",
      "-2.015263346210882\n",
      "[1.22242146] [0.0601984] [-0.09385316] [0.00015433]\n"
     ]
    }
   ],
   "source": [
    "#..linear regreesion of Cloud Controlling Factors (CCF) to GMT:\n",
    "\n",
    "regr = linear_model.LinearRegression()\n",
    "re_LWP = regr.fit(gmt_bin_pred[ind3].reshape(-1,1), LWP_bin_pred[ind3])\n",
    "\n",
    "print(re_LWP.coef_)\n",
    "print(re_LWP.intercept_)\n",
    "\n",
    "regr1 = linear_model.LinearRegression()\n",
    "regr2 = linear_model.LinearRegression()\n",
    "regr3 = linear_model.LinearRegression()\n",
    "regr4 = linear_model.LinearRegression()\n",
    "re_SST = regr1.fit(gmt_bin_pred[ind3].reshape(-1,1), SST_bin_pred[ind3])\n",
    "re_p_e = regr2.fit(gmt_bin_pred[ind3].reshape(-1,1), p_e_bin_pred[ind3])\n",
    "re_LTS = regr3.fit(gmt_bin_pred[ind3].reshape(-1,1), LTS_bin_pred[ind3])\n",
    "\n",
    "re_SUB = regr4.fit(gmt_bin_pred[ind3].reshape(-1,1), SUB_bin_pred[ind3])\n",
    "print(re_SST.coef_, re_p_e.coef_, re_LTS.coef_, re_SUB.coef_ )\n",
    "\n",
    "dX_dTg  = [re_SST.coef_, re_p_e.coef_, re_LTS.coef_, re_SUB.coef_]\n",
    "\n",
    "\n",
    "\n",
    "\n"
   ]
  },
  {
   "cell_type": "code",
   "execution_count": 32,
   "id": "631538dd-d09c-404e-80b5-04d8b1cf155a",
   "metadata": {},
   "outputs": [
    {
     "name": "stdout",
     "output_type": "stream",
     "text": [
      "-0.49490642674103835\n"
     ]
    }
   ],
   "source": [
    "\n",
    "coef1  = np.load('sensitivity_4ccfs_ipsl.npy')\n",
    "intercept1  = np.load('intercept1_ipsl.npy')\n",
    "\n",
    "np.save( 'CCFs_changes_T_ipsl.npy', dX_dTg )\n",
    "\n",
    "intercept0  = np.load('intercept1.npy')\n",
    "print(intercept0)"
   ]
  },
  {
   "cell_type": "code",
   "execution_count": 33,
   "id": "92e7a890-c584-4ca5-b214-77e5e151262a",
   "metadata": {},
   "outputs": [
    {
     "name": "stdout",
     "output_type": "stream",
     "text": [
      "[ 0.00260983  0.00953104 -0.00220453  0.41585783]\n",
      "-0.6047988210526626\n"
     ]
    }
   ],
   "source": [
    "print(coef1)\n",
    "print(intercept1)"
   ]
  },
  {
   "cell_type": "code",
   "execution_count": 35,
   "id": "dc4c5dcf-c09f-4ef5-b140-490d4e35f029",
   "metadata": {},
   "outputs": [
    {
     "name": "stdout",
     "output_type": "stream",
     "text": [
      "(4, 300)\n",
      "(300,)\n",
      "(1, 300)\n"
     ]
    },
    {
     "data": {
      "image/png": "[encoded data removed]",
      "text/plain": [
       "<Figure size 748.8x525.6 with 1 Axes>"
      ]
     },
     "metadata": {
      "needs_background": "light"
     },
     "output_type": "display_data"
    }
   ],
   "source": [
    "#..draw the plot for 'abrupt4' experiment's LWP and the predicted LWP from linear Regression Model trained in 'pi-control'\n",
    "\n",
    "fig2  = plt.figure(figsize = (10.4, 7.3))\n",
    "ax2  = plt.axes()\n",
    "\n",
    "plt.scatter(GMT, LWP_area_yr, label='$LWP_{abrupt4XCO2}$')\n",
    "\n",
    "XX  = np.array([SST_area_yr, p_e_area_yr, LTS_area_yr, SUB_area_yr])\n",
    "print(XX.shape)\n",
    "\n",
    "yr =  np.dot(coef1.reshape(1,-1), XX)\n",
    "predicted_LWP  = yr  + intercept1\n",
    "#print(yr)\n",
    "\n",
    "print(np.array(GMT).shape)\n",
    "print(np.array(predicted_LWP).shape)\n",
    "\n",
    "plt.plot(GMT,predicted_LWP.flatten(), \"g\", label='$aLWP/aX_{picontrol}*{dX_{abrupt4XCO2}/dGMT}$')\n",
    "#plt.ylim((0.105, 0.121))\n",
    "\n",
    "\n",
    "plt.xlabel('GMT')\n",
    "plt.ylabel('LWP')\n",
    "plt.title(\"Liquid Water Path in abrupt4XCO2 experiement and the predicted value with pi-Control Sensitivity in IPSL-CM6A-LR\")  #..!!\n",
    "\n",
    "plt.legend()\n",
    "plt.savefig(\"Linear_Regression_IPSLabrupt.png\")\n",
    "\n",
    "\n",
    "\n",
    "\n",
    "\n",
    "\n",
    "\n",
    "\n"
   ]
  },
  {
   "cell_type": "code",
   "execution_count": null,
   "id": "b8c5f36c-9bc7-4ed0-8c10-b62125c6a9d7",
   "metadata": {},
   "outputs": [],
   "source": []
  },
  {
   "cell_type": "code",
   "execution_count": 36,
   "id": "4d8440c2-7f69-4083-a816-8322124e4f68",
   "metadata": {},
   "outputs": [
    {
     "name": "stdout",
     "output_type": "stream",
     "text": [
      "[[0.00403515]]\n"
     ]
    }
   ],
   "source": [
    "np.array(dX_dTg).reshape(-1,1)\n",
    "\n",
    "dLWP_DTg  = np.dot(coef1.reshape(1,-1), np.array(dX_dTg).reshape(-1,1) )\n",
    "print(dLWP_DTg)"
   ]
  },
  {
   "cell_type": "code",
   "execution_count": null,
   "id": "3573bb78-d3b8-418f-bd41-095338338704",
   "metadata": {},
   "outputs": [],
   "source": []
  }
 ],
 "metadata": {
  "kernelspec": {
   "display_name": "NPL-3.7.9",
   "language": "python",
   "name": "npl-3.7.9"
  },
  "language_info": {
   "codemirror_mode": {
    "name": "ipython",
    "version": 3
   },
   "file_extension": ".py",
   "mimetype": "text/x-python",
   "name": "python",
   "nbconvert_exporter": "python",
   "pygments_lexer": "ipython3",
   "version": "3.7.9"
  }
 },
 "nbformat": 4,
 "nbformat_minor": 5
}
