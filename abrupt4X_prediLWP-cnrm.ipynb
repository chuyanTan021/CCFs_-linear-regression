{
 "cells": [
  {
   "cell_type": "code",
   "execution_count": 1,
   "id": "delayed-insight",
   "metadata": {},
   "outputs": [],
   "source": [
    "#..modified by CHUYAN at September/10/2021; calculate binned P-E/SST/subsidence/ LTS and LWP array for Model: CNRM-Cerfacs-ESM2; (annual-mean, binned 5X5degree,\n",
    "#.. area-mean data, standardized data) for abrupt4XCO2 experiment, then use the sensitivity of LWP to CCFs to get a Linear regression model to predict\n",
    "#..d(LWP)/dGMT..\n",
    "\n",
    "import netCDF4\n",
    "import numpy as np\n",
    "import matplotlib.pyplot as plt\n",
    "import xarray as xr\n",
    "import PyNIO as Nio\n",
    "import pandas as pd\n",
    "\n",
    "from scipy import stats\n",
    "from sklearn import linear_model"
   ]
  },
  {
   "cell_type": "code",
   "execution_count": 2,
   "id": "093b6104-a906-47e8-9c32-2126bae6cf86",
   "metadata": {},
   "outputs": [],
   "source": [
    "#..retrieve variables in abrupt-4xCO2 experiment\n",
    "\n",
    "fpath_abr_ts    = '/glade/collections/cmip/CMIP6/CMIP/CNRM-CERFACS/CNRM-ESM2-1/abrupt-4xCO2/r1i1p1f2/Amon/ts/gr/v20181026/ts/ts_Amon_CNRM-ESM2-1_abrupt-4xCO2_r1i1p1f2_gr_185001-199912.nc'\n",
    "fpath_abr_ta    = '/glade/collections/cmip/CMIP6/CMIP/CNRM-CERFACS/CNRM-ESM2-1/abrupt-4xCO2/r1i1p1f2/Amon/ta/gr/v20181026/ta/ta_Amon_CNRM-ESM2-1_abrupt-4xCO2_r1i1p1f2_gr_185001-199912.nc'\n",
    "fpath_abr_ps    = '/glade/collections/cmip/CMIP6/CMIP/CNRM-CERFACS/CNRM-ESM2-1/abrupt-4xCO2/r1i1p1f2/Amon/ps/gr/v20181026/ps/ps_Amon_CNRM-ESM2-1_abrupt-4xCO2_r1i1p1f2_gr_185001-199912.nc'\n",
    "fpath_abr_wap   = '/glade/collections/cmip/CMIP6/CMIP/CNRM-CERFACS/CNRM-ESM2-1/abrupt-4xCO2/r1i1p1f2/Amon/wap/gr/v20181026/wap/wap_Amon_CNRM-ESM2-1_abrupt-4xCO2_r1i1p1f2_gr_185001-199912.nc'\n",
    "fpath_abr_clivi = '/glade/collections/cmip/CMIP6/CMIP/CNRM-CERFACS/CNRM-ESM2-1/abrupt-4xCO2/r1i1p1f2/Amon/clivi/gr/v20181026/clivi/clivi_Amon_CNRM-ESM2-1_abrupt-4xCO2_r1i1p1f2_gr_185001-199912.nc'\n",
    "fpath_abr_clwvi = '/glade/collections/cmip/CMIP6/CMIP/CNRM-CERFACS/CNRM-ESM2-1/abrupt-4xCO2/r1i1p1f2/Amon/clwvi/gr/v20181026/clwvi/clwvi_Amon_CNRM-ESM2-1_abrupt-4xCO2_r1i1p1f2_gr_185001-199912.nc'\n",
    "fpath_abr_tas   = '/glade/collections/cmip/CMIP6/CMIP/CNRM-CERFACS/CNRM-ESM2-1/abrupt-4xCO2/r1i1p1f2/Amon/tas/gr/v20181026/tas/tas_Amon_CNRM-ESM2-1_abrupt-4xCO2_r1i1p1f2_gr_185001-199912.nc'\n",
    "\n",
    "fpath_p     = '/glade/collections/cmip/CMIP6/CMIP/CNRM-CERFACS/CNRM-ESM2-1/abrupt-4xCO2/r1i1p1f2/Amon/pr/gr/v20181026/pr/pr_Amon_CNRM-ESM2-1_abrupt-4xCO2_r1i1p1f2_gr_185001-199912.nc'\n",
    "fpath_e     = '/glade/collections/cmip/CMIP6/CMIP/CNRM-CERFACS/CNRM-ESM2-1/abrupt-4xCO2/r1i1p1f2/Amon/evspsbl/gr/v20181026/evspsbl/evspsbl_Amon_CNRM-ESM2-1_abrupt-4xCO2_r1i1p1f2_gr_185001-199912.nc'\n",
    "\n",
    "\n",
    "f_ts        = netCDF4.Dataset(fpath_abr_ts,'r')\n",
    "f_ta        = netCDF4.Dataset(fpath_abr_ta,'r')\n",
    "f_tas       = netCDF4.Dataset(fpath_abr_tas,'r')\n",
    "f_ps        = netCDF4.Dataset(fpath_abr_ps,'r')\n",
    "f_wap       = netCDF4.Dataset(fpath_abr_wap,'r')\n",
    "f_clivi     = netCDF4.Dataset(fpath_abr_clivi,'r')\n",
    "f_clwvi     = netCDF4.Dataset(fpath_abr_clwvi,'r')\n",
    "\n",
    "f_pr        = netCDF4.Dataset(fpath_p, 'r')\n",
    "f_ev        = netCDF4.Dataset(fpath_e, 'r')\n",
    "\n",
    "lons        = f_ts.variables['lon'][:]\n",
    "lats        = f_ts.variables['lat']\n",
    "times       = f_ts.variables['time']\n",
    "\n",
    "\n",
    "levels      = f_ta.variables['plev']\n",
    "#print(levels)"
   ]
  },
  {
   "cell_type": "code",
   "execution_count": 3,
   "id": "db6efa55-485d-4fba-a464-7a27c34140e3",
   "metadata": {},
   "outputs": [
    {
     "name": "stdout",
     "output_type": "stream",
     "text": [
      "(1800, 128, 256)\n"
     ]
    }
   ],
   "source": [
    "#..choose lat 40 -85 °S as the Southern Ocean region\n",
    "lati0 = -40.\n",
    "latsi0= min(range(len(lats)), key = lambda i: abs(lats[i] - lati0))\n",
    "lati1 = -85.\n",
    "latsi1= min(range(len(lats)), key = lambda i: abs(lats[i] - lati1))\n",
    "\n",
    "\n",
    "sfc_T       = f_ts.variables['ts']   #..T_skin, also as SST, shape in (1800,128,256)!!, units in K\n",
    "T_700       = f_ta.variables['ta'][:, 3,:,:]\n",
    "sfc_P       = f_ps.variables['ps']   #..Units in Pa, surface Pressure\n",
    "\n",
    "sub         = f_wap.variables['wap'][:, 5,:,:]    #..500mb downward motions\n",
    "clivi       = f_clivi.variables['clivi']   #..Units in kg m^-2\n",
    "clwvi       = f_clwvi.variables['clwvi']\n",
    "tas         = f_tas.variables['tas']   #..2-m air Temperature, for 'gmt'\n",
    "\n",
    "P           = f_pr.variables['pr']   #..Units in kg m^-2 s^-1 = mm *s^-1\n",
    "E           = f_ev.variables['evspsbl']\n",
    "\n",
    "print(sfc_T.shape)"
   ]
  },
  {
   "cell_type": "code",
   "execution_count": 4,
   "id": "cfd14042-c919-4604-b39a-14f89f818bba",
   "metadata": {},
   "outputs": [
    {
     "name": "stdout",
     "output_type": "stream",
     "text": [
      "(1800, 128, 256) (1800, 128, 256)\n",
      "(1800, 128, 256) (1800, 128, 256) (1800, 128, 256)\n"
     ]
    }
   ],
   "source": [
    "print(sfc_P.shape, T_700.shape)\n",
    "print(tas.shape, P.shape, E.shape)"
   ]
  },
  {
   "cell_type": "code",
   "execution_count": 5,
   "id": "consecutive-convertible",
   "metadata": {},
   "outputs": [
    {
     "name": "stdout",
     "output_type": "stream",
     "text": [
      "2.6877291\n",
      "2.4250252\n",
      "(1800, 128, 256)\n"
     ]
    }
   ],
   "source": [
    "Precip =  np.array(P) * (24.*60.*60.)   #..Precipitation. Convert the units from kg m^-2 s^-1 -> mm*day^-1\n",
    "print(np.nanmean(Precip))   #..2.74 /IPSL..2.80  /CNRM..2.69\n",
    "Eva    =  np.array(E) * (24.*60.*60.)   #..evaporation, mm day^-1\n",
    "print(np.nanmean(Eva))         #..2.43 /IPSL..2.50  /CNRM..2.43\n",
    "print(Eva.shape)   #..variable shape in (3600, 143, 144)\n"
   ]
  },
  {
   "cell_type": "code",
   "execution_count": 6,
   "id": "67213d66-ddc8-443d-8db2-264ac59d7b30",
   "metadata": {},
   "outputs": [],
   "source": [
    "#..Variables: LWP, tas(gmt), SST, p-e, LTS, subsidence\n",
    "\n",
    "LWP  = np.array(clwvi) - np.array(clivi)   #..units in kg m^-2\n",
    "gmt  = np.array(tas)\n",
    "SST  = np.array(sfc_T)\n",
    "MC  = Precip-Eva   #..Moisture Convergence calculated from P - E, Units in mm day^-1\n",
    "\n",
    "Twp  = np.array(clwvi)\n",
    "Iwp  = np.array(clivi)\n"
   ]
  },
  {
   "cell_type": "code",
   "execution_count": 7,
   "id": "5286b4ce-c0e0-403a-9860-761086c80c00",
   "metadata": {
    "tags": []
   },
   "outputs": [
    {
     "name": "stdout",
     "output_type": "stream",
     "text": [
      "[[[1.8836669921875 1.8836669921875 1.8836669921875 ... 1.8836669921875\n",
      "   1.8836669921875 1.8836669921875]\n",
      "  [1.89666748046875 1.89666748046875 1.89666748046875 ...\n",
      "   1.89666748046875 1.89666748046875 1.89666748046875]\n",
      "  [1.76861572265625 1.76861572265625 1.76861572265625 ...\n",
      "   2.083221435546875 1.76861572265625 1.76861572265625]\n",
      "  ...\n",
      "  [29.901123046875 29.901123046875 29.901123046875 ... 30.1939697265625\n",
      "   29.901123046875 29.901123046875]\n",
      "  [29.47650146484375 29.47650146484375 29.47650146484375 ...\n",
      "   29.47650146484375 29.47650146484375 29.47650146484375]\n",
      "  [29.7667236328125 29.7667236328125 29.7667236328125 ...\n",
      "   29.7667236328125 29.7667236328125 29.7667236328125]]\n",
      "\n",
      " [[6.112823486328125 6.112823486328125 6.112823486328125 ...\n",
      "   6.112823486328125 6.112823486328125 6.112823486328125]\n",
      "  [5.14654541015625 5.14654541015625 5.14654541015625 ...\n",
      "   5.14654541015625 5.14654541015625 5.14654541015625]\n",
      "  [5.22900390625 5.22900390625 5.22900390625 ... 6.04931640625\n",
      "   5.22900390625 5.22900390625]\n",
      "  ...\n",
      "  [30.346176147460938 30.346176147460938 30.346176147460938 ...\n",
      "   30.5445556640625 30.346176147460938 30.346176147460938]\n",
      "  [30.27520751953125 30.27520751953125 30.27520751953125 ...\n",
      "   30.27520751953125 30.27520751953125 30.27520751953125]\n",
      "  [30.388916015625 30.388916015625 30.388916015625 ... 30.388916015625\n",
      "   30.388916015625 30.388916015625]]\n",
      "\n",
      " [[11.773162841796875 11.773162841796875 11.773162841796875 ...\n",
      "   11.773162841796875 11.773162841796875 11.773162841796875]\n",
      "  [14.768234252929688 14.768234252929688 14.768234252929688 ...\n",
      "   14.768234252929688 14.768234252929688 14.768234252929688]\n",
      "  [16.821334838867188 16.821334838867188 16.821334838867188 ...\n",
      "   17.614349365234375 16.821334838867188 16.821334838867188]\n",
      "  ...\n",
      "  [30.965850830078125 30.965850830078125 30.965850830078125 ...\n",
      "   31.088577270507812 30.965850830078125 30.965850830078125]\n",
      "  [30.382308959960938 30.382308959960938 30.382308959960938 ...\n",
      "   30.382308959960938 30.382308959960938 30.382308959960938]\n",
      "  [31.07073974609375 31.07073974609375 31.07073974609375 ...\n",
      "   31.07073974609375 31.07073974609375 31.07073974609375]]\n",
      "\n",
      " ...\n",
      "\n",
      " [[7.2343292236328125 7.2343292236328125 7.2343292236328125 ...\n",
      "   7.2343292236328125 7.2343292236328125 7.2343292236328125]\n",
      "  [8.760543823242188 8.760543823242188 8.760543823242188 ...\n",
      "   8.760543823242188 8.760543823242188 8.760543823242188]\n",
      "  [10.533172607421875 10.533172607421875 10.533172607421875 ...\n",
      "   11.665817260742188 10.533172607421875 10.533172607421875]\n",
      "  ...\n",
      "  [16.263702392578125 16.263702392578125 16.263702392578125 ...\n",
      "   16.4151611328125 16.263702392578125 16.263702392578125]\n",
      "  [15.316253662109375 15.316253662109375 15.316253662109375 ...\n",
      "   15.316253662109375 15.316253662109375 15.316253662109375]\n",
      "  [13.723846435546875 13.723846435546875 13.723846435546875 ...\n",
      "   13.723846435546875 13.723846435546875 13.723846435546875]]\n",
      "\n",
      " [[2.061187744140625 2.061187744140625 2.061187744140625 ...\n",
      "   2.061187744140625 2.061187744140625 2.061187744140625]\n",
      "  [2.09637451171875 2.09637451171875 2.09637451171875 ...\n",
      "   2.09637451171875 2.09637451171875 2.09637451171875]\n",
      "  [3.043670654296875 3.043670654296875 3.043670654296875 ...\n",
      "   3.989166259765625 3.043670654296875 3.043670654296875]\n",
      "  ...\n",
      "  [11.024139404296875 11.024139404296875 11.024139404296875 ...\n",
      "   11.145751953125 11.024139404296875 11.024139404296875]\n",
      "  [11.3773193359375 11.3773193359375 11.3773193359375 ...\n",
      "   11.3773193359375 11.3773193359375 11.3773193359375]\n",
      "  [11.219757080078125 11.219757080078125 11.219757080078125 ...\n",
      "   11.219757080078125 11.219757080078125 11.219757080078125]]\n",
      "\n",
      " [[0.529449462890625 0.529449462890625 0.529449462890625 ...\n",
      "   0.529449462890625 0.529449462890625 0.529449462890625]\n",
      "  [1.013916015625 1.013916015625 1.013916015625 ... 1.013916015625\n",
      "   1.013916015625 1.013916015625]\n",
      "  [2.98626708984375 2.98626708984375 2.98626708984375 ...\n",
      "   3.5462646484375 2.98626708984375 2.98626708984375]\n",
      "  ...\n",
      "  [9.72265625 9.72265625 9.72265625 ... 9.84295654296875 9.72265625\n",
      "   9.72265625]\n",
      "  [8.908050537109375 8.908050537109375 8.908050537109375 ...\n",
      "   8.908050537109375 8.908050537109375 8.908050537109375]\n",
      "  [7.46978759765625 7.46978759765625 7.46978759765625 ...\n",
      "   7.46978759765625 7.46978759765625 7.46978759765625]]] [[[ 1.883667    1.883667    1.883667   ...  1.883667    1.883667\n",
      "    1.883667  ]\n",
      "  [ 1.8966675   1.8966675   1.8966675  ...  1.8966675   1.8966675\n",
      "    1.8966675 ]\n",
      "  [ 1.7686157   1.7686157   1.7686157  ...  2.0832214   1.7686157\n",
      "    1.7686157 ]\n",
      "  ...\n",
      "  [29.901123   29.901123   29.901123   ... 30.19397    29.901123\n",
      "   29.901123  ]\n",
      "  [29.476501   29.476501   29.476501   ... 29.476501   29.476501\n",
      "   29.476501  ]\n",
      "  [29.766724   29.766724   29.766724   ... 29.766724   29.766724\n",
      "   29.766724  ]]\n",
      "\n",
      " [[ 6.1128235   6.1128235   6.1128235  ...  6.1128235   6.1128235\n",
      "    6.1128235 ]\n",
      "  [ 5.1465454   5.1465454   5.1465454  ...  5.1465454   5.1465454\n",
      "    5.1465454 ]\n",
      "  [ 5.229004    5.229004    5.229004   ...  6.0493164   5.229004\n",
      "    5.229004  ]\n",
      "  ...\n",
      "  [30.346176   30.346176   30.346176   ... 30.544556   30.346176\n",
      "   30.346176  ]\n",
      "  [30.275208   30.275208   30.275208   ... 30.275208   30.275208\n",
      "   30.275208  ]\n",
      "  [30.388916   30.388916   30.388916   ... 30.388916   30.388916\n",
      "   30.388916  ]]\n",
      "\n",
      " [[11.773163   11.773163   11.773163   ... 11.773163   11.773163\n",
      "   11.773163  ]\n",
      "  [14.768234   14.768234   14.768234   ... 14.768234   14.768234\n",
      "   14.768234  ]\n",
      "  [16.821335   16.821335   16.821335   ... 17.61435    16.821335\n",
      "   16.821335  ]\n",
      "  ...\n",
      "  [30.96585    30.96585    30.96585    ... 31.088577   30.96585\n",
      "   30.96585   ]\n",
      "  [30.382309   30.382309   30.382309   ... 30.382309   30.382309\n",
      "   30.382309  ]\n",
      "  [31.07074    31.07074    31.07074    ... 31.07074    31.07074\n",
      "   31.07074   ]]\n",
      "\n",
      " ...\n",
      "\n",
      " [[ 7.234329    7.234329    7.234329   ...  7.234329    7.234329\n",
      "    7.234329  ]\n",
      "  [ 8.760544    8.760544    8.760544   ...  8.760544    8.760544\n",
      "    8.760544  ]\n",
      "  [10.533173   10.533173   10.533173   ... 11.665817   10.533173\n",
      "   10.533173  ]\n",
      "  ...\n",
      "  [16.263702   16.263702   16.263702   ... 16.415161   16.263702\n",
      "   16.263702  ]\n",
      "  [15.316254   15.316254   15.316254   ... 15.316254   15.316254\n",
      "   15.316254  ]\n",
      "  [13.723846   13.723846   13.723846   ... 13.723846   13.723846\n",
      "   13.723846  ]]\n",
      "\n",
      " [[ 2.0611877   2.0611877   2.0611877  ...  2.0611877   2.0611877\n",
      "    2.0611877 ]\n",
      "  [ 2.0963745   2.0963745   2.0963745  ...  2.0963745   2.0963745\n",
      "    2.0963745 ]\n",
      "  [ 3.0436707   3.0436707   3.0436707  ...  3.9891663   3.0436707\n",
      "    3.0436707 ]\n",
      "  ...\n",
      "  [11.024139   11.024139   11.024139   ... 11.145752   11.024139\n",
      "   11.024139  ]\n",
      "  [11.377319   11.377319   11.377319   ... 11.377319   11.377319\n",
      "   11.377319  ]\n",
      "  [11.219757   11.219757   11.219757   ... 11.219757   11.219757\n",
      "   11.219757  ]]\n",
      "\n",
      " [[ 0.52944946  0.52944946  0.52944946 ...  0.52944946  0.52944946\n",
      "    0.52944946]\n",
      "  [ 1.013916    1.013916    1.013916   ...  1.013916    1.013916\n",
      "    1.013916  ]\n",
      "  [ 2.986267    2.986267    2.986267   ...  3.5462646   2.986267\n",
      "    2.986267  ]\n",
      "  ...\n",
      "  [ 9.722656    9.722656    9.722656   ...  9.842957    9.722656\n",
      "    9.722656  ]\n",
      "  [ 8.908051    8.908051    8.908051   ...  8.908051    8.908051\n",
      "    8.908051  ]\n",
      "  [ 7.4697876   7.4697876   7.4697876  ...  7.4697876   7.4697876\n",
      "    7.4697876 ]]]\n"
     ]
    }
   ],
   "source": [
    "#..Lower Troposphere Stability\n",
    "k  = 0.286\n",
    "theta_700  = np.array(T_700)* (100000./70000.)**k\n",
    "\n",
    "#print(theta_700)\n",
    "\n",
    "theta_skin = np.array(sfc_T)* (100000./np.array(sfc_P))**k\n",
    "LTS_m  = theta_700 - theta_skin\n",
    "\n",
    "#..Subtract the outliers in T_700 and LTS_m\n",
    "LTS_e  = np.ma.masked_where(theta_700 >= 500, LTS_m)\n",
    "print(LTS_e, LTS_m)\n",
    "\n",
    "#..Subsidence, units in Pa s^-1 at 500 hPa\n",
    "Subsidence =  np.array(sub)"
   ]
  },
  {
   "cell_type": "code",
   "execution_count": 8,
   "id": "8a6ecdde-b493-45a1-9093-658561d8d1a2",
   "metadata": {},
   "outputs": [
    {
     "name": "stdout",
     "output_type": "stream",
     "text": [
      "(150, 128, 256) (150, 32, 256)\n"
     ]
    }
   ],
   "source": [
    "#..Convert variables becoming Annual-mean, Southern-Ocean region arrays\n",
    "\n",
    "Tg  = np.zeros((150,128,256))   #..Surface air Temperature, GMT, shapein (300,143,144)!!\n",
    "LWP_yr  = np.zeros((150,32,256))\n",
    "\n",
    "p_e_yr  = np.zeros((150,32,256))\n",
    "SST_yr  = np.zeros((150,32,256))\n",
    "SUB_yr  = np.zeros((150,32,256))\n",
    "LTS_yr  = np.zeros((150,32,256))\n",
    "\n",
    "TWP_yr  = np.zeros((150,32,256))\n",
    "IWP_yr  = np.zeros((150,32,256))\n",
    "#..annual mean data of LWP, Tg and CCFs\n",
    "\n",
    "for i in range(0, 150):     #..shape in 3yr !!\n",
    "    Tg[i,:,:]     = np.nanmean(gmt[i*12:(i+1)*12,:,:], axis=0)\n",
    "    LWP_yr[i,:,:]  = np.nanmean(LWP[i*12:(i+1)*12, latsi1:latsi0,:], axis=0)\n",
    "    p_e_yr[i,:,:] = np.nanmean(MC[i*12:(i+1)*12, latsi1:latsi0,:], axis=0)\n",
    "    SST_yr[i,:,:]    = np.nanmean(SST[i*12:(i+1)*12, latsi1:latsi0,:], axis=0)\n",
    "    \n",
    "    LTS_yr[i,:,:]    = np.nanmean(LTS_e[i*12:(i+1)*12, latsi1:latsi0,:], axis=0)\n",
    "    SUB_yr[i,:,:]    = np.nanmean(Subsidence[i*12:(i+1)*12, latsi1:latsi0,:], axis=0)\n",
    "\n",
    "    TWP_yr[i,:,:]  = np.nanmean(Twp[i*12:(i+1)*12, latsi1:latsi0, :], axis=0)\n",
    "    IWP_yr[i,:,:]  = np.nanmean(Iwp[i*12:(i+1)*12, latsi1:latsi0, :], axis=0)\n",
    "print(Tg.shape, LTS_yr.shape)   #..shape in (150, 128, 256) or (150, 32, 256)\n",
    "\n"
   ]
  },
  {
   "cell_type": "code",
   "execution_count": 9,
   "id": "fdd85e35-e03c-4a3b-92a3-2611b0714941",
   "metadata": {
    "tags": []
   },
   "outputs": [],
   "source": [
    "def binned_cySouthOcean5(S, lat, lon):\n",
    "    '''\n",
    "    Calculate the binned array for the mean value within 5X5 degree Bin Boxes in SouthOcean REGION\n",
    "    '''\n",
    "\n",
    "    XX, YY  = np.meshgrid(lon, lat, indexing='xy')\n",
    "    #..Southern Ocean region from 85S 40S\n",
    "    x_range  = np.arange(0., 364, 5.)   #..number:73\n",
    "    y_range  = np.arange(-85., -35, 5.)   #.. (10)\n",
    "    \n",
    "    xbins, ybins = len(x_range), len(y_range)\n",
    "    \n",
    "    S_binned_array  = np.zeros((S.shape[0],ybins,xbins))\n",
    "    \n",
    "    for i in np.arange(S.shape[0]):\n",
    "        S_time_step  = S[i,:,:]\n",
    "        \n",
    "        #..find and subtract the missing points\n",
    "        ind =  np.isnan(S[i,:,:])==False\n",
    "        S_binned_time , xedge, yedge, binnumber  = stats.binned_statistic_2d(XX[ind].ravel(),YY[ind].ravel(), values = S_time_step[ind].ravel(),\n",
    "                                                                            statistic ='mean', bins=[xbins, ybins], expand_binnumbers =True)\n",
    "        \n",
    "        S_binned_array[i,:,:] = S_binned_time.T\n",
    "    \n",
    "    return S_binned_array\n"
   ]
  },
  {
   "cell_type": "code",
   "execution_count": 10,
   "id": "92c43874-7984-44c7-969e-da9e76dfb20a",
   "metadata": {
    "tags": []
   },
   "outputs": [],
   "source": [
    "def binned_cyGlobal5(S, lat, lon):\n",
    "    '''\n",
    "    Calculate the binned array for the mean value within 5X5 degree Bin Boxes in global REGION\n",
    "    '''\n",
    "\n",
    "    XX, YY  = np.meshgrid(lon, lat, indexing='xy')\n",
    "    #..Global region from 90S 90N\n",
    "    x_range  = np.arange(0., 364, 5.)   #..number:73\n",
    "    y_range  = np.arange(-90., 90, 5.)   #..(37)\n",
    "    \n",
    "    xbins, ybins = len(x_range), len(y_range)\n",
    "    \n",
    "    S_binned_array  = np.zeros((S.shape[0],ybins,xbins))\n",
    "    \n",
    "    for i in np.arange(S.shape[0]):\n",
    "        S_time_step  = S[i,:,:]\n",
    "        \n",
    "        #..find and subtract the missing points\n",
    "        ind =  np.isnan(S[i,:,:])==False\n",
    "        S_binned_time , xedge, yedge, binnumber  = stats.binned_statistic_2d(XX[ind].ravel(),YY[ind].ravel(), values = S_time_step[ind].ravel(),\n",
    "                                                                            statistic ='mean', bins=[xbins, ybins], expand_binnumbers =True)\n",
    "        \n",
    "        S_binned_array[i,:,:] = S_binned_time.T\n",
    "    \n",
    "    return S_binned_array\n"
   ]
  },
  {
   "cell_type": "code",
   "execution_count": 11,
   "id": "01fed898-5802-49a8-abb1-a7df0a812e81",
   "metadata": {
    "tags": []
   },
   "outputs": [
    {
     "name": "stdout",
     "output_type": "stream",
     "text": [
      "(150, 36, 73)\n"
     ]
    }
   ],
   "source": [
    "\n",
    "#..Calculate 5X5 degree binned array for P-E, SST, LTS, SUB, 2-m air Temperature(Tg) and the LWP:\n",
    "\n",
    "lat_array0  = lats   #..143 values\n",
    "lon_array0  = lons\n",
    "lat_array1  = lats[latsi1:latsi0]   #..35 values\n",
    "\n",
    "#x_range  = np.arange(0., 364, 5.)   #..number:73\n",
    "#y_range  = np.arange(-85., -35, 5.)   #.. 40 S - 85 S(10)\n",
    "\n",
    "#xbins, ybins = len(x_range), len(y_range)\n",
    "\n",
    "Tg_yr_bin  = binned_cyGlobal5(Tg, lat_array0, lon_array0)   #..shape in (150, 36, 73)\n",
    "LWP_yr_bin  = binned_cySouthOcean5(LWP_yr, lat_array1, lon_array0)   #..shape in (150, 10, 73)\n",
    "\n",
    "SST_yr_bin  = binned_cySouthOcean5(SST_yr, lat_array1, lon_array0)\n",
    "\n",
    "p_e_yr_bin  = binned_cySouthOcean5(p_e_yr, lat_array1, lon_array0)\n",
    "\n",
    "\n",
    "LTS_yr_bin  = binned_cySouthOcean5(LTS_yr, lat_array1, lon_array0)\n",
    "SUB_yr_bin  = binned_cySouthOcean5(SUB_yr, lat_array1, lon_array0)\n",
    "\n",
    "TWP_yr_bin  = binned_cySouthOcean5(TWP_yr, lat_array1, lon_array0)\n",
    "IWP_yr_bin  = binned_cySouthOcean5(IWP_yr, lat_array1, lon_array0)\n",
    "\n",
    "\n",
    "print(Tg_yr_bin.shape)   #..Tg:(300, 36, 73); LWP&CCFs:(300, 10, 73)"
   ]
  },
  {
   "cell_type": "code",
   "execution_count": 12,
   "id": "f10f5724-35f4-47c4-b83d-2dcde0772cd4",
   "metadata": {
    "tags": []
   },
   "outputs": [],
   "source": [
    "def area_mean(S, lats, lons):\n",
    "    \n",
    "    '''..Only for 1 final value..\n",
    "    '''\n",
    "    GMT  = np.zeros(S.shape[0])\n",
    "    for i in np.arange(S.shape[0]):\n",
    "        \n",
    "        S_time_step  = S[i,:,:]\n",
    "        #..weighted by cos(lat):\n",
    "        xlon, ylat  = np.meshgrid(lons, lats)\n",
    "\n",
    "        weighted_metrix1 =  np.cos(np.deg2rad(ylat))   #..metrix has the same shape as tas/lwp, its value = cos(lat)\n",
    "        toc1  = np.sum(weighted_metrix1)   #..total of cos(lat metrix) for global region\n",
    "\n",
    "        S_weighted =  S_time_step * weighted_metrix1 / toc1\n",
    "        \n",
    "        GMT[i]  = np.nansum(S_weighted, axis=(0,1))\n",
    "    \n",
    "    return GMT\n"
   ]
  },
  {
   "cell_type": "code",
   "execution_count": 13,
   "id": "83e96f02-afea-4e8d-a5ba-fc81058b537e",
   "metadata": {
    "tags": []
   },
   "outputs": [
    {
     "data": {
      "text/plain": [
       "array([-90., -85., -80., -75., -70., -65., -60., -55., -50., -45., -40.,\n",
       "       -35., -30., -25., -20., -15., -10.,  -5.,   0.,   5.,  10.,  15.,\n",
       "        20.,  25.,  30.,  35.,  40.,  45.,  50.,  55.,  60.,  65.,  70.,\n",
       "        75.,  80.,  85.])"
      ]
     },
     "execution_count": 13,
     "metadata": {},
     "output_type": "execute_result"
    }
   ],
   "source": [
    "s_range  = np.arange(-90., 90, 5.)\n",
    "\n",
    "s_range"
   ]
  },
  {
   "cell_type": "code",
   "execution_count": 14,
   "id": "607c6752-ed13-4ade-a30c-ce90bbd1f7ce",
   "metadata": {
    "tags": []
   },
   "outputs": [
    {
     "name": "stdout",
     "output_type": "stream",
     "text": [
      "(150,)\n"
     ]
    }
   ],
   "source": [
    "#..do the area-mean for Tg and CCFs and LWP:\n",
    "x_range  = np.arange(0., 364, 5.)   #..number:73\n",
    "y_range  = np.arange(-85., -35, 5.) + 2.5   #.. 40 S - 85 S(10)\n",
    "\n",
    "s_range  = np.arange(-90., 90, 5.) + 2.5 #..(36)\n",
    "\n",
    "GMT  = area_mean(Tg_yr_bin, s_range, x_range)            #..ALL in shape : (300 )\n",
    "\n",
    "LWP_area_yr  = area_mean(LWP_yr_bin, y_range, x_range)\n",
    "SST_area_yr  = area_mean(SST_yr_bin, y_range, x_range)\n",
    "p_e_area_yr  = area_mean(p_e_yr_bin, y_range, x_range)\n",
    "LTS_area_yr  = area_mean(LTS_yr_bin, y_range, x_range)\n",
    "SUB_area_yr  = area_mean(SUB_yr_bin, y_range, x_range)\n",
    "\n",
    "IWP_area_yr  = area_mean(IWP_yr_bin, y_range, x_range)\n",
    "TWP_area_yr  = area_mean(TWP_yr_bin, y_range, x_range)\n",
    "\n",
    "\n",
    "print(SST_area_yr.shape)\n",
    "\n",
    "\n"
   ]
  },
  {
   "cell_type": "code",
   "execution_count": 15,
   "id": "0e5792c4-01a0-437d-ab3b-57546a46324f",
   "metadata": {
    "tags": []
   },
   "outputs": [
    {
     "name": "stdout",
     "output_type": "stream",
     "text": [
      "(109500,)\n",
      "nan 0.08716066523144643\n",
      "(103703,)\n"
     ]
    }
   ],
   "source": [
    "#..Calculate the 300* 10* 73 points metric for 'p-e'/other CCFs and LWP and GMT:\n",
    "#..ravel binned arrays\n",
    "\n",
    "LWP_bin_pred  = LWP_yr_bin.flatten()     #..shape in 300* 10* 73 =  ... values\n",
    "p_e_bin_pred  = p_e_yr_bin.flatten() \n",
    "SST_bin_pred  = SST_yr_bin.flatten() \n",
    "\n",
    "LTS_bin_pred  = LTS_yr_bin.flatten()\n",
    "SUB_bin_pred  = SUB_yr_bin.flatten()\n",
    "\n",
    "TWP_bin_pred  = TWP_yr_bin.flatten()\n",
    "IWP_bin_pred  = IWP_yr_bin.flatten()\n",
    "print(p_e_bin_pred.shape)   #..Tg:(300, 36, 73 ); LWP&CCFs:(300, 10, 73)=219000 points\n",
    "\n",
    "#..Use 'np.repeat' and 'np.tile' to reproduce the GMT Array:\n",
    "\n",
    "gmt_bin_pred  = GMT.repeat(730)\n",
    "#print(gmt_bin_pred.shape)\n",
    "\n",
    "#..Subtract 'nan' in data, 109500 -> 103700points\n",
    "print(np.max(LTS_bin_pred), np.max(SUB_bin_pred))\n",
    "\n",
    "ind1 =  np.isnan(LTS_yr_bin)==False\n",
    "ind2 =  np.isnan(LTS_area_yr)==False\n",
    "ind3 =  np.isnan(LTS_bin_pred)==False\n",
    "print(SUB_bin_pred[ind3].shape)\n",
    "\n"
   ]
  },
  {
   "cell_type": "code",
   "execution_count": 16,
   "id": "cb53a271-09a3-470b-9ff4-896dbc72e558",
   "metadata": {
    "tags": []
   },
   "outputs": [
    {
     "data": {
      "image/png": "[encoded data removed]",
      "text/plain": [
       "<Figure size 741.6x489.6 with 1 Axes>"
      ]
     },
     "metadata": {
      "needs_background": "light"
     },
     "output_type": "display_data"
    }
   ],
   "source": [
    "#..plot the LWP(TWP/IWP) trends with (moisture convergence) trendin the 150yr abrupt4XCO2 experiment:\n",
    "fig  = plt.figure(figsize = (10.3, 6.8))\n",
    "ax1  = plt.axes()\n",
    "\n",
    "yy  = np.arange(300)\n",
    "\n",
    "plt.scatter(p_e_area_yr, IWP_area_yr)   #..p_e_area_yr\n",
    "\n",
    "plt.xlabel('p-e(Moisture convergence)')#..GMT(2-m air Temperature)\n",
    "plt.ylabel('$Ice Water Path_{abrupt4XCO2}$')\n",
    "#plt.ylim((0.08, 0.16))\n",
    "\n",
    "parameter  = np.polyfit(p_e_area_yr, IWP_area_yr, 3)\n",
    "#y  = parameter[0]*p_e_area_yr + parameter[1]\n",
    "y  = parameter[0]*p_e_area_yr**3 + parameter[1]*p_e_area_yr**2 + parameter[2]*p_e_area_yr  + parameter[3]\n",
    "\n",
    "plt.plot(p_e_area_yr, y, 'r')\n",
    "plt.savefig('iwp_abrupt_vs_moisture_convergence_cnrm.png')\n",
    "\n"
   ]
  },
  {
   "cell_type": "code",
   "execution_count": 17,
   "id": "1c25f47c-b97d-4707-8a5b-95fc8277c297",
   "metadata": {
    "tags": []
   },
   "outputs": [
    {
     "data": {
      "image/png": "[encoded data removed]",
      "text/plain": [
       "<Figure size 741.6x489.6 with 1 Axes>"
      ]
     },
     "metadata": {
      "needs_background": "light"
     },
     "output_type": "display_data"
    }
   ],
   "source": [
    "#..plot the p-e / LWP trends in the 150yr abrupt4XCO2 experiment:\n",
    "fig  = plt.figure(figsize = (10.3, 6.8))\n",
    "ax1  = plt.axes()\n",
    "\n",
    "yy  = np.arange(300)\n",
    "\n",
    "plt.scatter(GMT, IWP_area_yr)   #..p_e_area_yr\n",
    "\n",
    "plt.xlabel('GMT(2-m air Temperature)')#..GMT(2-m air Temperature)\n",
    "plt.ylabel('$Ice Water Path_{abrupt4XCO2}$')\n",
    "#plt.ylim((0.08, 0.16))\n",
    "\n",
    "parameter  = np.polyfit(GMT, IWP_area_yr, 3)\n",
    "#y  = parameter[0]*p_e_area_yr + parameter[1]\n",
    "y  = parameter[0]*GMT**3 + parameter[1]*GMT**2 + parameter[2]*GMT  + parameter[3]\n",
    "\n",
    "plt.plot(GMT , y, 'r')###..\n",
    "\n",
    "plt.savefig('iwp_abrupt_vs_GMT_cnrm.png')\n"
   ]
  },
  {
   "cell_type": "code",
   "execution_count": 25,
   "id": "ac203271-0f27-48bc-8333-5f31c3f22639",
   "metadata": {
    "collapsed": true,
    "jupyter": {
     "outputs_hidden": true,
     "source_hidden": true
    },
    "tags": []
   },
   "outputs": [
    {
     "name": "stdout",
     "output_type": "stream",
     "text": [
      "(300,)\n"
     ]
    }
   ],
   "source": [
    "#..Standardized data:\n",
    "\n",
    "GMT_afpre  = GMT\n",
    "GMT_afpre  = (GMT - np.mean(GMT))  / np.std(GMT)\n",
    "\n",
    "LWP_afpre  = LWP_area_yr\n",
    "LWP_afpre =  (LWP_area_yr - np.mean(LWP_area_yr) )/np.std(LWP_area_yr)\n",
    "\n",
    "\n",
    "SST_afpre  = SST_area_yr\n",
    "SST_afpre =  (SST_area_yr - np.mean(SST_area_yr)) /np.std(SST_area_yr)\n",
    "\n",
    "p_e_afpre =  p_e_area_yr\n",
    "p_e_afpre =  (p_e_area_yr - np.mean(p_e_area_yr)) /np.std(p_e_area_yr)\n",
    "\n",
    "LTS_afpre  = LTS_area_yr\n",
    "LTS_afpre =  (LTS_area_yr - np.nanmean(LTS_area_yr)) /np.nanstd(LTS_area_yr)\n",
    "\n",
    "SUB_afpre  = SUB_area_yr\n",
    "SUB_afpre  = (SUB_area_yr - np.mean(SUB_area_yr)) /np.std(SUB_area_yr)\n",
    "\n",
    "#..Subtract 'nan' in data, remains 300 points\n",
    "ind5 =  np.isnan(LTS_area_yr)==False  \n",
    "print(ind5.shape)"
   ]
  },
  {
   "cell_type": "code",
   "execution_count": 18,
   "id": "6d7d169b-5032-4e6e-8ad4-4acb6491e3d2",
   "metadata": {},
   "outputs": [
    {
     "name": "stdout",
     "output_type": "stream",
     "text": [
      "[0.00335159]\n",
      "-0.9313398112689353\n",
      "[1.42770511] [0.06113745] [-0.05489504] [7.802152e-05]\n"
     ]
    }
   ],
   "source": [
    "#..linear regreesion of Cloud Controlling Factors (CCF) to GMT:\n",
    "\n",
    "regr = linear_model.LinearRegression()\n",
    "re_LWP = regr.fit(gmt_bin_pred[ind3].reshape(-1,1), LWP_bin_pred[ind3])\n",
    "\n",
    "print(re_LWP.coef_)\n",
    "print(re_LWP.intercept_)\n",
    "\n",
    "regr1 = linear_model.LinearRegression()\n",
    "regr2 = linear_model.LinearRegression()\n",
    "regr3 = linear_model.LinearRegression()\n",
    "regr4 = linear_model.LinearRegression()\n",
    "re_SST = regr1.fit(gmt_bin_pred[ind3].reshape(-1,1), SST_bin_pred[ind3])\n",
    "re_p_e = regr2.fit(gmt_bin_pred[ind3].reshape(-1,1), p_e_bin_pred[ind3])\n",
    "re_LTS = regr3.fit(gmt_bin_pred[ind3].reshape(-1,1), LTS_bin_pred[ind3])\n",
    "\n",
    "re_SUB = regr4.fit(gmt_bin_pred[ind3].reshape(-1,1), SUB_bin_pred[ind3])\n",
    "print(re_SST.coef_, re_p_e.coef_, re_LTS.coef_, re_SUB.coef_ )\n",
    "\n",
    "dX_dTg  = [re_SST.coef_, re_p_e.coef_, re_LTS.coef_, re_SUB.coef_]\n",
    "\n",
    "\n",
    "\n",
    "\n"
   ]
  },
  {
   "cell_type": "code",
   "execution_count": 19,
   "id": "631538dd-d09c-404e-80b5-04d8b1cf155a",
   "metadata": {},
   "outputs": [
    {
     "name": "stdout",
     "output_type": "stream",
     "text": [
      "-0.49490642674103835\n"
     ]
    }
   ],
   "source": [
    "\n",
    "coef1  = np.load('sensitivity_4ccfs_cnrm.npy')\n",
    "intercept1  = np.load('intercept1_cnrm.npy')\n",
    "\n",
    "np.save( 'CCFs_changes_T_cnrm.npy', dX_dTg )\n",
    "\n",
    "intercept0  = np.load('intercept1.npy')\n",
    "print(intercept0)"
   ]
  },
  {
   "cell_type": "code",
   "execution_count": 20,
   "id": "92e7a890-c584-4ca5-b214-77e5e151262a",
   "metadata": {},
   "outputs": [
    {
     "name": "stdout",
     "output_type": "stream",
     "text": [
      "[ 0.00110599  0.01115317 -0.00063865  0.28875541]\n",
      "-0.2621665010984304\n"
     ]
    }
   ],
   "source": [
    "print(coef1)\n",
    "print(intercept1)"
   ]
  },
  {
   "cell_type": "code",
   "execution_count": 21,
   "id": "dc4c5dcf-c09f-4ef5-b140-490d4e35f029",
   "metadata": {},
   "outputs": [
    {
     "name": "stdout",
     "output_type": "stream",
     "text": [
      "(4, 150)\n",
      "(150,)\n",
      "(1, 150)\n"
     ]
    },
    {
     "data": {
      "image/png": "[encoded data removed]",
      "text/plain": [
       "<Figure size 748.8x525.6 with 1 Axes>"
      ]
     },
     "metadata": {
      "needs_background": "light"
     },
     "output_type": "display_data"
    }
   ],
   "source": [
    "#..draw the plot for 'abrupt4' experiment's LWP and the predicted LWP from linear Regression Model trained in 'pi-control'\n",
    "\n",
    "fig2  = plt.figure(figsize = (10.4, 7.3))\n",
    "ax2  = plt.axes()\n",
    "\n",
    "plt.scatter(GMT, LWP_area_yr, label='$LWP_{abrupt4XCO2}$')\n",
    "\n",
    "XX  = np.array([SST_area_yr, p_e_area_yr, LTS_area_yr, SUB_area_yr])\n",
    "print(XX.shape)\n",
    "\n",
    "yr =  np.dot(coef1.reshape(1,-1), XX)\n",
    "predicted_LWP  = yr  + intercept1\n",
    "#print(yr)\n",
    "\n",
    "print(np.array(GMT).shape)\n",
    "print(np.array(predicted_LWP).shape)\n",
    "\n",
    "plt.plot(GMT,predicted_LWP.flatten(), \"g\", label='$aLWP/aX_{picontrol}*{dX_{abrupt4XCO2}/dGMT}$')\n",
    "#plt.ylim((0.105, 0.121))\n",
    "\n",
    "\n",
    "plt.xlabel('GMT')\n",
    "plt.ylabel('LWP')\n",
    "plt.title(\"Liquid Water Path in abrupt4XCO2 experiement and the predicted value with pi-Control Sensitivity in CNRM-ESM-2-1\")  #..!!\n",
    "\n",
    "plt.legend()\n",
    "plt.savefig(\"Linear_Regression_CNRMabrupt.png\")\n",
    "\n",
    "\n",
    "\n"
   ]
  },
  {
   "cell_type": "code",
   "execution_count": null,
   "id": "b8c5f36c-9bc7-4ed0-8c10-b62125c6a9d7",
   "metadata": {},
   "outputs": [],
   "source": []
  },
  {
   "cell_type": "code",
   "execution_count": 22,
   "id": "4d8440c2-7f69-4083-a816-8322124e4f68",
   "metadata": {},
   "outputs": [
    {
     "name": "stdout",
     "output_type": "stream",
     "text": [
      "[[0.00231849]]\n"
     ]
    }
   ],
   "source": [
    "np.array(dX_dTg).reshape(-1,1)\n",
    "\n",
    "dLWP_DTg  = np.dot(coef1.reshape(1,-1), np.array(dX_dTg).reshape(-1,1) )\n",
    "print(dLWP_DTg)"
   ]
  },
  {
   "cell_type": "code",
   "execution_count": null,
   "id": "3573bb78-d3b8-418f-bd41-095338338704",
   "metadata": {},
   "outputs": [],
   "source": []
  }
 ],
 "metadata": {
  "kernelspec": {
   "display_name": "NPL-3.7.9",
   "language": "python",
   "name": "npl-3.7.9"
  },
  "language_info": {
   "codemirror_mode": {
    "name": "ipython",
    "version": 3
   },
   "file_extension": ".py",
   "mimetype": "text/x-python",
   "name": "python",
   "nbconvert_exporter": "python",
   "pygments_lexer": "ipython3",
   "version": "3.7.9"
  }
 },
 "nbformat": 4,
 "nbformat_minor": 5
}
