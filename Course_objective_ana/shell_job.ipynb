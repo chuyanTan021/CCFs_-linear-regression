{
 "cells": [
  {
   "cell_type": "code",
   "execution_count": 2,
   "id": "cea7743a-1175-4438-a840-7ae901f710e6",
   "metadata": {},
   "outputs": [],
   "source": [
    "import os\n",
    "import numpy as np\n",
    "import subprocess"
   ]
  },
  {
   "cell_type": "code",
   "execution_count": 5,
   "id": "59a8e7de-8c31-41ac-9170-29d6766f7830",
   "metadata": {},
   "outputs": [
    {
     "name": "stdout",
     "output_type": "stream",
     "text": [
      "['#!/bin/tcsh\\n', '#PBS -N cmip6_bestfitLRM\\n', '#PBS -A WYOM0119\\n', '#PBS -l select=1:ncpus=12:mem=76GB\\n', '#PBS -l walltime=00:25:00\\n', '#PBS -q casper\\n', '#PBS -j oe\\n', 'source /etc/profile.d/modules.csh\\n', 'module load ncarenv python\\n', 'ncar_pylib\\n', 'python shell_job1.py 0']\n",
      "['#!/bin/tcsh\\n', '#PBS -N cmip6_bestfitLRM\\n', '#PBS -A WYOM0119\\n', '#PBS -l select=1:ncpus=12:mem=76GB\\n', '#PBS -l walltime=00:25:00\\n', '#PBS -q casper\\n', '#PBS -j oe\\n', 'source /etc/profile.d/modules.csh\\n', 'module load ncarenv python\\n', 'ncar_pylib\\n', 'python shell_job1.py 1']\n",
      "['#!/bin/tcsh\\n', '#PBS -N cmip6_bestfitLRM\\n', '#PBS -A WYOM0119\\n', '#PBS -l select=1:ncpus=12:mem=76GB\\n', '#PBS -l walltime=00:25:00\\n', '#PBS -q casper\\n', '#PBS -j oe\\n', 'source /etc/profile.d/modules.csh\\n', 'module load ncarenv python\\n', 'ncar_pylib\\n', 'python shell_job1.py 2']\n",
      "['#!/bin/tcsh\\n', '#PBS -N cmip6_bestfitLRM\\n', '#PBS -A WYOM0119\\n', '#PBS -l select=1:ncpus=12:mem=76GB\\n', '#PBS -l walltime=00:25:00\\n', '#PBS -q casper\\n', '#PBS -j oe\\n', 'source /etc/profile.d/modules.csh\\n', 'module load ncarenv python\\n', 'ncar_pylib\\n', 'python shell_job1.py 3']\n",
      "['#!/bin/tcsh\\n', '#PBS -N cmip6_bestfitLRM\\n', '#PBS -A WYOM0119\\n', '#PBS -l select=1:ncpus=12:mem=76GB\\n', '#PBS -l walltime=00:25:00\\n', '#PBS -q casper\\n', '#PBS -j oe\\n', 'source /etc/profile.d/modules.csh\\n', 'module load ncarenv python\\n', 'ncar_pylib\\n', 'python shell_job1.py 4']\n",
      "['#!/bin/tcsh\\n', '#PBS -N cmip6_bestfitLRM\\n', '#PBS -A WYOM0119\\n', '#PBS -l select=1:ncpus=12:mem=76GB\\n', '#PBS -l walltime=00:25:00\\n', '#PBS -q casper\\n', '#PBS -j oe\\n', 'source /etc/profile.d/modules.csh\\n', 'module load ncarenv python\\n', 'ncar_pylib\\n', 'python shell_job1.py 5']\n",
      "['#!/bin/tcsh\\n', '#PBS -N cmip6_bestfitLRM\\n', '#PBS -A WYOM0119\\n', '#PBS -l select=1:ncpus=12:mem=76GB\\n', '#PBS -l walltime=00:25:00\\n', '#PBS -q casper\\n', '#PBS -j oe\\n', 'source /etc/profile.d/modules.csh\\n', 'module load ncarenv python\\n', 'ncar_pylib\\n', 'python shell_job1.py 6']\n",
      "['#!/bin/tcsh\\n', '#PBS -N cmip6_bestfitLRM\\n', '#PBS -A WYOM0119\\n', '#PBS -l select=1:ncpus=12:mem=76GB\\n', '#PBS -l walltime=00:25:00\\n', '#PBS -q casper\\n', '#PBS -j oe\\n', 'source /etc/profile.d/modules.csh\\n', 'module load ncarenv python\\n', 'ncar_pylib\\n', 'python shell_job1.py 7']\n",
      "['#!/bin/tcsh\\n', '#PBS -N cmip6_bestfitLRM\\n', '#PBS -A WYOM0119\\n', '#PBS -l select=1:ncpus=12:mem=76GB\\n', '#PBS -l walltime=00:25:00\\n', '#PBS -q casper\\n', '#PBS -j oe\\n', 'source /etc/profile.d/modules.csh\\n', 'module load ncarenv python\\n', 'ncar_pylib\\n', 'python shell_job1.py 8']\n",
      "['#!/bin/tcsh\\n', '#PBS -N cmip6_bestfitLRM\\n', '#PBS -A WYOM0119\\n', '#PBS -l select=1:ncpus=12:mem=76GB\\n', '#PBS -l walltime=00:25:00\\n', '#PBS -q casper\\n', '#PBS -j oe\\n', 'source /etc/profile.d/modules.csh\\n', 'module load ncarenv python\\n', 'ncar_pylib\\n', 'python shell_job1.py 9']\n",
      "['#!/bin/tcsh\\n', '#PBS -N cmip6_bestfitLRM\\n', '#PBS -A WYOM0119\\n', '#PBS -l select=1:ncpus=12:mem=76GB\\n', '#PBS -l walltime=00:25:00\\n', '#PBS -q casper\\n', '#PBS -j oe\\n', 'source /etc/profile.d/modules.csh\\n', 'module load ncarenv python\\n', 'ncar_pylib\\n', 'python shell_job1.py 10']\n",
      "['#!/bin/tcsh\\n', '#PBS -N cmip6_bestfitLRM\\n', '#PBS -A WYOM0119\\n', '#PBS -l select=1:ncpus=12:mem=76GB\\n', '#PBS -l walltime=00:25:00\\n', '#PBS -q casper\\n', '#PBS -j oe\\n', 'source /etc/profile.d/modules.csh\\n', 'module load ncarenv python\\n', 'ncar_pylib\\n', 'python shell_job1.py 11']\n",
      "['#!/bin/tcsh\\n', '#PBS -N cmip6_bestfitLRM\\n', '#PBS -A WYOM0119\\n', '#PBS -l select=1:ncpus=12:mem=76GB\\n', '#PBS -l walltime=00:25:00\\n', '#PBS -q casper\\n', '#PBS -j oe\\n', 'source /etc/profile.d/modules.csh\\n', 'module load ncarenv python\\n', 'ncar_pylib\\n', 'python shell_job1.py 12']\n",
      "['#!/bin/tcsh\\n', '#PBS -N cmip6_bestfitLRM\\n', '#PBS -A WYOM0119\\n', '#PBS -l select=1:ncpus=12:mem=76GB\\n', '#PBS -l walltime=00:25:00\\n', '#PBS -q casper\\n', '#PBS -j oe\\n', 'source /etc/profile.d/modules.csh\\n', 'module load ncarenv python\\n', 'ncar_pylib\\n', 'python shell_job1.py 13']\n",
      "['#!/bin/tcsh\\n', '#PBS -N cmip6_bestfitLRM\\n', '#PBS -A WYOM0119\\n', '#PBS -l select=1:ncpus=12:mem=76GB\\n', '#PBS -l walltime=00:25:00\\n', '#PBS -q casper\\n', '#PBS -j oe\\n', 'source /etc/profile.d/modules.csh\\n', 'module load ncarenv python\\n', 'ncar_pylib\\n', 'python shell_job1.py 14']\n",
      "['#!/bin/tcsh\\n', '#PBS -N cmip6_bestfitLRM\\n', '#PBS -A WYOM0119\\n', '#PBS -l select=1:ncpus=12:mem=76GB\\n', '#PBS -l walltime=00:25:00\\n', '#PBS -q casper\\n', '#PBS -j oe\\n', 'source /etc/profile.d/modules.csh\\n', 'module load ncarenv python\\n', 'ncar_pylib\\n', 'python shell_job1.py 15']\n",
      "['#!/bin/tcsh\\n', '#PBS -N cmip6_bestfitLRM\\n', '#PBS -A WYOM0119\\n', '#PBS -l select=1:ncpus=12:mem=76GB\\n', '#PBS -l walltime=00:25:00\\n', '#PBS -q casper\\n', '#PBS -j oe\\n', 'source /etc/profile.d/modules.csh\\n', 'module load ncarenv python\\n', 'ncar_pylib\\n', 'python shell_job1.py 16']\n",
      "['#!/bin/tcsh\\n', '#PBS -N cmip6_bestfitLRM\\n', '#PBS -A WYOM0119\\n', '#PBS -l select=1:ncpus=12:mem=76GB\\n', '#PBS -l walltime=00:25:00\\n', '#PBS -q casper\\n', '#PBS -j oe\\n', 'source /etc/profile.d/modules.csh\\n', 'module load ncarenv python\\n', 'ncar_pylib\\n', 'python shell_job1.py 17']\n",
      "/glade/work/chuyan/Research/Cloud_CCFs_RMs/Course_objective_ana\n"
     ]
    }
   ],
   "source": [
    "filepath = os.getcwd()\n",
    "for i in range(18):\n",
    "    file = open(filepath+'/'+ 'batchjobt1_'+str(i+1)+'.sh', 'w')\n",
    "    line = []\n",
    "\n",
    "    line.append('#!/bin/tcsh\\n')\n",
    "    line.append('#PBS -N cmip6_bestfitLRM\\n')\n",
    "    line.append('#PBS -A WYOM0119\\n')\n",
    "    line.append('#PBS -l select=1:ncpus=12:mem=76GB\\n')\n",
    "    line.append('#PBS -l walltime=00:25:00\\n')\n",
    "    line.append('#PBS -q casper\\n')\n",
    "    line.append('#PBS -j oe\\n')\n",
    "\n",
    "    line.append('source /etc/profile.d/modules.csh\\n')\n",
    "    line.append('module load ncarenv python\\n')\n",
    "    line.append('ncar_pylib\\n')\n",
    "\n",
    "    line.append('python shell_job1.py ' + str(i))\n",
    "\n",
    "\n",
    "    print(line)\n",
    "    \n",
    "    for j in np.arange(len(line)):\n",
    "        file.write(line[j])\n",
    "    file.close\n",
    "\n",
    "print(filepath)"
   ]
  },
  {
   "cell_type": "code",
   "execution_count": 3,
   "id": "a0440b9e-7579-430f-8fdf-88d5aa809a91",
   "metadata": {},
   "outputs": [
    {
     "name": "stdout",
     "output_type": "stream",
     "text": [
      "/glade/work/chuyan/Research/Cloud_CCFs_RMs/Course_objective_ana\n",
      "0\n",
      "0\n",
      "1\n",
      "0\n",
      "2\n",
      "0\n",
      "3\n",
      "0\n",
      "4\n",
      "0\n",
      "5\n",
      "0\n",
      "6\n",
      "0\n",
      "7\n",
      "0\n",
      "8\n",
      "0\n",
      "9\n",
      "0\n",
      "10\n",
      "0\n",
      "11\n",
      "0\n",
      "12\n",
      "0\n",
      "13\n",
      "0\n",
      "14\n",
      "0\n",
      "15\n",
      "0\n",
      "16\n",
      "0\n",
      "17\n",
      "32\n"
     ]
    }
   ],
   "source": [
    "filepath = os.getcwd()\n",
    "filepath_batch_job = filepath \n",
    "print(filepath_batch_job)\n",
    "for i in range(18):\n",
    "    \n",
    "    print(i)\n",
    "    \n",
    "#     SCE_L1 = '#!/bin/tcsh'\n",
    "#     SCE_L2 = '#PBS -N cmip6_bestfitLRM'\n",
    "#     SCE_L3 = '#PBS -A WYOM0119'\n",
    "#     SCE_L4 = '#PBS -l select=1:ncpus=12:mem=76GB'\n",
    "#     SCE_L5 = '#PBS -l walltime=00:25:00'\n",
    "#     SCE_L6 = '#PBS -q casper'\n",
    "#     SCE_L7 = '#PBS -j oe'\n",
    "\n",
    "#     SCE_L8 = 'source /etc/profile.d/modules.csh'\n",
    "#     SCE_L9 = 'module load ncarenv python'\n",
    "#     SCE_L10= 'ncar_pylib'\n",
    "    \n",
    "#     py_comm= 'python shell_job1.py ' + str(i)\n",
    "    \n",
    "    sub_comm = \"batchjobt1_\" + str(i+1) + \".sh\"\n",
    "    os.system(\"cd \"+filepath_batch_job)\n",
    "    \n",
    "    output_call_functions = subprocess.run([\"qsub\", sub_comm], stdout = subprocess.DEVNULL)\n",
    "    \n",
    "    print(output_call_functions.returncode)"
   ]
  },
  {
   "cell_type": "code",
   "execution_count": 6,
   "id": "8f91c90c-e92d-4d13-9f6e-3fb0d8146e49",
   "metadata": {},
   "outputs": [
    {
     "name": "stdout",
     "output_type": "stream",
     "text": [
      "/glade/work/chuyan/Research/Cloud_CCFs_RMs/Course_objective_ana\n",
      "18\n",
      "0\n"
     ]
    }
   ],
   "source": [
    "filepath = os.getcwd()\n",
    "filepath_batch_job = filepath\n",
    "print(filepath_batch_job)\n",
    "\n",
    "i = 17\n",
    "print(i+1)\n",
    "sub_comm = \"batchjobt1_\" + str(i+1) + \".sh\"\n",
    "os.system(\"cd \"+filepath_batch_job)\n",
    "\n",
    "output_call_functions = subprocess.run([\"qsub\", sub_comm], stdout = subprocess.DEVNULL)\n",
    "print(output_call_functions.returncode)"
   ]
  },
  {
   "cell_type": "code",
   "execution_count": null,
   "id": "a793ee79-6755-4657-b1f8-50d447945767",
   "metadata": {},
   "outputs": [],
   "source": []
  }
 ],
 "metadata": {
  "kernelspec": {
   "display_name": "NPL3 (my_npl_clone)",
   "language": "python",
   "name": "npl3-my_npl_clone"
  },
  "language_info": {
   "codemirror_mode": {
    "name": "ipython",
    "version": 3
   },
   "file_extension": ".py",
   "mimetype": "text/x-python",
   "name": "python",
   "nbconvert_exporter": "python",
   "pygments_lexer": "ipython3",
   "version": "3.7.5"
  }
 },
 "nbformat": 4,
 "nbformat_minor": 5
}
