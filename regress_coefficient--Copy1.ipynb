{
 "cells": [
  {
   "cell_type": "code",
   "execution_count": 1,
   "id": "delayed-insight",
   "metadata": {},
   "outputs": [],
   "source": [
    "#..modified by CHUYAN at July23-2021; calculate binned P-E/SST /subsidence and LTS and LWP array;   (annual-mean, binned 5X5degree, area-mean data, \n",
    "#..standardized data)\n",
    "\n",
    "import netCDF4\n",
    "import numpy as np\n",
    "import matplotlib.pyplot as plt\n",
    "import xarray as xr\n",
    "import PyNIO as Nio\n",
    "import pandas as pd\n",
    "\n",
    "\n",
    "from scipy import stats\n",
    "from sklearn.linear_model import LinearRegression"
   ]
  },
  {
   "cell_type": "code",
   "execution_count": 2,
   "id": "093b6104-a906-47e8-9c32-2126bae6cf86",
   "metadata": {},
   "outputs": [
    {
     "name": "stdout",
     "output_type": "stream",
     "text": [
      "<class 'netCDF4._netCDF4.Variable'>\n",
      "float64 plev(plev)\n",
      "    axis: Z\n",
      "    positive: down\n",
      "    requested: 100000. 92500. 85000. 70000. 60000. 50000. 40000. 30000. 25000. 20000. 15000. 10000. 7000. 5000. 3000. 2000. 1000. 500. 100.\n",
      "    standard_name: air_pressure\n",
      "    title: pressure\n",
      "    type: double\n",
      "    units: Pa\n",
      "unlimited dimensions: \n",
      "current shape = (19,)\n",
      "filling on, default _FillValue of 9.969209968386869e+36 used\n"
     ]
    }
   ],
   "source": [
    "#..retrieve variables in pi-control\n",
    "#..SST\n",
    "fpath_ts    = '/glade/collections/cdg/data/CMIP6/CMIP/NCAR/CESM2/piControl/r1i1p1f1/Amon/ts/gn/v20190320/ts_Amon_CESM2_piControl_r1i1p1f1_gn_000101-009912.nc' \n",
    "#..surface Temperature & Pressure\n",
    "fpath_ps    = '/glade/collections/cdg/data/CMIP6/CMIP/NCAR/CESM2/piControl/r1i1p1f1/Amon/ps/gn/v20190320/ps_Amon_CESM2_piControl_r1i1p1f1_gn_000101-009912.nc'\n",
    "fpath_tas   = '/glade/collections/cdg/data/CMIP6/CMIP/NCAR/CESM2/piControl/r1i1p1f1/Amon/tas/gn/v20190320/tas_Amon_CESM2_piControl_r1i1p1f1_gn_000101-009912.nc'\n",
    "#..temperature at levels\n",
    "fpath_ta    = '/glade/collections/cdg/data/CMIP6/CMIP/NCAR/CESM2/piControl/r1i1p1f1/Amon/ta/gn/v20190320/ta_Amon_CESM2_piControl_r1i1p1f1_gn_000101-009912.nc'\n",
    "#..liquid water path\n",
    "fpath_clivi = '/glade/collections/cdg/data/CMIP6/CMIP/NCAR/CESM2/piControl/r1i1p1f1/Amon/clivi/gn/v20190320/clivi_Amon_CESM2_piControl_r1i1p1f1_gn_000101-009912.nc'\n",
    "fpath_clwvi = '/glade/collections/cdg/data/CMIP6/CMIP/NCAR/CESM2/piControl/r1i1p1f1/Amon/clwvi/gn/v20190320/clwvi_Amon_CESM2_piControl_r1i1p1f1_gn_000101-009912.nc'\n",
    "#..subsidence\n",
    "fpath_wap   = '/glade/collections/cdg/data/CMIP6/CMIP/NCAR/CESM2/piControl/r1i1p1f1/Amon/wap/gn/v20190320/wap_Amon_CESM2_piControl_r1i1p1f1_gn_000101-009912.nc'\n",
    "#..precipitation flux and water evaporation flux\n",
    "fpath_p     = '/glade/collections/cdg/data/CMIP6/CMIP/NCAR/CESM2/piControl/r1i1p1f1/Amon/pr/gn/v20190320/pr_Amon_CESM2_piControl_r1i1p1f1_gn_000101-009912.nc'\n",
    "fpath_e     = '/glade/collections/cdg/data/CMIP6/CMIP/NCAR/CESM2/piControl/r1i1p1f1/Amon/evspsbl/gn/v20190320/evspsbl_Amon_CESM2_piControl_r1i1p1f1_gn_000101-009912.nc'\n",
    "\n",
    "f_ts        = netCDF4.Dataset(fpath_ts,'r')\n",
    "f_ta        = netCDF4.Dataset(fpath_ta,'r')\n",
    "f_tas       = netCDF4.Dataset(fpath_tas,'r')\n",
    "f_ps        = netCDF4.Dataset(fpath_ps,'r')\n",
    "f_wap       = netCDF4.Dataset(fpath_wap,'r')\n",
    "f_clivi     = netCDF4.Dataset(fpath_clivi,'r')\n",
    "f_clwvi     = netCDF4.Dataset(fpath_clwvi,'r')\n",
    "\n",
    "f_pr        = netCDF4.Dataset(fpath_p, 'r')\n",
    "f_ev        = netCDF4.Dataset(fpath_e, 'r')\n",
    "\n",
    "lons        = f_ts.variables['lon'][:]\n",
    "lats        = f_ts.variables['lat']\n",
    "times       = f_ts.variables['time']\n",
    "\n",
    "\n",
    "levels      = f_ta.variables['plev']\n",
    "print(levels)"
   ]
  },
  {
   "cell_type": "code",
   "execution_count": 3,
   "id": "db6efa55-485d-4fba-a464-7a27c34140e3",
   "metadata": {},
   "outputs": [
    {
     "name": "stderr",
     "output_type": "stream",
     "text": [
      "/glade/u/ssg/ch/usr/jupyterhub/envs/npl-3.7.9/cheyenne/lib/python3.7/site-packages/ipykernel_launcher.py:9: UserWarning: WARNING: missing_value not used since it\n",
      "cannot be safely cast to variable data type\n",
      "  if __name__ == '__main__':\n"
     ]
    },
    {
     "name": "stdout",
     "output_type": "stream",
     "text": [
      "(1188, 192, 288)\n"
     ]
    },
    {
     "name": "stderr",
     "output_type": "stream",
     "text": [
      "/glade/u/ssg/ch/usr/jupyterhub/envs/npl-3.7.9/cheyenne/lib/python3.7/site-packages/ipykernel_launcher.py:11: UserWarning: WARNING: missing_value not used since it\n",
      "cannot be safely cast to variable data type\n",
      "  # This is added back by InteractiveShellApp.init_path()\n"
     ]
    }
   ],
   "source": [
    "\n",
    "#..choose lat 40-85S as the southern Ocean region\n",
    "lati0 = -40.\n",
    "latsi0= min(range(len(lats)), key = lambda i: abs(lats[i] - lati0))\n",
    "lati1 = -85.\n",
    "latsi1= min(range(len(lats)), key = lambda i: abs(lats[i] - lati1))\n",
    "\n",
    "\n",
    "sfc_T       = f_ts.variables['ts']   #..T_skin, also as SST, shape in (1188, 192, 288), units in K\n",
    "T_700        = f_ta.variables['ta'][:, 3,:,:]\n",
    "sfc_P       = f_ps.variables['ps']   #..Units in Pa\n",
    "sub         = f_wap.variables['wap'][:, 5,:,:]    #..500mb downward motions\n",
    "clivi       = f_clivi.variables['clivi']   #..Units in kg m^-2\n",
    "clwvi       = f_clwvi.variables['clwvi']\n",
    "tas         = f_tas.variables['tas']   #..2-m air Temperature, for 'gmt'\n",
    "\n",
    "P           = f_pr.variables['pr']   #..Units in kg m^-2 s^-1 = mm *s^-1\n",
    "E           = f_ev.variables['evspsbl']\n",
    "print(sfc_T.shape)"
   ]
  },
  {
   "cell_type": "code",
   "execution_count": 4,
   "id": "consecutive-convertible",
   "metadata": {},
   "outputs": [
    {
     "name": "stderr",
     "output_type": "stream",
     "text": [
      "/glade/u/ssg/ch/usr/jupyterhub/envs/npl-3.7.9/cheyenne/lib/python3.7/site-packages/ipykernel_launcher.py:1: UserWarning: WARNING: missing_value not used since it\n",
      "cannot be safely cast to variable data type\n",
      "  \"\"\"Entry point for launching an IPython kernel.\n"
     ]
    },
    {
     "name": "stdout",
     "output_type": "stream",
     "text": [
      "2.3886616\n"
     ]
    },
    {
     "name": "stderr",
     "output_type": "stream",
     "text": [
      "/glade/u/ssg/ch/usr/jupyterhub/envs/npl-3.7.9/cheyenne/lib/python3.7/site-packages/ipykernel_launcher.py:3: UserWarning: WARNING: missing_value not used since it\n",
      "cannot be safely cast to variable data type\n",
      "  This is separate from the ipykernel package so we can avoid doing imports until\n"
     ]
    },
    {
     "name": "stdout",
     "output_type": "stream",
     "text": [
      "2.1690218\n",
      "(1188, 192, 288)\n"
     ]
    }
   ],
   "source": [
    "Precip =  np.array(P) * (24.*60.*60.)   #..Precipitation. Convert the units from kg m^-2 s^-1 -> mm*day^-1\n",
    "print(np.nanmean(Precip))   #..2.388\n",
    "Eva    =  np.array(E) * (24.*60.*60.)   #..evaporation, mm day^-1\n",
    "print(np.nanmean(Eva))         #..2.169\n",
    "print(Eva.shape)\n"
   ]
  },
  {
   "cell_type": "code",
   "execution_count": 5,
   "id": "67213d66-ddc8-443d-8db2-264ac59d7b30",
   "metadata": {},
   "outputs": [
    {
     "name": "stderr",
     "output_type": "stream",
     "text": [
      "/glade/u/ssg/ch/usr/jupyterhub/envs/npl-3.7.9/cheyenne/lib/python3.7/site-packages/ipykernel_launcher.py:2: UserWarning: WARNING: missing_value not used since it\n",
      "cannot be safely cast to variable data type\n",
      "  \n",
      "/glade/u/ssg/ch/usr/jupyterhub/envs/npl-3.7.9/cheyenne/lib/python3.7/site-packages/ipykernel_launcher.py:4: UserWarning: WARNING: missing_value not used since it\n",
      "cannot be safely cast to variable data type\n",
      "  after removing the cwd from sys.path.\n",
      "/glade/u/ssg/ch/usr/jupyterhub/envs/npl-3.7.9/cheyenne/lib/python3.7/site-packages/ipykernel_launcher.py:6: UserWarning: WARNING: missing_value not used since it\n",
      "cannot be safely cast to variable data type\n",
      "  \n"
     ]
    }
   ],
   "source": [
    "#..Variables: LWP, tas(gmt), SST, p-e, LTS, subsidence\n",
    "LWP  = np.array(clwvi) - np.array(clivi)   #..units in kg m^-2\n",
    "\n",
    "gmt  = np.array(tas)\n",
    "\n",
    "SST  = np.array(sfc_T)\n",
    "\n",
    "MC  = Precip-Eva   #..Moisture Convergence calculated from P - E, Units in mm day^-1\n"
   ]
  },
  {
   "cell_type": "code",
   "execution_count": 6,
   "id": "5286b4ce-c0e0-403a-9860-761086c80c00",
   "metadata": {},
   "outputs": [
    {
     "name": "stderr",
     "output_type": "stream",
     "text": [
      "/glade/u/ssg/ch/usr/jupyterhub/envs/npl-3.7.9/cheyenne/lib/python3.7/site-packages/ipykernel_launcher.py:7: UserWarning: WARNING: missing_value not used since it\n",
      "cannot be safely cast to variable data type\n",
      "  import sys\n"
     ]
    }
   ],
   "source": [
    "#..Lower Troposphere Stability\n",
    "k  = 0.286\n",
    "theta_700  = np.array(T_700)* (100000./70000.)**k\n",
    "\n",
    "#print(theta_700)\n",
    "\n",
    "theta_skin = np.array(sfc_T)* (100000./np.array(sfc_P))**k\n",
    "LTS_m  = theta_700 - theta_skin\n",
    "\n",
    "#..Subtract the outliers in T_700 and LTS_m\n",
    "LTS_e  = np.ma.masked_where(theta_700 >= 500, LTS_m)\n",
    "#print(LTS_e, LTS_m)\n",
    "\n",
    "#..Subsidence, units in Pa s^-1 at 500 hPa\n",
    "Subsidence =  np.array(sub)"
   ]
  },
  {
   "cell_type": "code",
   "execution_count": 7,
   "id": "8a6ecdde-b493-45a1-9093-658561d8d1a2",
   "metadata": {},
   "outputs": [],
   "source": [
    "#..Convert variables becoming Annual-mean, Southern-Ocean region arrays\n",
    "\n",
    "Tg  = np.zeros((99,192,288))   #..Surface air Temperature, GMT\n",
    "LWP_yr  = np.zeros((99,48,288))\n",
    "\n",
    "p_e_yr  = np.zeros((99,48,288))\n",
    "SST_yr  = np.zeros((99,48,288))\n",
    "SUB_yr  = np.zeros((99,48,288))\n",
    "LTS_yr  = np.zeros((99,48,288))\n",
    "#..annual mean data of LWP, Tg and CCFs\n",
    "\n",
    "for i in range(0, 99):\n",
    "    Tg[i,:,:]     = np.nanmean(gmt[i*12:(i+1)*12,:,:], axis=0)\n",
    "    LWP_yr[i,:,:]  = np.nanmean(LWP[i*12:(i+1)*12, latsi1:latsi0,:], axis=0)\n",
    "    p_e_yr[i,:,:] = np.nanmean(MC[i*12:(i+1)*12, latsi1:latsi0,:], axis=0)\n",
    "    SST_yr[i,:,:]    = np.nanmean(SST[i*12:(i+1)*12, latsi1:latsi0,:], axis=0)\n",
    "    \n",
    "    LTS_yr[i,:,:]    = np.nanmean(LTS_e[i*12:(i+1)*12, latsi1:latsi0,:], axis=0)\n",
    "    SUB_yr[i,:,:]    = np.nanmean(Subsidence[i*12:(i+1)*12, latsi1:latsi0,:], axis=0)\n",
    "\n",
    "    "
   ]
  },
  {
   "cell_type": "code",
   "execution_count": 8,
   "id": "06aaaad0-7056-4449-86e0-645b65616337",
   "metadata": {},
   "outputs": [
    {
     "name": "stdout",
     "output_type": "stream",
     "text": [
      "(99, 48, 288)\n",
      "(10,) 73 10\n"
     ]
    }
   ],
   "source": [
    "print(LWP_yr.shape)\n",
    "#print(lat_array.shape,lon_array)\n",
    "\n",
    "x_range  = np.arange(0., 364, 5.)   #..number:73\n",
    "y_range  = np.arange(-85., -35, 5.)   #.. 40 S - 85 S(10)\n",
    "xbins, ybins = len(x_range), len(y_range)\n",
    "\n",
    "print(y_range.shape,xbins, ybins)\n"
   ]
  },
  {
   "cell_type": "code",
   "execution_count": 9,
   "id": "fdd85e35-e03c-4a3b-92a3-2611b0714941",
   "metadata": {},
   "outputs": [],
   "source": [
    "def binned_cySouthOcean5(S, lat, lon):\n",
    "    '''\n",
    "    Calculate the binned array for the mean value within 5X5 degree Bin Boxes\n",
    "    '''\n",
    "\n",
    "    XX, YY  = np.meshgrid(lon, lat, indexing='xy')\n",
    "    #..Southern Ocean region from 85S 40S\n",
    "    x_range  = np.arange(0., 364, 5.)   #..number:73\n",
    "    y_range  = np.arange(-85., -35, 5.)   #.. (10)\n",
    "    \n",
    "    xbins, ybins = len(x_range), len(y_range)\n",
    "    \n",
    "    S_binned_array  = np.zeros((S.shape[0],ybins,xbins))\n",
    "    \n",
    "    for i in np.arange(S.shape[0]):\n",
    "        S_time_step  = S[i,:,:]\n",
    "        \n",
    "        #..find and subtract the missing points\n",
    "        ind =  np.isnan(S[i,:,:])==False\n",
    "        S_binned_time , xedge, yedge, binnumber  = stats.binned_statistic_2d(XX[ind].ravel(),YY[ind].ravel(), values = S_time_step[ind].ravel(),\n",
    "                                                                            statistic ='mean', bins=[xbins, ybins], expand_binnumbers =True)\n",
    "        \n",
    "        S_binned_array[i,:,:] = S_binned_time.T\n",
    "    \n",
    "    return S_binned_array\n"
   ]
  },
  {
   "cell_type": "code",
   "execution_count": 10,
   "id": "9aeb812a-e3fe-4be0-a95c-5b06b818c36c",
   "metadata": {
    "tags": []
   },
   "outputs": [
    {
     "name": "stdout",
     "output_type": "stream",
     "text": [
      "(99, 10, 73)\n"
     ]
    }
   ],
   "source": [
    "#..Calculate 5*5 binned array for variables(LWP, ccfs) in Sounthern Ocean region\n",
    "\n",
    "lat_array  = lats[latsi1:latsi0]\n",
    "lon_array  = lons\n",
    "\n",
    "SST_yr_bin  = binned_cySouthOcean5(SST_yr, lat_array, lon_array)\n",
    "\n",
    "p_e_yr_bin  = binned_cySouthOcean5(p_e_yr, lat_array, lon_array)\n",
    "LWP_yr_bin  = binned_cySouthOcean5(LWP_yr, lat_array, lon_array)   #..shape in (99,10,73)\n",
    "\n",
    "LTS_yr_bin  = binned_cySouthOcean5(LTS_yr, lat_array, lon_array)\n",
    "SUB_yr_bin  = binned_cySouthOcean5(SUB_yr, lat_array, lon_array)\n",
    "\n",
    "print(SUB_yr_bin.shape)   #..(99,10,73)"
   ]
  },
  {
   "cell_type": "code",
   "execution_count": 25,
   "id": "ac203271-0f27-48bc-8333-5f31c3f22639",
   "metadata": {},
   "outputs": [
    {
     "name": "stdout",
     "output_type": "stream",
     "text": [
      "nan 0.18562600786487263\n",
      "(66598,)\n"
     ]
    }
   ],
   "source": [
    "#..Ravel binned array / Standardized data ARRAY\n",
    "\n",
    "LWP_predi  = LWP_yr_bin.flatten() \n",
    "#LWP_predi =  (LWP_predi - np.mean(LWP_predi) )/np.std(LWP_predi)\n",
    "\n",
    "SST_predi  = SST_yr_bin.flatten()  \n",
    "#SST_predi =  (SST_predi - np.mean(SST_predi)) /np.std(SST_predi)\n",
    "\n",
    "p_e_predi =  p_e_yr_bin.flatten()\n",
    "#p_e_predi =  (p_e_predi - np.mean(p_e_predi)) /np.std(p_e_predi)\n",
    "\n",
    "LTS_predi  = LTS_yr_bin.flatten()\n",
    "#LTS_predi =  (LTS_predi - np.nanmean(LTS_predi)) /np.nanstd(LTS_predi)\n",
    "\n",
    "SUB_predi  = SUB_yr_bin.flatten()\n",
    "#SUB_predi  = (SUB_predi - np.mean(SUB_predi)) /np.std(SUB_predi)\n",
    "\n",
    "print(np.max(LTS_predi), np.max(SUB_predi))\n",
    "\n",
    "#..Subtract 'nan' in data, 72270 -> 66598points\n",
    "ind2 =  np.isnan(LTS_predi)==False\n",
    "#print(ind2)\n",
    "\n",
    "print(SUB_predi[ind2].shape)"
   ]
  },
  {
   "cell_type": "code",
   "execution_count": 26,
   "id": "2b61e5f3-b391-4848-9c0b-3e50541822ac",
   "metadata": {},
   "outputs": [
    {
     "name": "stdout",
     "output_type": "stream",
     "text": [
      "[[2.26681901e+02 2.25504930e+02 2.24797933e+02 ... 2.84327553e+02\n",
      "  2.84348557e+02 2.83876128e+02]\n",
      " [1.37956839e-01 1.26451916e-01 1.12827400e-01 ... 1.18650282e-01\n",
      "  1.82366540e-01 4.49530225e-01]\n",
      " [9.75815859e+00 6.95421006e+00 4.05402970e+00 ... 1.36963827e+01\n",
      "  1.34316585e+01 1.36239985e+01]\n",
      " [1.75817864e-02 1.67793967e-02 1.45882363e-02 ... 1.49331843e-02\n",
      "  1.20111950e-02 8.22809406e-03]]\n",
      "(4, 66598)\n"
     ]
    }
   ],
   "source": [
    "#..Remove abnormal and missing_values:\n",
    "\n",
    "X  = np.array([SST_predi[ind2], p_e_predi[ind2] ,LTS_predi[ind2], SUB_predi[ind2]])\n",
    "\n",
    "print(X)\n",
    "print(X.shape)\n",
    "\n",
    "X2  = np.array([SST_predi[ind2], p_e_predi[ind2]])"
   ]
  },
  {
   "cell_type": "code",
   "execution_count": 28,
   "id": "7c3adaa7-ddc4-4273-ad20-46e05120a026",
   "metadata": {},
   "outputs": [
    {
     "name": "stdout",
     "output_type": "stream",
     "text": [
      "[ 0.0022244   0.01740707 -0.00166793  0.02882105]\n",
      "-0.49490642674103835\n"
     ]
    },
    {
     "data": {
      "text/plain": [
       "0.8385593310594059"
      ]
     },
     "execution_count": 28,
     "metadata": {},
     "output_type": "execute_result"
    }
   ],
   "source": [
    "#..Multiple linear regreesion of Liquid water path(lwp) to (CCF)Cloud Controlling Factors:\n",
    "\n",
    "result1 = LinearRegression().fit(X.T, LWP_predi[ind2])\n",
    "print(result1.coef_)\n",
    "print(result1.intercept_)\n",
    "\n",
    "result1.score(X.T, LWP_predi[ind2])\n",
    "\n",
    "\n",
    "#result1.predict()"
   ]
  },
  {
   "cell_type": "code",
   "execution_count": 29,
   "id": "a6b1d4d1-0a3f-48a2-a10f-4fa96b09821a",
   "metadata": {},
   "outputs": [
    {
     "name": "stdout",
     "output_type": "stream",
     "text": [
      "[0.0023659  0.01781472]\n",
      "-0.5559923187028606\n"
     ]
    },
    {
     "data": {
      "text/plain": [
       "0.818173002779718"
      ]
     },
     "execution_count": 29,
     "metadata": {},
     "output_type": "execute_result"
    }
   ],
   "source": [
    "#..Multiple linear regreesion of Liquid water path to CCF Cloud Controlling Factors:\n",
    "\n",
    "result2 = LinearRegression().fit(X2.T, LWP_predi[ind2])\n",
    "print(result2.coef_)\n",
    "print(result2.intercept_)\n",
    "\n",
    "result2.score(X2.T, LWP_predi[ind2])"
   ]
  },
  {
   "cell_type": "code",
   "execution_count": 30,
   "id": "472d27fe-843a-4e78-bf32-5be876042ba5",
   "metadata": {},
   "outputs": [],
   "source": [
    "coef1  = result1.coef_\n",
    "np.save('sensitivity_4ccfs.npy', coef1)\n",
    "\n",
    "intercept1  = result1.intercept_\n",
    "np.save('intercept1.npy', intercept1)"
   ]
  },
  {
   "cell_type": "code",
   "execution_count": 31,
   "id": "a3d25a89-4dc3-46a4-bbd6-86a6fa0616d1",
   "metadata": {},
   "outputs": [],
   "source": [
    "coef2  = result2.coef_\n",
    "np.save('sensitivity_2ccfs.npy', coef2)"
   ]
  },
  {
   "cell_type": "code",
   "execution_count": null,
   "id": "e1ab04a3-84a0-4b66-a93b-a91d4150cccf",
   "metadata": {},
   "outputs": [],
   "source": []
  },
  {
   "cell_type": "code",
   "execution_count": 33,
   "id": "3a8babbd-b1f9-47b5-a6b1-5fe047b0f1ec",
   "metadata": {},
   "outputs": [
    {
     "name": "stdout",
     "output_type": "stream",
     "text": [
      "(66598,)\n",
      "(72270,)\n"
     ]
    },
    {
     "data": {
      "image/png": "[encoded data removed]",
      "text/plain": [
       "<Figure size 748.8x525.6 with 1 Axes>"
      ]
     },
     "metadata": {
      "needs_background": "light"
     },
     "output_type": "display_data"
    }
   ],
   "source": [
    "#..draw the plot for 'pi-Cont' experiment's LWP and the predicted LWP from linear Regression Model trained in 'pi-control'\n",
    "\n",
    "fig2  = plt.figure(figsize = (10.4, 7.3))\n",
    "ax2  = plt.axes()\n",
    "\n",
    "\n",
    "apt  = np.dot(coef1, X)\n",
    "cpt  = apt + intercept1\n",
    "\n",
    "\n",
    "print(cpt.shape)\n",
    "print(LWP_predi.shape)\n",
    "plt.scatter(cpt.flatten(), LWP_predi[ind2], c  = 'b')\n",
    "#..Add reference LINE\n",
    "x  = np.linspace(-0.09, 0.37, 50)\n",
    "y  = x\n",
    "plt.plot(x, y, color='k', linewidth =2, linestyle =  'dashed')\n",
    "\n",
    "#plt.ylim((0.105, 0.121))\n",
    "\n",
    "\n",
    "plt.xlabel('Regressed')\n",
    "plt.ylabel('True LWP')\n",
    "plt.title(\"LWP in pi-Control experiemend of CESM2\")\n",
    "\n",
    "\n",
    "plt.savefig(\"LWP_distribution_CESM2.png\")"
   ]
  },
  {
   "cell_type": "code",
   "execution_count": 17,
   "id": "59023065-fa8e-4834-9e86-60a9d4af63f9",
   "metadata": {},
   "outputs": [],
   "source": [
    "fpath_abr_ts    = '/glade/collections/cmip/CMIP6/CMIP/NCAR/CESM2/abrupt-4xCO2/r1i1p1f1/Amon/ts/gn/latest/ts_Amon_CESM2_abrupt-4xCO2_r1i1p1f1_gn_000101-015012.nc'\n",
    "fpath_abr_ta    = '/glade/collections/cmip/CMIP6/CMIP/NCAR/CESM2/abrupt-4xCO2/r1i1p1f1/Amon/ta/gn/latest/ta_Amon_CESM2_abrupt-4xCO2_r1i1p1f1_gn_000101-015012.nc'\n",
    "fpath_abr_ps    = '/glade/collections/cmip/CMIP6/CMIP/NCAR/CESM2/abrupt-4xCO2/r1i1p1f1/Amon/ps/gn/latest/ps_Amon_CESM2_abrupt-4xCO2_r1i1p1f1_gn_000101-015012.nc'\n",
    "fpath_abr_wap   = '/glade/collections/cmip/CMIP6/CMIP/NCAR/CESM2/abrupt-4xCO2/r1i1p1f1/Amon/wap/gn/latest/wap_Amon_CESM2_abrupt-4xCO2_r1i1p1f1_gn_000101-015012.nc'\n",
    "fpath_abr_clivi = '/glade/collections/cmip/CMIP6/CMIP/NCAR/CESM2/abrupt-4xCO2/r1i1p1f1/Amon/clivi/gn/latest/clivi_Amon_CESM2_abrupt-4xCO2_r1i1p1f1_gn_000101-015012.nc'\n",
    "fpath_abr_clwvi = '/glade/collections/cmip/CMIP6/CMIP/NCAR/CESM2/abrupt-4xCO2/r1i1p1f1/Amon/clwvi/gn/latest/clwvi_Amon_CESM2_abrupt-4xCO2_r1i1p1f1_gn_000101-015012.nc'\n",
    "fpath_abr_tas   = '/glade/collections/cmip/CMIP6/CMIP/NCAR/CESM2/abrupt-4xCO2/r1i1p1f1/Amon/tas/gn/latest/tas_Amon_CESM2_abrupt-4xCO2_r1i1p1f1_gn_000101-015012.nc'\n",
    "\n",
    "fpath_p     = '/glade/collections/cdg/data/CMIP6/CMIP/NCAR/CESM2/abrupt-4xCO2/r1i1p1f1/Amon/pr/gn/v20190927/pr_Amon_CESM2_abrupt-4xCO2_r1i1p1f1_gn_000101-015012.n'\n",
    "fpath_e     = '/glade/collections/cdg/data/CMIP6/CMIP/NCAR/CESM2/abrupt-4xCO2/r1i1p1f1/Amon/evspsbl/gn/v20190927/evspsbl_Amon_CESM2_abrupt-4xCO2_r1i1p1f1_gn_000101-015012.nc'"
   ]
  },
  {
   "cell_type": "code",
   "execution_count": null,
   "id": "57cbf675-a81f-4e80-9def-3c3579f1d300",
   "metadata": {},
   "outputs": [],
   "source": []
  },
  {
   "cell_type": "code",
   "execution_count": null,
   "id": "512aed44-20ec-4d12-92f7-7a90bb64bc99",
   "metadata": {},
   "outputs": [],
   "source": []
  },
  {
   "cell_type": "code",
   "execution_count": null,
   "id": "db21a2a3-6ba5-4413-85f9-0c9a83e4d11b",
   "metadata": {},
   "outputs": [],
   "source": []
  },
  {
   "cell_type": "code",
   "execution_count": 18,
   "id": "attended-parish",
   "metadata": {},
   "outputs": [],
   "source": [
    "#..Test..\n",
    "X = np.array([[1, 1], [1, 2], [2, 2], [2, 3]])\n",
    "\n",
    "x1 = np.random.normal(0.,1.,size=100,)\n",
    "\n",
    "a =  0.8\n",
    "b =  np.sqrt(1. - a**2)\n",
    "x2 =  []"
   ]
  },
  {
   "cell_type": "code",
   "execution_count": 19,
   "id": "9fb2b614-15c1-42b8-bc1a-8fdec0c65c39",
   "metadata": {},
   "outputs": [
    {
     "name": "stdout",
     "output_type": "stream",
     "text": [
      "[[ 0.91057394]\n",
      " [-0.07875968]\n",
      " [-1.71252511]\n",
      " [-0.64977282]\n",
      " [-0.32943044]\n",
      " [ 1.91496669]\n",
      " [ 0.45783101]\n",
      " [-1.00932278]\n",
      " [ 1.00118399]\n",
      " [-0.41990868]\n",
      " [ 1.56096437]\n",
      " [ 0.73558039]\n",
      " [-0.40029257]\n",
      " [-0.03310703]\n",
      " [-0.33182266]\n",
      " [ 0.57999047]\n",
      " [-0.25566302]\n",
      " [-0.15665203]\n",
      " [ 1.12001766]\n",
      " [-1.79120878]\n",
      " [ 0.96582511]\n",
      " [ 0.56178179]\n",
      " [-0.37137532]\n",
      " [-0.02873189]\n",
      " [-0.0871223 ]\n",
      " [ 0.82040149]\n",
      " [ 0.14816891]\n",
      " [ 1.87954132]\n",
      " [ 0.0107897 ]\n",
      " [-0.99055028]\n",
      " [ 0.62762477]\n",
      " [-2.31945047]\n",
      " [ 1.24494363]\n",
      " [ 0.84465171]\n",
      " [-0.66339404]\n",
      " [-0.08238222]\n",
      " [-0.19852728]\n",
      " [-0.08143935]\n",
      " [ 1.70058789]\n",
      " [-0.0045731 ]\n",
      " [-1.44843324]\n",
      " [ 2.56492287]\n",
      " [ 0.2263234 ]\n",
      " [ 0.06736285]\n",
      " [-0.80274066]\n",
      " [-1.07050042]\n",
      " [-0.67868484]\n",
      " [ 1.56387498]\n",
      " [-2.27863146]\n",
      " [ 0.1418725 ]\n",
      " [-0.20216137]\n",
      " [-1.28378883]\n",
      " [ 0.41476623]\n",
      " [-0.18573178]\n",
      " [ 1.17627469]\n",
      " [ 0.5376106 ]\n",
      " [-0.10628367]\n",
      " [-2.473915  ]\n",
      " [-0.95969353]\n",
      " [ 0.45449921]\n",
      " [-0.29912333]\n",
      " [-1.00008504]\n",
      " [-0.35464517]\n",
      " [ 1.70035099]\n",
      " [ 0.04239985]\n",
      " [-3.20474546]\n",
      " [-0.91685755]\n",
      " [-0.8617787 ]\n",
      " [ 0.02483642]\n",
      " [-0.6702789 ]\n",
      " [ 1.9582141 ]\n",
      " [-0.19324706]\n",
      " [-1.27939329]\n",
      " [-1.15386376]\n",
      " [ 0.04694452]\n",
      " [ 0.10044539]\n",
      " [-1.27203471]\n",
      " [-0.45945589]\n",
      " [-0.78139056]\n",
      " [-0.0439596 ]\n",
      " [ 1.11500381]\n",
      " [-0.33546378]\n",
      " [ 0.20104908]\n",
      " [ 0.36761276]\n",
      " [-0.00646201]\n",
      " [ 0.67761428]\n",
      " [ 0.16827644]\n",
      " [-0.42575092]\n",
      " [-0.37349738]\n",
      " [-1.69644202]\n",
      " [-1.31289604]\n",
      " [-1.10695853]\n",
      " [-0.17097446]\n",
      " [-0.34265949]\n",
      " [-0.07460163]\n",
      " [ 0.30792704]\n",
      " [-0.59265487]\n",
      " [ 1.63646606]\n",
      " [ 0.82328336]\n",
      " [ 0.7762079 ]]\n"
     ]
    }
   ],
   "source": [
    "for i in np.arange(0,100,1):\n",
    "    x2.append(a*x1[i] + b* np.random.normal(0., 1., 1))\n",
    "\n",
    "x3  = np.asarray(x2)\n",
    "#print(x2)\n",
    "print(x3)"
   ]
  },
  {
   "cell_type": "code",
   "execution_count": 20,
   "id": "instant-democracy",
   "metadata": {},
   "outputs": [
    {
     "name": "stdout",
     "output_type": "stream",
     "text": [
      "[[3. 1.]\n",
      " [2. 1.]]\n"
     ]
    },
    {
     "data": {
      "text/plain": [
       "array([[1, 2, 1, 2, 1, 1, 2],\n",
       "       [1, 2, 1, 1, 2, 1, 1]])"
      ]
     },
     "execution_count": 20,
     "metadata": {},
     "output_type": "execute_result"
    }
   ],
   "source": [
    "x = [0.1, 0.55, 0.1, 0.6, 0.1,0.3, 0.6]\n",
    "y = [2.1, 2.6, 2.1, 2.1,  2.6,2.3 , 2.3]\n",
    "binx = [0.0, 0.5, 1.0]\n",
    "biny = [2.0, 2.5, 3.0]\n",
    "ret = stats.binned_statistic_2d(x, y, None, 'count', bins=[binx, biny], expand_binnumbers = True)\n",
    "\n",
    "print(ret.statistic)\n",
    "ret.binnumber"
   ]
  }
 ],
 "metadata": {
  "kernelspec": {
   "display_name": "NPL-3.7.9",
   "language": "python",
   "name": "npl-3.7.9"
  },
  "language_info": {
   "codemirror_mode": {
    "name": "ipython",
    "version": 3
   },
   "file_extension": ".py",
   "mimetype": "text/x-python",
   "name": "python",
   "nbconvert_exporter": "python",
   "pygments_lexer": "ipython3",
   "version": "3.7.9"
  }
 },
 "nbformat": 4,
 "nbformat_minor": 5
}
