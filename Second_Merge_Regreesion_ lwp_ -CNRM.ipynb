{
 "cells": [
  {
   "cell_type": "code",
   "execution_count": 1,
   "id": "458779dd-6af0-4370-acd9-ad08d53b9e0b",
   "metadata": {},
   "outputs": [],
   "source": [
    "#..modified by CHUYAN at Nov/05/2021; calculate binned P-E/SST/subsidence/ LTS and LWP/(TWP) array for Model: CNRM-ESM2-1; (annual-mean, binned 5X5 degree,\n",
    "#.. area-mean data,) for pi-Control and abrupt4XCO2 experiment, then use the sensitivity of LWP to CCFs to get a Linear regression model to predict\n",
    "#.. the LWP and d(LWP)/dGMT.. However, we wants to know why different SST zone will have diff efficiency in producing clouds with Warming..\n",
    "\n",
    "import netCDF4\n",
    "import numpy as np\n",
    "import matplotlib.pyplot as plt\n",
    "import xarray as xr\n",
    "import PyNIO as Nio\n",
    "import pandas as pd\n",
    "\n",
    "from scipy import stats\n",
    "from sklearn import linear_model\n",
    "\n",
    "from sklearn.metrics import mean_squared_error, r2_score\n",
    "from read_hs_file import read_var_mod\n",
    "\n",
    "from matplotlib.ticker import MaxNLocator\n",
    "from matplotlib.colors import BoundaryNorm\n"
   ]
  },
  {
   "cell_type": "code",
   "execution_count": 2,
   "id": "c4d31525-c1b5-4375-9bdc-1431dca3acf2",
   "metadata": {
    "tags": []
   },
   "outputs": [
    {
     "name": "stdout",
     "output_type": "stream",
     "text": [
      "[list([1, 2, 3, 4, 5]) list([6, 7, 8, 9, 10]) list([11, 12, 13, 14])]\n"
     ]
    },
    {
     "name": "stderr",
     "output_type": "stream",
     "text": [
      "/glade/u/ssg/ch/usr/jupyterhub/envs/npl-3.7.9/dav/lib/python3.7/site-packages/xarray/coding/times.py:463: SerializationWarning: Unable to decode time axis into full numpy.datetime64 objects, continuing using cftime.datetime objects instead, reason: dates out of range\n",
      "  dtype = _decode_cf_datetime_dtype(data, units, calendar, self.use_cftime)\n",
      "/glade/u/ssg/ch/usr/jupyterhub/envs/npl-3.7.9/dav/lib/python3.7/site-packages/xarray/coding/times.py:463: SerializationWarning: Unable to decode time axis into full numpy.datetime64 objects, continuing using cftime.datetime objects instead, reason: dates out of range\n",
      "  dtype = _decode_cf_datetime_dtype(data, units, calendar, self.use_cftime)\n",
      "/glade/u/ssg/ch/usr/jupyterhub/envs/npl-3.7.9/dav/lib/python3.7/site-packages/numpy/core/_asarray.py:85: SerializationWarning: Unable to decode time axis into full numpy.datetime64 objects, continuing using cftime.datetime objects instead, reason: dates out of range\n",
      "  return array(a, dtype, copy=False, order=order)\n"
     ]
    },
    {
     "name": "stdout",
     "output_type": "stream",
     "text": [
      "25.71918 17.449663 (6000, 128, 256)\n"
     ]
    }
   ],
   "source": [
    "x1 = [1,2,3,4,5]\n",
    "x2 = [6,7,8,9,10]\n",
    "x3 = [11,12,13,14]\n",
    "\n",
    "data = []\n",
    "data.append(x1)\n",
    "data.append(x2)\n",
    "data.append(x3)\n",
    "\n",
    "print(np.array(data))\n",
    "\n",
    "\n",
    "\n",
    "#T_700_alevs,times_pi = read_var_mod(modn='CNRM-ESM2-1', consort='CNRM-CERFACS', varnm='ta', cmip='cmip6', exper='piControl', ensmem='r1i1p1f2', typevar='Amon', gg='gr', read_p=True, time1=[1850, 1, 1], time2=[2349, 12, 31])[0],[4]\n",
    "\n",
    "#..Total Water Path\n",
    "fn_wvp_abr  = xr.open_dataset('/glade/collections/cmip/CMIP6/CMIP/CNRM-CERFACS/CNRM-ESM2-1/abrupt-4xCO2/r1i1p1f2/Amon/prw/gr/v20181026/prw/prw_Amon_CNRM-ESM2-1_abrupt-4xCO2_r1i1p1f2_gr_185001-199912.nc')\n",
    "\n",
    "prw_abr = np.array(fn_wvp_abr.variables['prw'])   #..Water Vapor Path , kg m-2 300yrs\n",
    "\n",
    "fn_wvp_pi   = xr.open_dataset('/glade/collections/cmip/CMIP6/CMIP/CNRM-CERFACS/CNRM-ESM2-1/piControl/r1i1p1f2/Amon/prw/gr/v20181115/prw/prw_Amon_CNRM-ESM2-1_piControl_r1i1p1f2_gr_185001-234912.nc')\n",
    "prw_pi  = np.array(fn_wvp_pi.variables['prw'])   #..500 yrs\n",
    "\n",
    "print(np.nanmean(prw_abr), np.nanmean(prw_pi), prw_pi.shape)\n",
    "\n",
    "#fn_wvp_pi\n"
   ]
  },
  {
   "cell_type": "code",
   "execution_count": 2,
   "id": "8722ba17-7d60-4169-92dd-a901a0f38aa3",
   "metadata": {
    "tags": []
   },
   "outputs": [
    {
     "name": "stdout",
     "output_type": "stream",
     "text": [
      "['/glade/collections/cmip//CMIP6/CMIP/CNRM-CERFACS/CNRM-ESM2-1/abrupt-4xCO2/r1i1p1f2/Amon/ts/gr/v20181026/ts/']\n",
      "/glade/collections/cmip//CMIP6/CMIP/CNRM-CERFACS/CNRM-ESM2-1/abrupt-4xCO2/r1i1p1f2/Amon/ts/gr/v20181026/ts//*ts**_**nc*\n",
      "/glade/collections/cmip//CMIP6/CMIP/CNRM-CERFACS/CNRM-ESM2-1/abrupt-4xCO2/r1i1p1f2/Amon/ts/gr/v20181026/ts/ts_Amon_CNRM-ESM2-1_abrupt-4xCO2_r1i1p1f2_gr_185001-199912.nc\n",
      "(1800, 128, 256)\n",
      "['/glade/collections/cmip//CMIP6/CMIP/CNRM-CERFACS/CNRM-ESM2-1/abrupt-4xCO2/r1i1p1f2/Amon/ta/gr/v20181026/ta/']\n",
      "/glade/collections/cmip//CMIP6/CMIP/CNRM-CERFACS/CNRM-ESM2-1/abrupt-4xCO2/r1i1p1f2/Amon/ta/gr/v20181026/ta//*ta**_**nc*\n",
      "/glade/collections/cmip//CMIP6/CMIP/CNRM-CERFACS/CNRM-ESM2-1/abrupt-4xCO2/r1i1p1f2/Amon/ta/gr/v20181026/ta/ta_Amon_CNRM-ESM2-1_abrupt-4xCO2_r1i1p1f2_gr_185001-199912.nc\n",
      "(1800, 19, 128, 256)\n",
      "['/glade/collections/cmip//CMIP6/CMIP/CNRM-CERFACS/CNRM-ESM2-1/abrupt-4xCO2/r1i1p1f2/Amon/ps/gr/v20181026/ps/']\n",
      "/glade/collections/cmip//CMIP6/CMIP/CNRM-CERFACS/CNRM-ESM2-1/abrupt-4xCO2/r1i1p1f2/Amon/ps/gr/v20181026/ps//*ps**_**nc*\n",
      "/glade/collections/cmip//CMIP6/CMIP/CNRM-CERFACS/CNRM-ESM2-1/abrupt-4xCO2/r1i1p1f2/Amon/ps/gr/v20181026/ps/ps_Amon_CNRM-ESM2-1_abrupt-4xCO2_r1i1p1f2_gr_185001-199912.nc\n",
      "(1800, 128, 256)\n",
      "['/glade/collections/cmip//CMIP6/CMIP/CNRM-CERFACS/CNRM-ESM2-1/abrupt-4xCO2/r1i1p1f2/Amon/wap/gr/v20181026/wap/']\n",
      "/glade/collections/cmip//CMIP6/CMIP/CNRM-CERFACS/CNRM-ESM2-1/abrupt-4xCO2/r1i1p1f2/Amon/wap/gr/v20181026/wap//*wap**_**nc*\n",
      "/glade/collections/cmip//CMIP6/CMIP/CNRM-CERFACS/CNRM-ESM2-1/abrupt-4xCO2/r1i1p1f2/Amon/wap/gr/v20181026/wap/wap_Amon_CNRM-ESM2-1_abrupt-4xCO2_r1i1p1f2_gr_185001-199912.nc\n",
      "(1800, 19, 128, 256)\n",
      "['/glade/collections/cmip//CMIP6/CMIP/CNRM-CERFACS/CNRM-ESM2-1/abrupt-4xCO2/r1i1p1f2/Amon/clivi/gr/v20181026/clivi/']\n",
      "/glade/collections/cmip//CMIP6/CMIP/CNRM-CERFACS/CNRM-ESM2-1/abrupt-4xCO2/r1i1p1f2/Amon/clivi/gr/v20181026/clivi//*clivi**_**nc*\n",
      "/glade/collections/cmip//CMIP6/CMIP/CNRM-CERFACS/CNRM-ESM2-1/abrupt-4xCO2/r1i1p1f2/Amon/clivi/gr/v20181026/clivi/clivi_Amon_CNRM-ESM2-1_abrupt-4xCO2_r1i1p1f2_gr_185001-199912.nc\n",
      "(1800, 128, 256)\n",
      "['/glade/collections/cmip//CMIP6/CMIP/CNRM-CERFACS/CNRM-ESM2-1/abrupt-4xCO2/r1i1p1f2/Amon/clwvi/gr/v20181026/clwvi/']\n",
      "/glade/collections/cmip//CMIP6/CMIP/CNRM-CERFACS/CNRM-ESM2-1/abrupt-4xCO2/r1i1p1f2/Amon/clwvi/gr/v20181026/clwvi//*clwvi**_**nc*\n",
      "/glade/collections/cmip//CMIP6/CMIP/CNRM-CERFACS/CNRM-ESM2-1/abrupt-4xCO2/r1i1p1f2/Amon/clwvi/gr/v20181026/clwvi/clwvi_Amon_CNRM-ESM2-1_abrupt-4xCO2_r1i1p1f2_gr_185001-199912.nc\n",
      "(1800, 128, 256)\n",
      "['/glade/collections/cmip//CMIP6/CMIP/CNRM-CERFACS/CNRM-ESM2-1/abrupt-4xCO2/r1i1p1f2/Amon/tas/gr/v20181026/tas/']\n",
      "/glade/collections/cmip//CMIP6/CMIP/CNRM-CERFACS/CNRM-ESM2-1/abrupt-4xCO2/r1i1p1f2/Amon/tas/gr/v20181026/tas//*tas**_**nc*\n",
      "/glade/collections/cmip//CMIP6/CMIP/CNRM-CERFACS/CNRM-ESM2-1/abrupt-4xCO2/r1i1p1f2/Amon/tas/gr/v20181026/tas/tas_Amon_CNRM-ESM2-1_abrupt-4xCO2_r1i1p1f2_gr_185001-199912.nc\n",
      "(1800, 128, 256)\n",
      "['/glade/collections/cmip//CMIP6/CMIP/CNRM-CERFACS/CNRM-ESM2-1/abrupt-4xCO2/r1i1p1f2/Amon/pr/gr/v20181026/pr/']\n",
      "/glade/collections/cmip//CMIP6/CMIP/CNRM-CERFACS/CNRM-ESM2-1/abrupt-4xCO2/r1i1p1f2/Amon/pr/gr/v20181026/pr//*pr**_**nc*\n",
      "/glade/collections/cmip//CMIP6/CMIP/CNRM-CERFACS/CNRM-ESM2-1/abrupt-4xCO2/r1i1p1f2/Amon/pr/gr/v20181026/pr/pr_Amon_CNRM-ESM2-1_abrupt-4xCO2_r1i1p1f2_gr_185001-199912.nc\n",
      "(1800, 128, 256)\n",
      "['/glade/collections/cmip//CMIP6/CMIP/CNRM-CERFACS/CNRM-ESM2-1/abrupt-4xCO2/r1i1p1f2/Amon/evspsbl/gr/v20181026/evspsbl/']\n",
      "/glade/collections/cmip//CMIP6/CMIP/CNRM-CERFACS/CNRM-ESM2-1/abrupt-4xCO2/r1i1p1f2/Amon/evspsbl/gr/v20181026/evspsbl//*evspsbl**_**nc*\n",
      "/glade/collections/cmip//CMIP6/CMIP/CNRM-CERFACS/CNRM-ESM2-1/abrupt-4xCO2/r1i1p1f2/Amon/evspsbl/gr/v20181026/evspsbl/evspsbl_Amon_CNRM-ESM2-1_abrupt-4xCO2_r1i1p1f2_gr_185001-199912.nc\n",
      "(1800, 128, 256)\n",
      "(1800, 128, 256)\n"
     ]
    },
    {
     "name": "stderr",
     "output_type": "stream",
     "text": [
      "/glade/u/ssg/ch/usr/jupyterhub/envs/npl-3.7.9/dav/lib/python3.7/site-packages/xarray/coding/times.py:463: SerializationWarning: Unable to decode time axis into full numpy.datetime64 objects, continuing using cftime.datetime objects instead, reason: dates out of range\n",
      "  dtype = _decode_cf_datetime_dtype(data, units, calendar, self.use_cftime)\n",
      "/glade/u/ssg/ch/usr/jupyterhub/envs/npl-3.7.9/dav/lib/python3.7/site-packages/xarray/coding/times.py:463: SerializationWarning: Unable to decode time axis into full numpy.datetime64 objects, continuing using cftime.datetime objects instead, reason: dates out of range\n",
      "  dtype = _decode_cf_datetime_dtype(data, units, calendar, self.use_cftime)\n",
      "/glade/u/ssg/ch/usr/jupyterhub/envs/npl-3.7.9/dav/lib/python3.7/site-packages/numpy/core/_asarray.py:85: SerializationWarning: Unable to decode time axis into full numpy.datetime64 objects, continuing using cftime.datetime objects instead, reason: dates out of range\n",
      "  return array(a, dtype, copy=False, order=order)\n"
     ]
    },
    {
     "name": "stdout",
     "output_type": "stream",
     "text": [
      "['/glade/collections/cmip//CMIP6/CMIP/CNRM-CERFACS/CNRM-ESM2-1/piControl/r1i1p1f2/Amon/ts/gr/v20181115/ts/']\n",
      "/glade/collections/cmip//CMIP6/CMIP/CNRM-CERFACS/CNRM-ESM2-1/piControl/r1i1p1f2/Amon/ts/gr/v20181115/ts//*ts**_**nc*\n",
      "/glade/collections/cmip//CMIP6/CMIP/CNRM-CERFACS/CNRM-ESM2-1/piControl/r1i1p1f2/Amon/ts/gr/v20181115/ts/ts_Amon_CNRM-ESM2-1_piControl_r1i1p1f2_gr_185001-234912.nc\n",
      "(6000, 128, 256)\n",
      "['/glade/collections/cmip//CMIP6/CMIP/CNRM-CERFACS/CNRM-ESM2-1/piControl/r1i1p1f2/Amon/ta/gr/v20181115/ta/']\n",
      "/glade/collections/cmip//CMIP6/CMIP/CNRM-CERFACS/CNRM-ESM2-1/piControl/r1i1p1f2/Amon/ta/gr/v20181115/ta//*ta**_**nc*\n",
      "/glade/collections/cmip//CMIP6/CMIP/CNRM-CERFACS/CNRM-ESM2-1/piControl/r1i1p1f2/Amon/ta/gr/v20181115/ta/ta_Amon_CNRM-ESM2-1_piControl_r1i1p1f2_gr_185001-234912.nc\n",
      "(6000, 19, 128, 256)\n",
      "['/glade/collections/cmip//CMIP6/CMIP/CNRM-CERFACS/CNRM-ESM2-1/piControl/r1i1p1f2/Amon/ps/gr/v20181115/ps/']\n",
      "/glade/collections/cmip//CMIP6/CMIP/CNRM-CERFACS/CNRM-ESM2-1/piControl/r1i1p1f2/Amon/ps/gr/v20181115/ps//*ps**_**nc*\n",
      "/glade/collections/cmip//CMIP6/CMIP/CNRM-CERFACS/CNRM-ESM2-1/piControl/r1i1p1f2/Amon/ps/gr/v20181115/ps/ps_Amon_CNRM-ESM2-1_piControl_r1i1p1f2_gr_185001-234912.nc\n",
      "(6000, 128, 256)\n",
      "['/glade/collections/cmip//CMIP6/CMIP/CNRM-CERFACS/CNRM-ESM2-1/piControl/r1i1p1f2/Amon/wap/gr/v20181115/wap/']\n",
      "/glade/collections/cmip//CMIP6/CMIP/CNRM-CERFACS/CNRM-ESM2-1/piControl/r1i1p1f2/Amon/wap/gr/v20181115/wap//*wap**_**nc*\n",
      "/glade/collections/cmip//CMIP6/CMIP/CNRM-CERFACS/CNRM-ESM2-1/piControl/r1i1p1f2/Amon/wap/gr/v20181115/wap/wap_Amon_CNRM-ESM2-1_piControl_r1i1p1f2_gr_185001-209912.nc\n",
      "/glade/collections/cmip//CMIP6/CMIP/CNRM-CERFACS/CNRM-ESM2-1/piControl/r1i1p1f2/Amon/wap/gr/v20181115/wap/wap_Amon_CNRM-ESM2-1_piControl_r1i1p1f2_gr_210001-234912.nc\n",
      "(6000, 19, 128, 256)\n",
      "['/glade/collections/cmip//CMIP6/CMIP/CNRM-CERFACS/CNRM-ESM2-1/piControl/r1i1p1f2/Amon/clivi/gr/v20181115/clivi/']\n",
      "/glade/collections/cmip//CMIP6/CMIP/CNRM-CERFACS/CNRM-ESM2-1/piControl/r1i1p1f2/Amon/clivi/gr/v20181115/clivi//*clivi**_**nc*\n",
      "/glade/collections/cmip//CMIP6/CMIP/CNRM-CERFACS/CNRM-ESM2-1/piControl/r1i1p1f2/Amon/clivi/gr/v20181115/clivi/clivi_Amon_CNRM-ESM2-1_piControl_r1i1p1f2_gr_185001-234912.nc\n",
      "(6000, 128, 256)\n",
      "['/glade/collections/cmip//CMIP6/CMIP/CNRM-CERFACS/CNRM-ESM2-1/piControl/r1i1p1f2/Amon/clwvi/gr/v20181115/clwvi/']\n",
      "/glade/collections/cmip//CMIP6/CMIP/CNRM-CERFACS/CNRM-ESM2-1/piControl/r1i1p1f2/Amon/clwvi/gr/v20181115/clwvi//*clwvi**_**nc*\n",
      "/glade/collections/cmip//CMIP6/CMIP/CNRM-CERFACS/CNRM-ESM2-1/piControl/r1i1p1f2/Amon/clwvi/gr/v20181115/clwvi/clwvi_Amon_CNRM-ESM2-1_piControl_r1i1p1f2_gr_185001-234912.nc\n",
      "(6000, 128, 256)\n",
      "['/glade/collections/cmip//CMIP6/CMIP/CNRM-CERFACS/CNRM-ESM2-1/piControl/r1i1p1f2/Amon/tas/gr/v20181115/tas/']\n",
      "/glade/collections/cmip//CMIP6/CMIP/CNRM-CERFACS/CNRM-ESM2-1/piControl/r1i1p1f2/Amon/tas/gr/v20181115/tas//*tas**_**nc*\n",
      "/glade/collections/cmip//CMIP6/CMIP/CNRM-CERFACS/CNRM-ESM2-1/piControl/r1i1p1f2/Amon/tas/gr/v20181115/tas/tas_Amon_CNRM-ESM2-1_piControl_r1i1p1f2_gr_185001-234912.nc\n",
      "(6000, 128, 256)\n",
      "['/glade/collections/cmip//CMIP6/CMIP/CNRM-CERFACS/CNRM-ESM2-1/piControl/r1i1p1f2/Amon/pr/gr/v20181115/pr/']\n",
      "/glade/collections/cmip//CMIP6/CMIP/CNRM-CERFACS/CNRM-ESM2-1/piControl/r1i1p1f2/Amon/pr/gr/v20181115/pr//*pr**_**nc*\n",
      "/glade/collections/cmip//CMIP6/CMIP/CNRM-CERFACS/CNRM-ESM2-1/piControl/r1i1p1f2/Amon/pr/gr/v20181115/pr/pr_Amon_CNRM-ESM2-1_piControl_r1i1p1f2_gr_185001-234912.nc\n",
      "(6000, 128, 256)\n",
      "['/glade/collections/cmip//CMIP6/CMIP/CNRM-CERFACS/CNRM-ESM2-1/piControl/r1i1p1f2/Amon/evspsbl/gr/v20181115/evspsbl/']\n",
      "/glade/collections/cmip//CMIP6/CMIP/CNRM-CERFACS/CNRM-ESM2-1/piControl/r1i1p1f2/Amon/evspsbl/gr/v20181115/evspsbl//*evspsbl**_**nc*\n",
      "/glade/collections/cmip//CMIP6/CMIP/CNRM-CERFACS/CNRM-ESM2-1/piControl/r1i1p1f2/Amon/evspsbl/gr/v20181115/evspsbl/evspsbl_Amon_CNRM-ESM2-1_piControl_r1i1p1f2_gr_185001-209912.nc\n",
      "/glade/collections/cmip//CMIP6/CMIP/CNRM-CERFACS/CNRM-ESM2-1/piControl/r1i1p1f2/Amon/evspsbl/gr/v20181115/evspsbl/evspsbl_Amon_CNRM-ESM2-1_piControl_r1i1p1f2_gr_210001-234912.nc\n",
      "(6000, 128, 256)\n",
      "(6000, 128, 256)\n"
     ]
    }
   ],
   "source": [
    "#..netCDF4 for retrieving variables in 'pi' and 'abr': \n",
    "\n",
    "#..abrupt4xCO2\n",
    "sfc_T_abr       = read_var_mod(modn='CNRM-ESM2-1', consort='CNRM-CERFACS', varnm='ts', cmip='cmip6', exper='abrupt-4xCO2', ensmem='r1i1p1f2', typevar='Amon', gg='gr', read_p=False, time1=[1850, 1, 1], time2=[1999, 12, 31])[0]\n",
    "\n",
    "T_700_alevs_abr,P,lat_abr,lon_abr,times_abr = read_var_mod(modn='CNRM-ESM2-1', consort='CNRM-CERFACS', varnm='ta', cmip='cmip6', exper='abrupt-4xCO2', ensmem='r1i1p1f2', typevar='Amon', gg='gr', read_p=True, time1=[1850, 1, 1], time2=[1999, 12, 31])\n",
    "T_700_abr = T_700_alevs_abr[:, 3,:,:]   #..700 hPa levels\n",
    "\n",
    "sfc_P_abr       = read_var_mod(modn='CNRM-ESM2-1', consort='CNRM-CERFACS', varnm='ps', cmip='cmip6', exper='abrupt-4xCO2', ensmem='r1i1p1f2', typevar='Amon', gg='gr', read_p=False, time1=[1850, 1, 1], time2=[1999, 12, 31])[0]   \n",
    "\n",
    "sub_abr         = read_var_mod(modn='CNRM-ESM2-1', consort='CNRM-CERFACS', varnm='wap', cmip='cmip6', exper='abrupt-4xCO2', ensmem='r1i1p1f2', typevar='Amon', gg='gr', read_p=True, time1=[1850, 1, 1], time2=[1999, 12, 31])[0][:, 5,:,:] \n",
    "#..500mb downward motions\n",
    "\n",
    "clivi_abr       = read_var_mod(modn='CNRM-ESM2-1', consort='CNRM-CERFACS', varnm='clivi', cmip='cmip6', exper='abrupt-4xCO2', ensmem='r1i1p1f2', typevar='Amon', gg='gr', read_p=False, time1=[1850, 1, 1], time2=[1999, 12, 31])[0]\n",
    "clwvi_abr       = read_var_mod(modn='CNRM-ESM2-1', consort='CNRM-CERFACS', varnm='clwvi', cmip='cmip6', exper='abrupt-4xCO2', ensmem='r1i1p1f2', typevar='Amon', gg='gr', read_p=False, time1=[1850, 1, 1], time2=[1999, 12, 31])[0]\n",
    "tas_abr         = read_var_mod(modn='CNRM-ESM2-1', consort='CNRM-CERFACS', varnm='tas', cmip='cmip6', exper='abrupt-4xCO2', ensmem='r1i1p1f2', typevar='Amon', gg='gr', read_p=False, time1=[1850, 1, 1], time2=[1999, 12, 31])[0]\n",
    "\n",
    "P_abr           = read_var_mod(modn='CNRM-ESM2-1', consort='CNRM-CERFACS', varnm='pr', cmip='cmip6', exper='abrupt-4xCO2', ensmem='r1i1p1f2', typevar='Amon', gg='gr', read_p=False, time1=[1850, 1, 1], time2=[1999, 12, 31])[0]\n",
    "\n",
    "E_abr           = read_var_mod(modn='CNRM-ESM2-1', consort='CNRM-CERFACS', varnm='evspsbl', cmip='cmip6', exper='abrupt-4xCO2', ensmem='r1i1p1f2', typevar='Amon', gg='gr', read_p=False, time1=[1850, 1, 1], time2=[1999, 12, 31])[0]\n",
    "print(sfc_T_abr.shape)\n",
    "#..1800 months = 150 yrs for CNRM-ESM2-1:abrupt experiement\n",
    "\n",
    "\n",
    "\n",
    "#..Total Water Path\n",
    "fn_wvp_abr  = xr.open_dataset('/glade/collections/cmip/CMIP6/CMIP/CNRM-CERFACS/CNRM-ESM2-1/abrupt-4xCO2/r1i1p1f2/Amon/prw/gr/v20181026/prw/prw_Amon_CNRM-ESM2-1_abrupt-4xCO2_r1i1p1f2_gr_185001-199912.nc')\n",
    "\n",
    "prw_abr = np.array(fn_wvp_abr.variables['prw'])   #..Water Vapor Path , kg m-2 300yrs\n",
    "\n",
    "fn_wvp_pi   = xr.open_dataset('/glade/collections/cmip/CMIP6/CMIP/CNRM-CERFACS/CNRM-ESM2-1/piControl/r1i1p1f2/Amon/prw/gr/v20181115/prw/prw_Amon_CNRM-ESM2-1_piControl_r1i1p1f2_gr_185001-234912.nc')\n",
    "prw_pi  = np.array(fn_wvp_pi.variables['prw'])   #..500 yrs\n",
    "#print(np.nanmean(prw_abr), np.nanmean(prw_pi), prw_pi.shape)\n",
    "\n",
    "\n",
    "#..pi-Control\n",
    "sfc_T       = read_var_mod(modn='CNRM-ESM2-1', consort='CNRM-CERFACS', varnm='ts', cmip='cmip6', exper='piControl', ensmem='r1i1p1f2', typevar='Amon', gg='gr', read_p=False, time1=[1850, 1, 1], time2=[2349, 12, 31])[0]\n",
    "\n",
    "T_700_alevs,times_pi = read_var_mod(modn='CNRM-ESM2-1', consort='CNRM-CERFACS', varnm='ta', cmip='cmip6', exper='piControl', ensmem='r1i1p1f2', typevar='Amon', gg='gr', read_p=True, time1=[1850, 1, 1], time2=[2349, 12, 31])[0],[4]\n",
    "T_700       = T_700_alevs[:, 3,:,:]\n",
    "\n",
    "sfc_P       = read_var_mod(modn='CNRM-ESM2-1', consort='CNRM-CERFACS', varnm='ps', cmip='cmip6', exper='piControl', ensmem='r1i1p1f2', typevar='Amon', gg='gr', read_p=False, time1=[1850, 1, 1], time2=[2349, 12, 31])[0]   \n",
    "#..sea surface Pressure, Units in Pa\n",
    "\n",
    "sub         = read_var_mod(modn='CNRM-ESM2-1', consort='CNRM-CERFACS', varnm='wap', cmip='cmip6', exper='piControl', ensmem='r1i1p1f2', typevar='Amon', gg='gr', read_p=True, time1=[1850, 1, 1], time2=[2349, 12, 31])[0][:, 5,:,:] \n",
    "#..500mb downward mot0001\n",
    "\n",
    "clivi       = read_var_mod(modn='CNRM-ESM2-1', consort='CNRM-CERFACS', varnm='clivi', cmip='cmip6', exper='piControl', ensmem='r1i1p1f2', typevar='Amon', gg='gr', read_p=False, time1=[1850, 1, 1], time2=[2349, 12, 31])[0]\n",
    "#..ICE WATER PATH, Units in kg m^-2\n",
    "clwvi       = read_var_mod(modn='CNRM-ESM2-1', consort='CNRM-CERFACS', varnm='clwvi', cmip='cmip6', exper='piControl', ensmem='r1i1p1f2', typevar='Amon', gg='gr', read_p=False, time1=[1850, 1, 1], time2=[2349, 12, 31])[0]\n",
    "tas         = read_var_mod(modn='CNRM-ESM2-1', consort='CNRM-CERFACS', varnm='tas', cmip='cmip6', exper='piControl', ensmem='r1i1p1f2', typevar='Amon', gg='gr', read_p=False, time1=[1850, 1, 1], time2=[2349, 12, 31])[0]\n",
    "#..2-m air Temperature, for 'gmt'\n",
    "\n",
    "P           = read_var_mod(modn='CNRM-ESM2-1', consort='CNRM-CERFACS', varnm='pr', cmip='cmip6', exper='piControl', ensmem='r1i1p1f2', typevar='Amon', gg='gr', read_p=False, time1=[1850, 1, 1], time2=[2349, 12, 31])[0]\n",
    "#..Precipitation, Units in kg m^-2 s^-1 = mm *s^-1\n",
    "E           = read_var_mod(modn='CNRM-ESM2-1', consort='CNRM-CERFACS', varnm='evspsbl', cmip='cmip6', exper='piControl', ensmem='r1i1p1f2', typevar='Amon', gg='gr', read_p=False, time1=[1850, 1, 1], time2=[2349, 12, 31])[0]\n",
    "#..Evaporations, Units also in kg m^-2 s^-1 = mm *s^-1\n",
    "\n",
    "print(sfc_T.shape)\n",
    "#..6000 months = 500 yrs for CNRM-ESM2-1 piControl experiment\n"
   ]
  },
  {
   "cell_type": "code",
   "execution_count": 3,
   "id": "53c097d5-7702-478b-a92a-48d1561b596b",
   "metadata": {},
   "outputs": [
    {
     "name": "stdout",
     "output_type": "stream",
     "text": [
      "35 3\n"
     ]
    }
   ],
   "source": [
    "#..choose lat 40 -85 °S as the Southern-Ocean Regions\n",
    "\n",
    "lons        = lon_abr\n",
    "lats        = lat_abr[:]\n",
    "\n",
    "levels      = np.array(P)\n",
    "times       = times_abr\n",
    "#print(lats, lons)\n",
    "\n",
    "lati0 = -40.\n",
    "latsi0= min(range(len(lats)), key = lambda i: abs(lats[i] - lati0))\n",
    "lati1 = -85.\n",
    "latsi1= min(range(len(lats)), key = lambda i: abs(lats[i] - lati1))\n",
    "print(latsi0, latsi1)\n"
   ]
  },
  {
   "cell_type": "code",
   "execution_count": 4,
   "id": "e8550cd6-cfbb-4212-a82d-6999247d1432",
   "metadata": {},
   "outputs": [
    {
     "name": "stdout",
     "output_type": "stream",
     "text": [
      "2.6877267\n",
      "2.4250267\n",
      "(1800, 128, 256)\n",
      "2.4036179\n",
      "2.2042403\n",
      "(6000, 128, 256)\n"
     ]
    }
   ],
   "source": [
    "#..abrupt4xCO2\n",
    "Precip_abr =  np.array(P_abr) * (24.*60.*60.)   #..Precipitation. Convert the units from kg m^-2 s^-1 -> mm*day^-1\n",
    "print(np.nanmean(Precip_abr))   #.. IPSL/abr2.80..  CNRM ESM2 1/abr 2.69.. CESM2/abr 2.74..\n",
    "Eva_abr    =  np.array(E_abr) * (24.*60.*60.)   #..evaporation, mm day^-1\n",
    "print(np.nanmean(Eva_abr))         #.. IPSL/abr2.50..  CNRM ESM2 1/abr 2.43.. CESM2/abr 2.43..\n",
    "print(Eva_abr.shape)\n",
    "\n",
    "#..pi-Control\n",
    "Precip =  np.array(P) * (24.*60.*60.)   #..Precipitation. Convert the units from kg m^-2 s^-1 -> mm*day^-1\n",
    "print(np.nanmean(Precip))   #.. IPSL/piC 2.43..CNRM/piC 2.40.. CESM2/PIc 2.39\n",
    "Eva    =  np.array(E) * (24.*60.*60.)   #..evaporation, mm day^-1\n",
    "print(np.nanmean(Eva))   #.. IPSL/piC  2.21..CNRM/piC 2.20.. CESM2/PIc 2.17..\n",
    "print(Eva.shape)\n",
    "\n"
   ]
  },
  {
   "cell_type": "code",
   "execution_count": 5,
   "id": "e4403a2b-00fa-488d-982e-088bae06d856",
   "metadata": {},
   "outputs": [],
   "source": [
    "#..abrupt4xCO2 Variables: LWP, tas(gmt), SST, p-e, LTS, subsidence\n",
    "LWP_abr  = np.array(clwvi_abr) - np.array(clivi_abr)   #..units in kg m^-2\n",
    "\n",
    "gmt_abr  = np.array(tas_abr)\n",
    "\n",
    "SST_abr  = np.array(sfc_T_abr)\n",
    "\n",
    "MC_abr  = Precip_abr - Eva_abr   #..Moisture Convergence calculated from abrupt4xCO2's P - E, Units in mm day^-1\n",
    "\n",
    "Twp_abr  = np.array(clwvi_abr)\n",
    "Iwp_abr  = np.array(clivi_abr)\n",
    "\n",
    "\n",
    "#..pi-Control Variables: LWP, tas(gmt), SST, p-e, LTS, subsidence\n",
    "LWP  = np.array(clwvi) - np.array(clivi)   #..units in kg m^-2\n",
    "\n",
    "gmt  = np.array(tas)\n",
    "\n",
    "SST  = np.array(sfc_T)\n",
    "\n",
    "MC  = Precip - Eva   #..Moisture Convergence calculated from pi-Control's P - E, Units in mm day^-1\n",
    "\n",
    "Twp  = np.array(clwvi)\n",
    "Iwp  = np.array(clivi)"
   ]
  },
  {
   "cell_type": "code",
   "execution_count": 6,
   "id": "c18c22b6-601b-4519-8196-477574f549ff",
   "metadata": {
    "tags": []
   },
   "outputs": [],
   "source": [
    "#..abrupt4xCO2 Lower Tropospheric Stability\n",
    "k  = 0.286\n",
    "theta_700_abr  = np.array(T_700_abr)* (100000./70000.)**k\n",
    "\n",
    "#print(theta_700_abr)\n",
    "\n",
    "theta_skin_abr = np.array(sfc_T_abr)* (100000./np.array(sfc_P_abr))**k\n",
    "LTS_m_abr  = theta_700_abr - theta_skin_abr\n",
    "\n",
    "#..Subtract the outliers in T_700 and LTS_m, 'nan' comes from\n",
    "LTS_e_abr  = np.ma.masked_where(theta_700_abr >= 500, LTS_m_abr)\n",
    "#print(LTS_e_abr)\n",
    "\n",
    "#..Subsidence, units in Pa s^-1 at 500 hPa:\n",
    "Subsidence_abr =  np.array(sub_abr)\n",
    "\n",
    "\n",
    "#..pi-Control Lower Tropospheric Stability\n",
    "\n",
    "theta_700  = np.array(T_700)* (100000./70000.)**k\n",
    "\n",
    "#print(theta_700)\n",
    "\n",
    "theta_skin = np.array(sfc_T)* (100000./np.array(sfc_P))**k\n",
    "LTS_m  = theta_700 - theta_skin\n",
    "\n",
    "#..Subtract the outliers in T_700 and LTS_m, 'nan' comes from\n",
    "LTS_e  = np.ma.masked_where(theta_700 >= 500, LTS_m)\n",
    "#print(LTS_e, LTS_m)\n",
    "\n",
    "#..Subsidence, units in Pa s^-1 at 500 hPa:\n",
    "Subsidence =  np.array(sub)\n"
   ]
  },
  {
   "cell_type": "code",
   "execution_count": 7,
   "id": "01b91e1b-7ba3-47b9-97aa-eee402a67bb2",
   "metadata": {},
   "outputs": [
    {
     "name": "stdout",
     "output_type": "stream",
     "text": [
      "(array([], dtype=int64), array([], dtype=int64), array([], dtype=int64))\n",
      "(3, 0)\n",
      "9.903137 9.903137 256.08008\n"
     ]
    }
   ],
   "source": [
    "indf= np.isnan(LTS_e_abr)==True\n",
    "indf_false = np.nonzero(indf ==True)\n",
    "\n",
    "print(indf_false)\n",
    "print(np.array(indf_false).shape)\n",
    "\n",
    "print(LTS_e_abr[11,7,14],LTS_m_abr[11,7,14], T_700_abr[11,7,14])\n",
    "\n"
   ]
  },
  {
   "cell_type": "code",
   "execution_count": 8,
   "id": "6ec4fdef-66b0-4c1a-be0a-28f357ddc6f2",
   "metadata": {},
   "outputs": [
    {
     "name": "stdout",
     "output_type": "stream",
     "text": [
      "(150, 128, 256) (150, 32, 256)\n",
      "(500, 128, 256) (500, 32, 256)\n"
     ]
    }
   ],
   "source": [
    "#..Convert variables becoming Annual-mean, Southern-Ocean region arrays\n",
    "\n",
    "#..abrupt4xCO2\n",
    "Tg_abr  = np.zeros((150,128,256))   #..Surface air Temperature, GMT, shapein (300,143,144)!!\n",
    "LWP_yr_abr  = np.zeros((150,32,256))\n",
    "\n",
    "p_e_yr_abr  = np.zeros((150,32,256))\n",
    "SST_yr_abr  = np.zeros((150,32,256))\n",
    "SUB_yr_abr  = np.zeros((150,32,256))\n",
    "LTS_yr_abr  = np.zeros((150,32,256))\n",
    "TWP_yr_abr  = np.zeros((150,32,256))\n",
    "IWP_yr_abr  = np.zeros((150,32,256))\n",
    "PRW_yr_abr  = np.zeros((150,32,256))\n",
    "\n",
    "#..annual mean data of LWP, Tg and CCFs\n",
    "\n",
    "for i in range(0, 150):     #..shape in 3yr !!\n",
    "    Tg_abr[i,:,:]     = np.nanmean(gmt_abr[i*12:(i+1)*12,:,:], axis=0)\n",
    "    LWP_yr_abr[i,:,:]  = np.nanmean(LWP_abr[i*12:(i+1)*12, latsi1:latsi0,:], axis=0)\n",
    "    p_e_yr_abr[i,:,:] = np.nanmean(MC_abr[i*12:(i+1)*12, latsi1:latsi0,:], axis=0)\n",
    "    SST_yr_abr[i,:,:]    = np.nanmean(SST_abr[i*12:(i+1)*12, latsi1:latsi0,:], axis=0)\n",
    "    \n",
    "    LTS_yr_abr[i,:,:]    = np.nanmean(LTS_e_abr[i*12:(i+1)*12, latsi1:latsi0,:], axis=0)\n",
    "    SUB_yr_abr[i,:,:]    = np.nanmean(Subsidence_abr[i*12:(i+1)*12, latsi1:latsi0,:], axis=0)\n",
    "\n",
    "    TWP_yr_abr[i,:,:]  = np.nanmean(Twp_abr[i*12:(i+1)*12, latsi1:latsi0, :], axis=0)\n",
    "    IWP_yr_abr[i,:,:]  = np.nanmean(Iwp_abr[i*12:(i+1)*12, latsi1:latsi0, :], axis=0)\n",
    "    PRW_yr_abr[i,:,:]  = np.nanmean(prw_abr[i*12:(i+1)*12, latsi1:latsi0, :], axis=0)\n",
    "    \n",
    "print(Tg_abr.shape, PRW_yr_abr.shape)   #..shape in (300, 143, 144) or (300, 35, 144)\n",
    "\n",
    "\n",
    "#..pi-Control\n",
    "Tg  = np.zeros((500,128,256))   #..Surface air Temperature, GMT; need to be attention for the dimensions!!\n",
    "LWP_yr  = np.zeros((500,32,256))\n",
    "\n",
    "p_e_yr  = np.zeros((500,32,256))\n",
    "SST_yr  = np.zeros((500,32,256))\n",
    "SUB_yr  = np.zeros((500,32,256))\n",
    "LTS_yr  = np.zeros((500,32,256))\n",
    "TWP_yr  = np.zeros((500,32,256))\n",
    "IWP_yr  = np.zeros((500,32,256))\n",
    "PRW_yr  = np.zeros((500,32,256))\n",
    "#..annual mean data of LWP, Tg and CCFs\n",
    "\n",
    "for i in range(0, 500):\n",
    "    Tg[i,:,:]     = np.nanmean(gmt[i*12:(i+1)*12,:,:], axis=0)\n",
    "    LWP_yr[i,:,:]  = np.nanmean(LWP[i*12:(i+1)*12, latsi1:latsi0,:], axis=0)\n",
    "    p_e_yr[i,:,:] = np.nanmean(MC[i*12:(i+1)*12, latsi1:latsi0,:], axis=0)\n",
    "    SST_yr[i,:,:]  = np.nanmean(SST[i*12:(i+1)*12, latsi1:latsi0,:], axis=0)\n",
    "    \n",
    "    LTS_yr[i,:,:]  = np.nanmean(LTS_e[i*12:(i+1)*12, latsi1:latsi0,:], axis=0)\n",
    "    SUB_yr[i,:,:]  = np.nanmean(Subsidence[i*12:(i+1)*12, latsi1:latsi0,:], axis=0)\n",
    "\n",
    "    TWP_yr[i,:,:]  = np.nanmean(Twp[i*12:(i+1)*12, latsi1:latsi0, :], axis=0)\n",
    "    IWP_yr[i,:,:]  = np.nanmean(Iwp[i*12:(i+1)*12, latsi1:latsi0, :], axis=0)\n",
    "    PRW_yr[i,:,:]  = np.nanmean(prw_pi[i*12:(i+1)*12, latsi1:latsi0, :], axis=0)\n",
    "\n",
    "print(Tg.shape, p_e_yr.shape)\n",
    "#print(lat_array.shape,lon_array)\n"
   ]
  },
  {
   "cell_type": "code",
   "execution_count": 14,
   "id": "3e8f66ec-6b2a-4de2-bb96-c63729b259e7",
   "metadata": {},
   "outputs": [
    {
     "name": "stdout",
     "output_type": "stream",
     "text": [
      "nan (32, 256) --\n",
      "(array([  0,   0,   0, ..., 499, 499, 499]), array([ 0,  0,  0, ..., 10, 10, 10]), array([24, 25, 26, ..., 37, 38, 39]))\n",
      "(3, 349661)\n"
     ]
    }
   ],
   "source": [
    "p=np.nanmean(LTS_e_abr[0:12,latsi1:latsi0,:], axis=0)\n",
    "indg  = np.isnan(LTS_yr) == True\n",
    "indg_false  = np.nonzero(indg == True)\n",
    "\n",
    "\n",
    "print(LTS_yr[0,4,24], p.shape, p[4,24])\n",
    "print(indg_false)\n",
    "print(np.array(indg_false).shape)"
   ]
  },
  {
   "cell_type": "code",
   "execution_count": 9,
   "id": "b51cb23a-32b0-4ff1-977b-79bcfca35e85",
   "metadata": {},
   "outputs": [],
   "source": [
    "def binned_cySouthOcean5(S, lat, lon):\n",
    "    '''\n",
    "    Calculate the binned array for the mean value within 5X5 degree Bin Boxes in SouthOcean REGION\n",
    "    '''\n",
    "\n",
    "    XX, YY  = np.meshgrid(lon, lat, indexing='xy')\n",
    "    #..Southern Ocean region from 85S 40S\n",
    "    x_range  = np.arange(0., 364, 5.)   #..number:73\n",
    "    y_range  = np.arange(-85., -35, 5.)   #.. (10)\n",
    "    \n",
    "    xbins, ybins = len(x_range), len(y_range)\n",
    "    \n",
    "    S_binned_array  = np.zeros((S.shape[0],ybins,xbins))\n",
    "    \n",
    "    for i in np.arange(S.shape[0]):\n",
    "        S_time_step  = S[i,:,:]\n",
    "        \n",
    "        #..find and subtract the missing points\n",
    "        ind =  np.isnan(S[i,:,:])==False\n",
    "        S_binned_time , xedge, yedge, binnumber  = stats.binned_statistic_2d(XX[ind].ravel(),YY[ind].ravel(), values = S_time_step[ind].ravel(),\n",
    "                                                                            statistic ='mean', bins=[xbins, ybins], expand_binnumbers =True)\n",
    "        \n",
    "        S_binned_array[i,:,:] = S_binned_time.T\n",
    "    \n",
    "    return S_binned_array\n"
   ]
  },
  {
   "cell_type": "code",
   "execution_count": 10,
   "id": "b669b19c-bf69-44a1-aa80-a2ad1ee37128",
   "metadata": {},
   "outputs": [],
   "source": [
    "def binned_cyGlobal5(S, lat, lon):\n",
    "    '''\n",
    "    Calculate the binned array for the mean value within 5X5 degree Bin Boxes in global REGION\n",
    "    '''\n",
    "\n",
    "    XX, YY  = np.meshgrid(lon, lat, indexing='xy')\n",
    "    #..Global region from 90S 90N\n",
    "    x_range  = np.arange(0., 364, 5.)   #..number:73\n",
    "    y_range  = np.arange(-90., 90, 5.)   #..(37)\n",
    "    \n",
    "    xbins, ybins = len(x_range), len(y_range)\n",
    "    \n",
    "    S_binned_array  = np.zeros((S.shape[0],ybins,xbins))\n",
    "    \n",
    "    for i in np.arange(S.shape[0]):\n",
    "        S_time_step  = S[i,:,:]\n",
    "        \n",
    "        #..find and subtract the missing points\n",
    "        ind =  np.isnan(S[i,:,:])==False\n",
    "        S_binned_time , xedge, yedge, binnumber  = stats.binned_statistic_2d(XX[ind].ravel(),YY[ind].ravel(), values = S_time_step[ind].ravel(),\n",
    "                                                                            statistic ='mean', bins=[xbins, ybins], expand_binnumbers =True)\n",
    "        \n",
    "        S_binned_array[i,:,:] = S_binned_time.T\n",
    "    \n",
    "    return S_binned_array\n",
    "\n"
   ]
  },
  {
   "cell_type": "code",
   "execution_count": 11,
   "id": "4fa9605f-fc19-44b2-9e90-535068128439",
   "metadata": {},
   "outputs": [],
   "source": [
    "#..set are-mean range and define function\n",
    "\n",
    "x_range  = np.arange(0., 364, 5.)   #..number:73\n",
    "s_range  = np.arange(-90., 90, 5.) + 2.5 #..(36)\n",
    "\n",
    "y_range  = np.arange(-85, -35., 5.) +2.5\n",
    "\n",
    "\n",
    "def area_mean(S, lats, lons):\n",
    "    \n",
    "    '''..Only for 1 final value..\n",
    "    '''\n",
    "    GMT  = np.zeros(S.shape[0])\n",
    "    for i in np.arange(S.shape[0]):\n",
    "        \n",
    "        S_time_step  = S[i,:,:]\n",
    "        #..remove the NaN value within the 2-D array and squeeze it to 1-D:\n",
    "        ind1 =  np.isnan(S_time_step)==False\n",
    "        #..weighted by cos(lat):\n",
    "        xlon, ylat  = np.meshgrid(lons, lats)\n",
    "\n",
    "        weighted_metrix1 =  np.cos(np.deg2rad(ylat))   #..metrix has the same shape as tas/lwp, its value = cos(lat)\n",
    "        toc1  = np.sum(weighted_metrix1[ind1])   #..total of cos(lat metrix) for global region\n",
    "\n",
    "        S_weighted =  S_time_step[ind1] * weighted_metrix1[ind1] /  toc1\n",
    "        \n",
    "        GMT[i]  = np.sum(S_weighted)\n",
    "    \n",
    "    return GMT\n"
   ]
  },
  {
   "cell_type": "code",
   "execution_count": 12,
   "id": "c566d36c-1c24-49c2-83a6-f98cfac9fc44",
   "metadata": {},
   "outputs": [
    {
     "name": "stdout",
     "output_type": "stream",
     "text": [
      "(150, 36, 73)\n",
      "(150, 10, 73)\n",
      "(500, 10, 73)\n"
     ]
    }
   ],
   "source": [
    "#..abrupt4X Calculate 5*5 binned array for variables (LWP, CCFs) in Sounthern Ocean regions:\n",
    "\n",
    "lat_array  = lats[latsi1:latsi0]\n",
    "lon_array  = lons\n",
    "lat_array1 =  lats\n",
    "\n",
    "\n",
    "Tg_yr_bin_abr  = binned_cyGlobal5(Tg_abr, lat_array1, lon_array)\n",
    "SST_yr_bin_abr  = binned_cySouthOcean5(SST_yr_abr, lat_array, lon_array)\n",
    "\n",
    "p_e_yr_bin_abr  = binned_cySouthOcean5(p_e_yr_abr, lat_array, lon_array)\n",
    "LWP_yr_bin_abr  = binned_cySouthOcean5(LWP_yr_abr, lat_array, lon_array)   #..shape in (150,10,73)\n",
    "\n",
    "LTS_yr_bin_abr  = binned_cySouthOcean5(LTS_yr_abr, lat_array, lon_array)\n",
    "SUB_yr_bin_abr  = binned_cySouthOcean5(SUB_yr_abr, lat_array, lon_array)\n",
    "TWP_yr_bin_abr  = binned_cySouthOcean5(TWP_yr_abr, lat_array, lon_array)\n",
    "IWP_yr_bin_abr  = binned_cySouthOcean5(IWP_yr_abr, lat_array, lon_array)\n",
    "print(Tg_yr_bin_abr.shape)   #..(150, 36, 73)\n",
    "\n",
    "PRW_yr_bin_abr  = binned_cySouthOcean5(PRW_yr_abr, lat_array, lon_array)\n",
    "print(PRW_yr_bin_abr.shape)   #..(150,10,73)\n",
    "\n",
    "#..piC Calculate 5*5 binned array for variables(LWP, ccfs) in Sounthern Ocean region:\n",
    "\n",
    "gmt_yr_bin  = binned_cyGlobal5(Tg, lat_array1, lon_array)\n",
    "SST_yr_bin  = binned_cySouthOcean5(SST_yr, lat_array, lon_array)\n",
    "\n",
    "p_e_yr_bin  = binned_cySouthOcean5(p_e_yr, lat_array, lon_array)\n",
    "LWP_yr_bin  = binned_cySouthOcean5(LWP_yr, lat_array, lon_array)   #..shape in(500,10,73)\n",
    "\n",
    "LTS_yr_bin  = binned_cySouthOcean5(LTS_yr, lat_array, lon_array)\n",
    "SUB_yr_bin  = binned_cySouthOcean5(SUB_yr, lat_array, lon_array)\n",
    "TWP_yr_bin  = binned_cySouthOcean5(TWP_yr, lat_array, lon_array)\n",
    "IWP_yr_bin  = binned_cySouthOcean5(IWP_yr, lat_array, lon_array)\n",
    "\n",
    "PRW_yr_bin  = binned_cySouthOcean5(PRW_yr, lat_array, lon_array)\n",
    "print(SUB_yr_bin.shape)   #..(500,10, 73)\n",
    "\n"
   ]
  },
  {
   "cell_type": "code",
   "execution_count": 13,
   "id": "573abf5b-cf4f-482a-aeed-d44f9f28328b",
   "metadata": {},
   "outputs": [
    {
     "name": "stdout",
     "output_type": "stream",
     "text": [
      "(1800, 10, 73)\n",
      "(6000, 10, 73)\n"
     ]
    }
   ],
   "source": [
    "#..abrupt4X Calculate 5*5 binned array for MONTHLY variables (LWP, CCFs) in Sounthern Ocean regions:\n",
    "\n",
    "lat_array  = lats[latsi1:latsi0]\n",
    "lon_array  = lons\n",
    "lat_array1 =  lats\n",
    "\n",
    "\n",
    "Tg_mon_bin_abr  = binned_cyGlobal5(gmt_abr, lat_array1, lon_array)\n",
    "SST_mon_bin_abr  = binned_cySouthOcean5(SST_abr[:, latsi1:latsi0,:], lat_array, lon_array)\n",
    "\n",
    "p_e_mon_bin_abr  = binned_cySouthOcean5(MC_abr[:, latsi1:latsi0,:], lat_array, lon_array)\n",
    "LWP_mon_bin_abr  = binned_cySouthOcean5(LWP_abr[:, latsi1:latsi0,:], lat_array, lon_array)   #..shape in (1800,10,73)\n",
    "\n",
    "LTS_mon_bin_abr  = binned_cySouthOcean5(LTS_e_abr[:, latsi1:latsi0,:], lat_array, lon_array)\n",
    "SUB_mon_bin_abr  = binned_cySouthOcean5(Subsidence_abr[:, latsi1:latsi0,:], lat_array, lon_array)\n",
    "TWP_mon_bin_abr  = binned_cySouthOcean5(Twp_abr[:, latsi1:latsi0,:], lat_array, lon_array)\n",
    "IWP_mon_bin_abr  = binned_cySouthOcean5(Iwp_abr[:, latsi1:latsi0,:], lat_array, lon_array)\n",
    "PRW_mon_bin_abr  = binned_cySouthOcean5(prw_abr[:, latsi1:latsi0,:], lat_array, lon_array)\n",
    "\n",
    "print(PRW_mon_bin_abr.shape)   #..(1800,10,73)\n",
    "\n",
    "#..piC Calculate 5*5 binned array for MONTHLY variables(LWP, ccfs) in Sounthern Ocean region:\n",
    "\n",
    "gmt_mon_bin  = binned_cyGlobal5(gmt, lat_array1, lon_array)\n",
    "SST_mon_bin  = binned_cySouthOcean5(SST[:, latsi1:latsi0,:], lat_array, lon_array)\n",
    "\n",
    "p_e_mon_bin  = binned_cySouthOcean5(MC[:, latsi1:latsi0,:], lat_array, lon_array)\n",
    "LWP_mon_bin  = binned_cySouthOcean5(LWP[:, latsi1:latsi0,:], lat_array, lon_array)\n",
    "\n",
    "LTS_mon_bin  = binned_cySouthOcean5(LTS_e[:, latsi1:latsi0,:], lat_array, lon_array)\n",
    "SUB_mon_bin  = binned_cySouthOcean5(Subsidence[:, latsi1:latsi0,:], lat_array, lon_array)\n",
    "TWP_mon_bin  = binned_cySouthOcean5(Twp[:, latsi1:latsi0,:], lat_array, lon_array)\n",
    "IWP_mon_bin  = binned_cySouthOcean5(Iwp[:, latsi1:latsi0,:], lat_array, lon_array)\n",
    "PRW_mon_bin  = binned_cySouthOcean5(prw_pi[:, latsi1:latsi0,:], lat_array, lon_array)\n",
    "\n",
    "print(PRW_mon_bin.shape)  #..shape in (6000,10,73)\n",
    "\n"
   ]
  },
  {
   "cell_type": "code",
   "execution_count": 14,
   "id": "40c4d795-1763-47d5-ad0f-dd3498548683",
   "metadata": {},
   "outputs": [
    {
     "name": "stdout",
     "output_type": "stream",
     "text": [
      "nan nan\n",
      "(1, 344358)\n",
      "(array([   148,    149,    150, ..., 364997, 364998, 364999]),)\n",
      "(246897,)\n",
      "(97461,)\n",
      "[0. 0. 0. ... 0. 0. 0.] (array([    43,     44,     45, ..., 364471, 364472, 364478]),)\n",
      "(365000,)\n"
     ]
    }
   ],
   "source": [
    "#..piC Ravel binned array / Standardized data ARRAY:\n",
    "\n",
    "TR_sst     = 260.\n",
    "\n",
    "\n",
    "LWP_predi  = LWP_yr_bin.flatten()\n",
    "#LWP_predi =  (LWP_predi - np.mean(LWP_predi) )/np.std(LWP_predi)\n",
    "\n",
    "SST_predi  = SST_yr_bin.flatten()\n",
    "#SST_predi =  (SST_predi - np.mean(SST_predi)) /np.std(SST_predi)\n",
    "\n",
    "p_e_predi =  p_e_yr_bin.flatten()\n",
    "#p_e_predi =  (p_e_predi - np.mean(p_e_predi)) /np.std(p_e_predi)\n",
    "\n",
    "LTS_predi  = LTS_yr_bin.flatten()\n",
    "#LTS_predi =  (LTS_predi - np.nanmean(LTS_predi)) /np.nanstd(LTS_predi)\n",
    "\n",
    "SUB_predi  = SUB_yr_bin.flatten()\n",
    "#SUB_predi  = (SUB_predi - np.mean(SUB_predi)) /np.std(SUB_predi)\n",
    "\n",
    "TWP_predi  = TWP_yr_bin.flatten()\n",
    "\n",
    "PRW_predi  = PRW_yr_bin.flatten()\n",
    "\n",
    "print(np.min(LTS_predi), np.max(LTS_predi))\n",
    "\n",
    "#..Subtract 'nan' in data, 72270 -> 66598points(5672)\n",
    "\n",
    "ind1 = np.isnan(LTS_predi) ==False \n",
    "ind_true = np.nonzero(ind1 ==True)\n",
    "ind_flase = np.nonzero(ind1 ==False)   #..Sign the the indexing into YB, or YB value will have a big changes\n",
    "\n",
    "print(np.array(ind_true).shape)\n",
    "#print(np.argwhere(np.isnan(LTS_predi[ind_true])==True))\n",
    "\n",
    "#..Split data points with skew Temperaturr LE/Smaller than.270:342864->171805 points//260K: 229126 points//250: 263390 points//240: 295026 \n",
    "#..273.15K: 151973 // 280K: 69327 \n",
    "\n",
    "ind_sst_le  = np.nonzero(SST_predi >=TR_sst)\n",
    "print(ind_sst_le)\n",
    "ind2  = np.intersect1d(ind_true, ind_sst_le)\n",
    "print(ind2.shape)   #..31258 points\n",
    "\n",
    "ind_sst_st  = np.nonzero(SST_predi < TR_sst)\n",
    "#print(np.array(ind_sst_st).shape)\n",
    "ind3  = np.intersect1d(ind_true, ind_sst_st)\n",
    "print(ind3.shape)   #..35340 points\n",
    "\n",
    "\n",
    "#..sign LWP single array's value\n",
    "YB =  np.full((365000), 0.0)   #..LWP with no LTS \n",
    "\n",
    "YB[ind_flase] =  LWP_predi[ind_flase]\n",
    "\n",
    "print(YB, ind_flase)\n",
    "print(YB.shape)\n"
   ]
  },
  {
   "cell_type": "code",
   "execution_count": 15,
   "id": "6685c32e-0e7e-42a9-b368-896de2a123b1",
   "metadata": {},
   "outputs": [
    {
     "name": "stdout",
     "output_type": "stream",
     "text": [
      "[0.00264281 0.01184581 0.00211291 0.02474202]\n",
      "-0.7201541208574301\n",
      "[0.00744302 0.02221814 0.00303928 0.16460026]\n",
      "-2.0159433648034537\n",
      "[ 0.00035908  0.00405652 -0.00014171  0.01124822]\n",
      "-0.08215499472448129\n"
     ]
    }
   ],
   "source": [
    "#..piC  Multiple linear regreesion of Liquid Water Path(lwp) to CCFs :\n",
    "\n",
    "#..Remove abnormal and missing_values, train model with TR sst>=270K\n",
    "\n",
    "X  = np.array([SST_predi[ind2], p_e_predi[ind2], LTS_predi[ind2], SUB_predi[ind2]])\n",
    "\n",
    "regr1 = linear_model.LinearRegression()\n",
    "result1 = regr1.fit(X.T, LWP_predi[ind2])   #..LWP\n",
    "\n",
    "print(result1.coef_)\n",
    "print(result1.intercept_)\n",
    "\n",
    "#..for test\n",
    "a = np.load('sensitivity_4ccfs_ipsl260.npy')\n",
    "b = np.load('intercept1_ipsl260.npy')\n",
    "print(a)\n",
    "print(b)\n",
    "\n",
    "#..Remove abnormal and missing values , train model with TR sst <260.K\n",
    "XX = np.array([SST_predi[ind3], p_e_predi[ind3], LTS_predi[ind3], SUB_predi[ind3]])\n",
    "\n",
    "regr2=linear_model.LinearRegression()\n",
    "result2 = regr2.fit(XX.T, LWP_predi[ind3])   #..LWP\n",
    "\n",
    "\n",
    "print(result2.coef_)\n",
    "print(result2.intercept_)\n",
    "\n",
    "#..Save them...\n",
    "\n",
    "aeffi  = result1.coef_\n",
    "aint   = result1.intercept_\n",
    "\n",
    "beffi  = result2.coef_\n",
    "bint   = result2.intercept_"
   ]
  },
  {
   "cell_type": "code",
   "execution_count": 67,
   "id": "6d1f2eff-e2e6-4377-b8e8-bfdd3dcfab3e",
   "metadata": {},
   "outputs": [
    {
     "name": "stdout",
     "output_type": "stream",
     "text": [
      "(4, 97975)\n",
      "(4, 246640)\n",
      "5.060793244444011e-05 0.0071139252487245124\n",
      "0.8012741851123857\n",
      "0.04592019147949704 0.0459201914794973\n",
      "0.004774277365439307 0.004774277365439299\n"
     ]
    }
   ],
   "source": [
    "print(XX.shape)\n",
    "print(X.shape)\n",
    "\n",
    "sstlelwp_predi = np.dot(aeffi.reshape(1, -1),  X)  + aint\n",
    "sstltlwp_predi = np.dot(beffi.reshape(1, -1), XX)  + bint   #..less than Threshold SST\n",
    "\n",
    "#print(LWP_predi[ind3])\n",
    "#print( sstltlwp_predi)\n",
    "\n",
    "MSE =  mean_squared_error(LWP_predi[ind2].reshape(-1,1), sstlelwp_predi.reshape(-1,1))\n",
    "print(MSE, np.sqrt(MSE))\n",
    "\n",
    "R_2  = r2_score(LWP_predi[ind3].reshape(-1, 1), sstltlwp_predi.reshape(-1, 1))\n",
    "print(R_2)\n",
    "\n",
    "\n",
    "print( np.mean(LWP_predi[ind2]), np.mean(sstlelwp_predi))\n",
    "print( np.mean(LWP_predi[ind3]), np.mean(sstltlwp_predi))"
   ]
  },
  {
   "cell_type": "code",
   "execution_count": 16,
   "id": "5f007c01-4eaa-4c20-97fc-0a478b16200e",
   "metadata": {
    "tags": []
   },
   "outputs": [
    {
     "name": "stdout",
     "output_type": "stream",
     "text": [
      "(1, 103660) (103660,)\n",
      "(109500,)\n",
      "(81519,)\n",
      "(22141,)\n",
      "(array([    43,     44,     45, ..., 108972, 108977, 108978]),)\n"
     ]
    }
   ],
   "source": [
    "#..abrupt4X  Calculate the 300* 10* 73 points metric for 'p-e'/other CCFs and LWP and GMT:\n",
    "#..ravel binned arrays\n",
    "\n",
    "LWP_bin_pred_abr  = LWP_yr_bin_abr.flatten()   #..shape in 500* 10* 73 =  365000 values\n",
    "\n",
    "SST_bin_pred_abr  = SST_yr_bin_abr.flatten()\n",
    "p_e_bin_pred_abr  = p_e_yr_bin_abr.flatten()\n",
    "LTS_bin_pred_abr  = LTS_yr_bin_abr.flatten()\n",
    "SUB_bin_pred_abr  = SUB_yr_bin_abr.flatten()\n",
    "\n",
    "TWP_bin_pred_abr  = TWP_yr_bin_abr.flatten()\n",
    "IWP_bin_pred_abr  = IWP_yr_bin_abr.flatten()\n",
    "PRW_bin_pred_abr  = PRW_yr_bin_abr.flatten()\n",
    "\n",
    "#print(p_e_bin_pred_abr.shape)   #..Tg:(500, 36, 73 ); LWP&CCFs:(500, 10, 73)=365000 points\n",
    "\n",
    "\n",
    "#..Use 'np.repeat' and 'np.tile' to reproduce the GMT Array:\n",
    "GMT_abr  = area_mean(Tg_yr_bin_abr, s_range, x_range)   #..ALL in shape : (500)\n",
    "gmt_bin_pred_abr  = GMT_abr.repeat(730)\n",
    "#print(gmt_bin_pred_abr)\n",
    "#print(GMT_abr)\n",
    "\n",
    "#..Subtract 'nan' in data, 109500 -> 101428 points (103703?)\n",
    "\n",
    "\n",
    "ind1_abr =  np.isnan(LTS_bin_pred_abr)==False\n",
    "ind_true_abr =  np.nonzero(ind1_abr ==True )   #..Sign the the indexing of 'Non-NaN' in LTS_yr_bin\n",
    "print(np.array(ind_true_abr).shape, LTS_bin_pred_abr[ind_true_abr].shape)\n",
    "\n",
    "ind_false_abr =  np.nonzero(ind1_abr ==False)   #..Sign the the indexing of 'NaN'\n",
    "#LTS_yr_bin_abr[ind_false_abr] = 0.0\n",
    "print(ind1_abr.shape)\n",
    "\n",
    "\n",
    "#..Subtract data with Skew Temperature larger than 240K, 206114 ->240:190116/ 250:173001points//260:155890 points//270: 134074 points\n",
    "#..273.15K: 124477 points/ 280K: 73879 points\n",
    "\n",
    "ind_sst_le_abr  = np.nonzero(SST_bin_pred_abr >= TR_sst)\n",
    "\n",
    "ind2_abr  = np.intersect1d(ind_true_abr, ind_sst_le_abr)\n",
    "print(ind2_abr.shape)   #..67194 points\n",
    "\n",
    "\n",
    "ind_sst_st_abr  = np.nonzero(SST_bin_pred_abr < TR_sst)\n",
    "ind3_abr =  np.intersect1d(ind_true_abr, ind_sst_st_abr)\n",
    "print(ind3_abr.shape)  #..34234 points\n",
    "\n",
    "\n",
    "#..sign values for LWP_abr single array\n",
    "YB_abr   =  np.full((109500), 0.0)#LWP_bin_pred_abr\n",
    "#print(YB_abr.shape, YB_abr)\n",
    "\n",
    "print(ind_false_abr)\n",
    "\n",
    "YB_abr[ind_false_abr] = LWP_bin_pred_abr[ind_false_abr]\n"
   ]
  },
  {
   "cell_type": "code",
   "execution_count": 17,
   "id": "2a81eb63-4d61-4b74-9e5d-26cf599e2e9b",
   "metadata": {},
   "outputs": [
    {
     "name": "stdout",
     "output_type": "stream",
     "text": [
      "[0.00636801 0.00660045 0.00637848 ... 0.110903   0.08406479 0.06199097]\n",
      "[0.00574535 0.00618525 0.00657015 ... 0.07530404 0.04007512 0.03068184]\n",
      "7.953221935649291e-05 0.008918083838835163   0.9212672179782668\n"
     ]
    }
   ],
   "source": [
    "#..do the regression\n",
    "#..model1: .le. >= TR_sst\n",
    "dXx_predi  = np.array(SST_bin_pred_abr[ind2_abr]*aeffi[0] + p_e_bin_pred_abr[ind2_abr]*aeffi[1] + LTS_bin_pred_abr[ind2_abr]*aeffi[2] +SUB_bin_pred_abr[ind2_abr]*aeffi[3])\n",
    "dXx_predi  = dXx_predi + aint\n",
    "#print(dXx_predi, dXx_predi.shape)\n",
    "\n",
    "#..model2: .lt. <  TR_sst\n",
    "Dx0_predi  = np.array(SST_bin_pred_abr[ind3_abr]*beffi[0] + p_e_bin_pred_abr[ind3_abr]*beffi[1] + LTS_bin_pred_abr[ind3_abr]*beffi[2] +SUB_bin_pred_abr[ind3_abr]*beffi[3])\n",
    "#dXx_predi_area_yr =  area_mean(dXx_predi, y_range, x_range)\n",
    "\n",
    "Dx0_predi  =Dx0_predi + bint\n",
    "#print(Dx0_predi, Dx0_predi.shape)\n",
    "\n",
    "\n",
    "#..put them in LWP_predi_bin_abr in (1, 219000)\n",
    "YB_abr[ind2_abr]  = dXx_predi\n",
    "YB_abr[ind3_abr]  = Dx0_predi\n",
    "print(YB_abr)\n",
    "LWP_predi_bin_abr   =  np.array(YB_abr).reshape(150, 10, 73)\n",
    "print(LWP_bin_pred_abr)\n",
    "\n",
    "#..Also put pi-C test-pred data in LWP_predi_bin_pi\n",
    "dXx_predi_pi  = np.array(SST_predi[ind2]*aeffi[0] + p_e_predi[ind2]*aeffi[1] + LTS_predi[ind2]*aeffi[2] + SUB_predi[ind2]*aeffi[3])\n",
    "dXx_predi_pi  = dXx_predi_pi + aint\n",
    "\n",
    "Dx0_predi_pi  =  np.array(SST_predi[ind3]*beffi[0] + p_e_predi[ind3]*beffi[1] + LTS_predi[ind3]*beffi[2] + SUB_predi[ind3]*beffi[3])\n",
    "Dx0_predi_pi  = Dx0_predi_pi + bint\n",
    "\n",
    "\n",
    "YB[ind2]  = dXx_predi_pi\n",
    "YB[ind3]  = Dx0_predi_pi\n",
    "#print(YB)\n",
    "\n",
    "LWP_predi_bin_pi   =  np.array(YB).reshape(500, 10, 73)   #..LWP\n",
    "\n",
    "\n",
    "#..Examine model result\n",
    "\n",
    "#print(ind2_abr, dXx_predi[2], LWP_bin_pred_abr[335])\n",
    "\n",
    "#print(ind3_abr, YB_abr[335])\n",
    "\n",
    "MSE_abr =  mean_squared_error(YB_abr.reshape(-1,1), LWP_bin_pred_abr.reshape(-1,1))\n",
    "R_2_abr  = r2_score(LWP_bin_pred_abr.reshape(-1, 1), YB_abr.reshape(-1, 1))\n",
    "print(MSE_abr, np.sqrt(MSE_abr), ' ', R_2_abr)\n"
   ]
  },
  {
   "cell_type": "code",
   "execution_count": 18,
   "id": "961c419d-d38a-41eb-a926-5d8b9a229179",
   "metadata": {},
   "outputs": [
    {
     "name": "stdout",
     "output_type": "stream",
     "text": [
      "[0.00352541]\n",
      "-0.9702658090219677\n",
      "[1.1596923] [0.05218629] [0.04395786] [0.00016948]\n"
     ]
    }
   ],
   "source": [
    "#..abrupt4XCO2     linear regreesion of Cloud Controlling Factors (CCFs) to GMT:\n",
    "\n",
    "regr3 = linear_model.LinearRegression()\n",
    "re_LWP = regr3.fit(gmt_bin_pred_abr[ind2_abr].reshape(-1,1), LWP_bin_pred_abr[ind2_abr])\n",
    "\n",
    "print(re_LWP.coef_)\n",
    "print(re_LWP.intercept_)\n",
    "\n",
    "\n",
    "regr4 = linear_model.LinearRegression()\n",
    "regr5 = linear_model.LinearRegression()\n",
    "regr6 = linear_model.LinearRegression()\n",
    "\n",
    "regr7 = linear_model.LinearRegression()\n",
    "\n",
    "re_SST = regr4.fit(gmt_bin_pred_abr[ind2_abr].reshape(-1,1), SST_bin_pred_abr[ind2_abr])\n",
    "re_p_e = regr5.fit(gmt_bin_pred_abr[ind2_abr].reshape(-1,1), p_e_bin_pred_abr[ind2_abr])\n",
    "re_LTS = regr6.fit(gmt_bin_pred_abr[ind2_abr].reshape(-1,1), LTS_bin_pred_abr[ind2_abr])\n",
    "\n",
    "re_SUB = regr7.fit(gmt_bin_pred_abr[ind2_abr].reshape(-1,1), SUB_bin_pred_abr[ind2_abr])\n",
    "print(re_SST.coef_, re_p_e.coef_, re_LTS.coef_, re_SUB.coef_ )\n",
    "\n",
    "dX_dTg  = [re_SST.coef_, re_p_e.coef_, re_LTS.coef_, re_SUB.coef_]\n",
    "\n",
    "#..[ind2_abr]!!"
   ]
  },
  {
   "cell_type": "code",
   "execution_count": 71,
   "id": "f8dc80e0-bfe6-48e6-ad26-93c3244c0196",
   "metadata": {
    "tags": []
   },
   "outputs": [],
   "source": [
    "#..abrupt4XCO2: - do area mean\n",
    "#need auto: Watch out the year\n",
    "LWP_area_yr  = area_mean(LWP_yr_bin_abr, y_range, x_range)\n",
    "SST_area_yr  = area_mean(SST_yr_bin_abr, y_range, x_range)\n",
    "p_e_area_yr  = area_mean(p_e_yr_bin_abr, y_range, x_range)\n",
    "LTS_area_yr  = area_mean(LTS_yr_bin_abr, y_range, x_range)\n",
    "SUB_area_yr  = area_mean(SUB_yr_bin_abr, y_range, x_range)\n",
    "\n",
    "IWP_area_yr  = area_mean(IWP_yr_bin_abr, y_range, x_range)\n",
    "TWP_area_yr  = area_mean(TWP_yr_bin_abr, y_range, x_range)\n",
    "\n",
    "##. predict value\n",
    "LWP_pre_yr   = area_mean(LWP_predi_bin_abr, y_range, x_range)\n",
    "\n",
    "#..pi-Control  do area mean\n",
    "LWP_area_yr_pi  = area_mean(LWP_yr_bin, y_range, x_range)\n",
    "\n",
    "##. predict value\n",
    "LWP_pre_yr_pi   = area_mean(LWP_predi_bin_pi, y_range, x_range)\n",
    "\n",
    "GMT_pi  = area_mean(gmt_yr_bin, s_range, x_range)\n",
    "\n",
    "\n",
    "Yrs  =  np.arange(650)\n",
    "#print(Yrs)\n",
    "\n",
    "GMT  = np.full((650), 0.000)\n",
    "GMT[0:500]  = GMT_pi\n",
    "GMT[500:]   = GMT_abr\n",
    "\n",
    "\n",
    "LWP_pre  = np.full((650), 0.0)\n",
    "LWP_area_yr_whole  = np.full((650), 0.0)\n",
    "\n",
    "LWP_pre[0:500]  = LWP_pre_yr_pi\n",
    "LWP_pre[500:]  = LWP_pre_yr\n",
    "\n",
    "LWP_area_yr_whole[0:500] = LWP_area_yr_pi\n",
    "LWP_area_yr_whole[500:]  = LWP_area_yr\n",
    "\n",
    "\n",
    "\n",
    "#print(LWP_pre_yr)\n",
    "\n",
    "#print(LWP_area_yr, np.sqrt(mean_squared_error(LWP_pre_yr.reshape(-1,1), LWP_area_yr.reshape(-1,1)))) #..,' ', TWP_pre_yr_pi)\n",
    "\n",
    "#print(GMT)"
   ]
  },
  {
   "cell_type": "code",
   "execution_count": 32,
   "id": "bb9046e8-4c40-4290-9356-e52c41d1e22a",
   "metadata": {},
   "outputs": [
    {
     "data": {
      "image/png": "[encoded data removed]",
      "text/plain": [
       "<Figure size 748.8x525.6 with 1 Axes>"
      ]
     },
     "metadata": {
      "needs_background": "light"
     },
     "output_type": "display_data"
    }
   ],
   "source": [
    "#..abrupt+piC Plot:\n",
    "\n",
    "\n",
    "\n",
    "fig2  = plt.figure(figsize = (10.4, 7.3))\n",
    "ax2  = plt.axes()\n",
    "\n",
    "plt.scatter(GMT, LWP_area_yr_whole, label='$LWP_{abrupt4XCO2} |.TR_sst.265K$')\n",
    "\n",
    "#print(np.array(GMT).shape)\n",
    "\n",
    "plt.plot(GMT, LWP_pre, \"g\", label='$aLWP/aX_{picontrol}*{dX_{abrupt4XCO2}/dGMT}|.TR_sst.265K$')\n",
    "#plt.ylim((0.105, 0.121))\n",
    "273.15\n",
    "\n",
    "plt.xlabel('GMT')\n",
    "plt.ylabel('LWP')\n",
    "plt.title(\"Liquld Water Path in pi + abrupt4XCO2 experiement and the predicted value with pi-Control Sensitivity in IPSL-CM6A-lr\")\n",
    "\n",
    "plt.legend()\n",
    "\n",
    "plt.savefig(\"Linear_Regression_IPSL-CM6A-LR_abrupt_bin model_ seventh(gengzheng)_265K_ overyrs_.png\")\n",
    "\n"
   ]
  },
  {
   "cell_type": "code",
   "execution_count": 33,
   "id": "8b7ad8f3-4cb7-4f76-a5a5-065d6106b7dc",
   "metadata": {
    "jupyter": {
     "source_hidden": true
    },
    "tags": []
   },
   "outputs": [
    {
     "data": {
      "text/plain": [
       "'\\n\\nfig3  = plt.figure(figsize = (10.4, 7.3))\\nax3  = plt.axes()\\n\\nplt.scatter(GMT, LWP_meanarea_yr_whole, label=\\'$LWP_{abrupt4XCO2} |.TR_sst.270.0K$\\')\\n\\nprint(np.array(Yrs).shape)\\n\\nplt.plot(GMT, LWP_meanpre, \"g\", label=\\'$aLWP/aX_{picontrol}*{dX_{abrupt4XCO2}/dGMT}|.TR_sst.270.0K$\\')\\n\\n\\nplt.xlabel(\\'GMT\\')\\nplt.ylabel(\\'LWP\\')\\nplt.title(\"Real-Mean: Liquid Water Path in pi+ abrupt4XCO2 experiement with the predicted value in IPSL-CM6A-LR\")  #..!!\\n\\n\\nplt.legend()\\n\\n#plt.savefig(\"Linear_Regression_IPSLabrupt_bin model_ fifthth Merge Regresion270K.png\")\\n'"
      ]
     },
     "execution_count": 33,
     "metadata": {},
     "output_type": "execute_result"
    }
   ],
   "source": [
    "#..abrupt+piC Plot (real-mean):\n",
    "\n",
    "'''\n",
    "\n",
    "fig3  = plt.figure(figsize = (10.4, 7.3))\n",
    "ax3  = plt.axes()\n",
    "\n",
    "plt.scatter(GMT, LWP_meanarea_yr_whole, label='$LWP_{abrupt4XCO2} |.TR_sst.270.0K$')\n",
    "\n",
    "print(np.array(Yrs).shape)\n",
    "\n",
    "plt.plot(GMT, LWP_meanpre, \"g\", label='$aLWP/aX_{picontrol}*{dX_{abrupt4XCO2}/dGMT}|.TR_sst.270.0K$')\n",
    "\n",
    "\n",
    "plt.xlabel('GMT')\n",
    "plt.ylabel('LWP')\n",
    "plt.title(\"Real-Mean: Liquid Water Path in pi+ abrupt4XCO2 experiement with the predicted value in IPSL-CM6A-LR\")  #..!!\n",
    "\n",
    "\n",
    "plt.legend()\n",
    "\n",
    "#plt.savefig(\"Linear_Regression_IPSLabrupt_bin model_ fifthth Merge Regresion270K.png\")\n",
    "'''\n",
    "\n"
   ]
  },
  {
   "cell_type": "code",
   "execution_count": 34,
   "id": "4a80eeb8-5f4b-464e-b5e0-6b761137649c",
   "metadata": {
    "tags": []
   },
   "outputs": [
    {
     "name": "stdout",
     "output_type": "stream",
     "text": [
      "[[0.00335421]]\n"
     ]
    }
   ],
   "source": [
    "np.array(dX_dTg).reshape(-1,1)\n",
    "\n",
    "dLWP_DTg  = np.dot(aeffi.reshape(1,-1), np.array(dX_dTg).reshape(-1,1) )\n",
    "print(dLWP_DTg)"
   ]
  },
  {
   "cell_type": "code",
   "execution_count": 35,
   "id": "9b25dcc1-b042-49e6-9f9b-0b06ed043c01",
   "metadata": {},
   "outputs": [],
   "source": [
    "def binned_skewTamnW(XX,  YY,  S, lat_Y, lon_X):\n",
    "    '''\n",
    "    Calculate the binned array for the mean value of LWP over T_skew-Wvp bidimensional axes\n",
    "    '''\n",
    "\n",
    "    #XX, YY  = np.meshgrid(lon_X, lat_Y, indexing='xy')\n",
    "    #..split Tskew as N1 parts, Wvp as N2 parts ..\n",
    "    #x_range  = np.arange(0., 364, 5.)   #..number:73\n",
    "    #y_range  = np.arange(-90., 90, 5.)   #..(37)\n",
    "    \n",
    "    xbins, ybins = len(lon_X)-1, len(lat_Y)-1\n",
    "    \n",
    "    S_binned_array  = np.zeros((S.shape[0], ybins, xbins))   #..Take as output\n",
    "    \n",
    "    for i in np.arange(S.shape[0]):\n",
    "        \n",
    "        XX_time_step  = XX[i,:,:]\n",
    "        YY_time_step  = YY[i,:,:]\n",
    "        S_time_step  = S[i,:,:]\n",
    "\n",
    "        \n",
    "        #..find and subtract the missing points\n",
    "        ind =  np.isnan(S[i,:,:]* XX[i,:,:]* YY[i,:,:])== False  #..Ind_true\n",
    "        S_binned_time , xedge, yedge, binnumber  = stats.binned_statistic_2d(XX_time_step[ind].ravel(),YY_time_step[ind].ravel(), values = S_time_step[ind].ravel(),\n",
    "                                                                            statistic ='mean', bins=[lon_X, lat_Y], expand_binnumbers =True)\n",
    "        \n",
    "        S_binned_array[i,:,:] = S_binned_time.T\n",
    "    \n",
    "    return S_binned_array\n",
    "\n"
   ]
  },
  {
   "cell_type": "code",
   "execution_count": 36,
   "id": "76a04b69-df40-4bf9-b675-98d5e11d25f6",
   "metadata": {
    "jupyter": {
     "source_hidden": true
    },
    "tags": []
   },
   "outputs": [
    {
     "name": "stdout",
     "output_type": "stream",
     "text": [
      "(1, 0)\n",
      "[[ 0.12   nan  3.2   0.46 -1.6    nan]\n",
      " [  nan  0.2   3.4    nan   nan -1.2 ]]\n"
     ]
    },
    {
     "data": {
      "text/plain": [
       "array([0.545, 0.8  ])"
      ]
     },
     "execution_count": 36,
     "metadata": {},
     "output_type": "execute_result"
    }
   ],
   "source": [
    "pro_yr = LWP_yr * SST_yr * PRW_yr\n",
    "\n",
    "\n",
    "ind_nan_e = np.isnan(pro_yr.flatten())==True\n",
    "ind_flase_e =  np.array(np.nonzero(ind_nan_e ==True))\n",
    "print(ind_flase_e.shape)\n",
    "\n",
    "A = [0.12, np.nan, 3.2,0.46, -1.6, np.nan]\n",
    "B = [np.nan, 0.2,  3.4, np.nan, np.nan, -1.2]\n",
    "c = np.array([[0.12, np.nan, 3.2, 0.46, -1.6, np.nan], [np.nan, 0.2,  3.4, np.nan, np.nan, -1.2]])\n",
    "print(c)\n",
    "np.nanmean(c, axis=1)\n"
   ]
  },
  {
   "cell_type": "code",
   "execution_count": 56,
   "id": "2013c41a-2e23-4036-81f3-1e83a3c77e5f",
   "metadata": {
    "tags": []
   },
   "outputs": [
    {
     "name": "stdout",
     "output_type": "stream",
     "text": [
      "(1800, 12, 25)\n",
      "(12, 25)\n",
      "(1, 187)\n",
      "AxesSubplot(0.125,0.125;0.775x0.755)\n"
     ]
    },
    {
     "name": "stderr",
     "output_type": "stream",
     "text": [
      "/glade/u/ssg/ch/usr/jupyterhub/envs/npl-3.7.9/dav/lib/python3.7/site-packages/ipykernel_launcher.py:16: RuntimeWarning: Mean of empty slice\n",
      "  app.launch_new_instance()\n"
     ]
    },
    {
     "data": {
      "text/plain": [
       "<matplotlib.colorbar.Colorbar at 0x2b9b59117f90>"
      ]
     },
     "execution_count": 56,
     "metadata": {},
     "output_type": "execute_result"
    },
    {
     "data": {
      "image/png": "[encoded data removed]",
      "text/plain": [
       "<Figure size 864x432 with 2 Axes>"
      ]
     },
     "metadata": {
      "needs_background": "light"
     },
     "output_type": "display_data"
    }
   ],
   "source": [
    "#plt.figure(figsize=(9,6))\n",
    "\n",
    "#..y and x are SST and water vapor path at some points, Perspectively\n",
    "#y, x = np.mgrid[slice(0., 80. + dy, dy), slice(240.,290.+ dx, dx)]\n",
    "y = np.linspace(np.nanpercentile(PRW_mon_bin_abr, 5), np.nanpercentile(PRW_mon_bin_abr, 95), 13)\n",
    "#print(y)\n",
    "#print(np.linspace(np.nanpercentile(SST_predi, 5), np.nanpercentile(SST_predi, 96), 50))\n",
    "x = np.linspace(np.nanpercentile(SST_mon_bin_abr, 5), np.nanpercentile(SST_mon_bin_abr, 95), 26)\n",
    "#print(x.shape, y.shape)\n",
    "\n",
    "\n",
    "LWP_bin_Tskew_wvp =  binned_skewTamnW(SST_mon_bin_abr, PRW_mon_bin_abr, LWP_mon_bin_abr, y, x)\n",
    "\n",
    "print(LWP_bin_Tskew_wvp.shape)\n",
    "\n",
    "anmean_LWP_bin_Tskew_wvp  = np.nanmean(LWP_bin_Tskew_wvp, axis=0)\n",
    "print(anmean_LWP_bin_Tskew_wvp.shape)\n",
    "\n",
    "ind_nan = np.isnan(anmean_LWP_bin_Tskew_wvp.flatten())==True\n",
    "ind_flase =  np.array(np.nonzero(ind_nan==True))\n",
    "print(ind_flase.shape)\n",
    "\n",
    "#print(np.linspace(np.nanpercentile(SST_bin_pred_abr, 5), np.nanpercentile(SST_bin_pred_abr, 96), 50))\n",
    "'''\n",
    "LWP_pi = np.zeros((161, 51))\n",
    "LWP_abr  = np.zeros((161,51))\n",
    "\n",
    "for i in np.arange(161):\n",
    "    for j in np.arange(57):\n",
    "        \n",
    "        if SST_predi >= (240.+j*1.0) and SST_predi < (240.+(j+1)*1.0) and PRW_predi > (0.+ 0.5*i) and PRW_predi < (0+ 0.5 *(i+1)) :\n",
    "'''        \n",
    "\n",
    "## begins for plotting Pcolormesh \n",
    "\n",
    "X, Y  = np.meshgrid(x, y)\n",
    "#print(X.shape, Y.shape, anmean_LWP_bin_Tskew_wvp.shape)\n",
    "\n",
    "#..defined a proper LWP ticks within its range\n",
    "\n",
    "levels = np.arange(0.02, 0.18, 0.005)\n",
    "\n",
    "#..pick the desired colormap\n",
    "cmap = plt.get_cmap('YlOrRd')\n",
    "\n",
    "norm = BoundaryNorm(levels, ncolors= cmap.N, extend='both')\n",
    "\n",
    "\n",
    "\n",
    "#.. what will the pcolormesh plot looks like?\n",
    "fig,ax  = plt.subplots(figsize =(12,6))\n",
    "\n",
    "print(ax)\n",
    "\n",
    "im  = ax.pcolormesh(x, y, anmean_LWP_bin_Tskew_wvp, cmap=cmap, norm= norm)\n",
    "ax.set_title('abr CNRM-ESM2-1: bin points LWP amount with T_skin and Moisture amount \\n (monthly-mean, bin points)', fontsize = 14)\n",
    "ax.set_xlabel('Skin Temperature(SST), K', fontsize=11)\n",
    "#ax.set_ylabel('Water Vapor Path, ' + r'$Kg*m^{-2}$', fontsize=10)\n",
    "\n",
    "ax.set_ylabel('Moisture convergence, ' + r'$mm*day^{-1}$')\n",
    "fig.colorbar(im, ax= ax, label=\"Liquid Water Path, \" + r\"$Kg*m^{-2}}$\")\n",
    "\n",
    "\n",
    "#plt.savefig('pcolor-CNRM-ESM2-1 _ LWP_Tskew_ WVP_ abr| monbin.png')"
   ]
  },
  {
   "cell_type": "code",
   "execution_count": null,
   "id": "3d583059-078e-4877-9907-3dc391222887",
   "metadata": {},
   "outputs": [],
   "source": []
  },
  {
   "cell_type": "code",
   "execution_count": null,
   "id": "3b5b0de3-7d48-422a-96d8-1d93b5c4c9b8",
   "metadata": {},
   "outputs": [],
   "source": []
  },
  {
   "cell_type": "code",
   "execution_count": 83,
   "id": "d1889933-be4c-48b1-bff8-cbb727f9c2e5",
   "metadata": {},
   "outputs": [
    {
     "name": "stdout",
     "output_type": "stream",
     "text": [
      "(25, 12)\n",
      "(1, 216)\n",
      "(13, 26) (13, 26) (12, 25)\n",
      "AxesSubplot(0.125,0.125;0.775x0.755)\n"
     ]
    },
    {
     "data": {
      "text/plain": [
       "<matplotlib.colorbar.Colorbar at 0x2b9b5bf9f510>"
      ]
     },
     "execution_count": 83,
     "metadata": {},
     "output_type": "execute_result"
    },
    {
     "data": {
      "image/png": "[encoded data removed]",
      "text/plain": [
       "<Figure size 864x432 with 2 Axes>"
      ]
     },
     "metadata": {
      "needs_background": "light"
     },
     "output_type": "display_data"
    }
   ],
   "source": [
    "#plt.figure(figsize=(9,6))   #.. Try to use: LWP|abr_(last 50 years) - pi(99 yrs average) with Tskew\\ Water Vapor Path\n",
    "\n",
    "PRW_abr_last50 =  np.nanmean(prw_abr[-50:,:,:], axis=0)\n",
    "LWP_abr_last50 =  np.nanmean(LWP_abr[-50:,:,:], axis=0)\n",
    "SST_abr_last50 =  np.nanmean(SST_abr[-50:,:,:], axis=0)\n",
    "p_e_abr_last50 =  np.nanmean(MC_abr[-50:,:,:], axis=0)\n",
    "#print(SST_abr_last50)\n",
    "\n",
    "\n",
    "PRW_pi_aver   =   np.nanmean(prw_pi[:,:,:], axis=0)\n",
    "#print(PRW_pi_aver.shape)\n",
    "LWP_pi_aver   =   np.nanmean(LWP[:,:,:], axis=0)\n",
    "SST_pi_aver   =   np.nanmean(SST[:,:,:], axis=0)\n",
    "p_e_pi_aver   =   np.nanmean(MC[:,:,:], axis=0)\n",
    "\n",
    "diff_LWP =  LWP_abr_last50 -LWP_pi_aver\n",
    "diff_SST =  SST_abr_last50 - SST_pi_aver\n",
    "\n",
    "diff_PRW =  PRW_abr_last50 - PRW_pi_aver\n",
    "\n",
    "#..y and x are SST and Water vapor path at some points, Perspectively\n",
    "y = np.linspace(np.nanpercentile(PRW_pi_aver, 0), np.nanpercentile(PRW_pi_aver, 100), 13)\n",
    "#print(y)\n",
    "#print(np.linspace(np.nanpercentile(SST_predi, 5), np.nanpercentile(SST_predi, 96), 50))\n",
    "x = np.linspace(np.nanpercentile(SST_pi_aver, 0), np.nanpercentile(SST_pi_aver, 100), 26)\n",
    "#print(x.shape, y.shape)\n",
    "\n",
    "\n",
    "\n",
    "\n",
    "LWP_bin_Tskew_wvp, xedge, yedge, binnumber  = stats.binned_statistic_2d(SST_pi_aver.ravel(), PRW_pi_aver.ravel(), values = diff_LWP.ravel(),\n",
    "                                                                           statistic ='mean', bins=[x, y], expand_binnumbers =True)\n",
    "print(LWP_bin_Tskew_wvp.shape)\n",
    "LWP_bin_Tskew_wvp  = LWP_bin_Tskew_wvp.T\n",
    "\n",
    "ind_nan = np.isnan(LWP_bin_Tskew_wvp.flatten())==True\n",
    "ind_flase =  np.array(np.nonzero(ind_nan==True))\n",
    "print(ind_flase.shape)\n",
    "\n",
    "\n",
    "\n",
    "## begins for plotting Pcolormesh\n",
    "\n",
    "X, Y  = np.meshgrid(x, y)\n",
    "print(X.shape, Y.shape, anmean_LWP_bin_Tskew_wvp.shape)\n",
    "\n",
    "#..defined a proper LWP ticks within its range\n",
    "\n",
    "levels = np.arange(-0.050, 0.050, 0.0005)\n",
    "\n",
    "#..pick the desired colormap\n",
    "cmap = plt.get_cmap('seismic')\n",
    "\n",
    "norm = BoundaryNorm(levels, ncolors= cmap.N, extend='both')\n",
    "\n",
    "\n",
    "#.. what will the pcolormesh plot looks like?\n",
    "fig,ax  = plt.subplots(figsize =(12,6))\n",
    "\n",
    "print(ax)\n",
    "\n",
    "im  = ax.pcolormesh(x, y, LWP_bin_Tskew_wvp[:, :], cmap=cmap, norm= norm)\n",
    "ax.set_title('LWP| (abr_last 50yrs- pi_avr_all) with T_skin and Moisture \\n (monthly-mean, Raw points).png', fontsize = 16)\n",
    "ax.set_xlabel('Skin-Temperature(SST), K', fontsize=11)\n",
    "#ax.set_ylabel('Water Vapor Path, ' + r'$Kg*m^{-2}$', fontsize=10)\n",
    "\n",
    "ax.set_ylabel('Moisture convergence, ' + r'$mm*day^{-1}$')\n",
    "fig.colorbar(im, ax= ax, label=\"Liquid Water Path, \" + r\"$Kg*m^{-2}}$\")\n",
    "\n",
    "\n",
    "#plt.savefig('pcolor-CNRM-ESM2-1: LWP_abr(last50)-pi_ Tskew(pi)_ WVP(pi).png')\n",
    "\n"
   ]
  },
  {
   "cell_type": "code",
   "execution_count": null,
   "id": "146a33f6-5e66-4e51-8666-913bd634ed86",
   "metadata": {},
   "outputs": [],
   "source": []
  }
 ],
 "metadata": {
  "kernelspec": {
   "display_name": "NPL-3.7.9",
   "language": "python",
   "name": "npl-3.7.9"
  },
  "language_info": {
   "codemirror_mode": {
    "name": "ipython",
    "version": 3
   },
   "file_extension": ".py",
   "mimetype": "text/x-python",
   "name": "python",
   "nbconvert_exporter": "python",
   "pygments_lexer": "ipython3",
   "version": "3.7.9"
  }
 },
 "nbformat": 4,
 "nbformat_minor": 5
}
